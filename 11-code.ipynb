{
  "cells": [
    {
      "cell_type": "markdown",
      "metadata": {
        "id": "2i2zsd6mIQsS"
      },
      "source": [
        "# English Accent Detection: A Comparison of Audio, Spectrogram and Text Classification Method using Transformers\n",
        "##### Group 11\n",
        "##### Candidate Numbers:  31948, 24692, 24155\n",
        "##### Date: 29 April 2024"
      ]
    },
    {
      "cell_type": "markdown",
      "metadata": {},
      "source": [
        "Data Source: https://huggingface.co/datasets/WillHeld/accented_common_voice/tree/refs%2Fconvert%2Fparquet/default/partial-train"
      ]
    },
    {
      "cell_type": "markdown",
      "metadata": {
        "id": "XwgKh_We5koZ"
      },
      "source": [
        "# Audio Array Classification"
      ]
    },
    {
      "cell_type": "code",
      "execution_count": 35,
      "metadata": {
        "id": "EBENY8O9aXq1"
      },
      "outputs": [],
      "source": [
        "%%capture\n",
        "! pip install datasets evaluate\n",
        "! pip install accelerate\n",
        "! pip install wandb"
      ]
    },
    {
      "cell_type": "code",
      "execution_count": 2,
      "metadata": {
        "colab": {
          "base_uri": "https://localhost:8080/"
        },
        "id": "eFRMfah7_gMF",
        "outputId": "aa0ed67f-4b53-4a88-90b5-2cd488a92948"
      },
      "outputs": [
        {
          "name": "stdout",
          "output_type": "stream",
          "text": [
            "Drive already mounted at /content/drive; to attempt to forcibly remount, call drive.mount(\"/content/drive\", force_remount=True).\n"
          ]
        }
      ],
      "source": [
        "import os, sys\n",
        "from google.colab import drive\n",
        "drive.mount('/content/drive')\n",
        "import pandas as pd\n",
        "import numpy as np\n",
        "import os\n",
        "\n",
        "from datasets import Dataset, Audio, load_dataset\n",
        "from sklearn.model_selection import train_test_split\n",
        "import pyarrow.parquet as pq\n",
        "from transformers import Wav2Vec2Processor\n",
        "import random\n",
        "from sklearn.utils.class_weight import compute_class_weight\n",
        "from transformers import AutoModelForAudioClassification, TrainingArguments, Trainer, AutoFeatureExtractor\n",
        "import evaluate\n",
        "from datasets import Dataset, Audio\n",
        "import torch\n",
        "from transformers import EarlyStoppingCallback, IntervalStrategy\n",
        "from datasets import load_from_disk\n",
        "import wandb\n",
        "wandb.login()\n",
        "wandb.init(project=\"accents_classification\")"
      ]
    },
    {
      "cell_type": "code",
      "execution_count": null,
      "metadata": {
        "id": "VMfQ_lFSAmCe"
      },
      "outputs": [],
      "source": [
        "# Change directory to data location\n",
        "os.chdir(\"/content/drive/My Drive/ST311\")"
      ]
    },
    {
      "cell_type": "code",
      "execution_count": null,
      "metadata": {
        "id": "Vh1tbwh_Bz-1"
      },
      "outputs": [],
      "source": [
        "# Load data\n",
        "df0 = pq.read_table(source= '0000.parquet').to_pandas()\n",
        "df1 = pq.read_table(source= '0001.parquet').to_pandas()\n",
        "df2 = pq.read_table(source= '0002.parquet').to_pandas()\n",
        "df3 = pq.read_table(source= '0003.parquet').to_pandas()\n",
        "df4 = pq.read_table(source= '0004.parquet').to_pandas()\n",
        "df5 = pq.read_table(source= '0005.parquet').to_pandas()\n",
        "df6 = pq.read_table(source= '0006.parquet').to_pandas()\n",
        "df7 = pq.read_table(source= '0007.parquet').to_pandas()\n",
        "data = pd.concat([df0,df1,df2,df3,df4,df5,df6,df7])\n",
        "data.reset_index(drop=True, inplace=True)"
      ]
    },
    {
      "cell_type": "code",
      "execution_count": null,
      "metadata": {
        "id": "DNDRqShSsgmm"
      },
      "outputs": [],
      "source": [
        "data = data.drop(['path'], axis=1)\n",
        "data = data.drop(['up_votes'], axis=1)\n",
        "data = data.drop(['down_votes'], axis=1)\n",
        "data = data.drop(['age'], axis=1)\n",
        "data = data.drop(['gender'], axis=1)\n",
        "\n",
        "#train test split\n",
        "train_data, test_data = train_test_split(data, test_size=0.2, random_state=42)"
      ]
    },
    {
      "cell_type": "code",
      "execution_count": null,
      "metadata": {
        "id": "xNCWJ9xq1cPn"
      },
      "outputs": [],
      "source": [
        "data.value_counts()"
      ]
    },
    {
      "cell_type": "code",
      "execution_count": 14,
      "metadata": {
        "colab": {
          "base_uri": "https://localhost:8080/",
          "height": 0
        },
        "id": "KtLIRtcblm3Q",
        "outputId": "fcd09ec3-d2f3-4119-e23b-94ea000d6b75"
      },
      "outputs": [
        {
          "name": "stdout",
          "output_type": "stream",
          "text": [
            "7678 6142 1536\n"
          ]
        }
      ],
      "source": [
        "print(len(data), len(train_data), len(test_data))"
      ]
    },
    {
      "cell_type": "code",
      "execution_count": null,
      "metadata": {
        "colab": {
          "base_uri": "https://localhost:8080/"
        },
        "id": "UmMIdLen5PyO",
        "outputId": "67eda976-c662-4398-b564-d9c7474c7a13"
      },
      "outputs": [
        {
          "data": {
            "text/plain": [
              "accents                                 United States English\n",
              "sentence                              They are on the ground.\n",
              "audio       {'array': [2.2737367544323206e-12, 9.094947017...\n",
              "Name: 7482, dtype: object"
            ]
          },
          "execution_count": 115,
          "metadata": {},
          "output_type": "execute_result"
        }
      ],
      "source": [
        "test_data.iloc[1529]"
      ]
    },
    {
      "cell_type": "code",
      "execution_count": null,
      "metadata": {
        "colab": {
          "base_uri": "https://localhost:8080/"
        },
        "id": "kZ2quywqCufm",
        "outputId": "0cb0cf68-189e-4459-d570-024916022c6c"
      },
      "outputs": [
        {
          "data": {
            "text/plain": [
              "accents\n",
              "United States English                                670\n",
              "India and South Asia (India, Pakistan, Sri Lanka)    225\n",
              "England English                                      203\n",
              "Filipino                                             136\n",
              "Australian English                                   135\n",
              "Canadian English                                     100\n",
              "Irish English                                         39\n",
              "Scottish English                                      28\n",
              "Name: count, dtype: int64"
            ]
          },
          "execution_count": 6,
          "metadata": {},
          "output_type": "execute_result"
        }
      ],
      "source": [
        "test_data['accents'].value_counts()"
      ]
    },
    {
      "cell_type": "code",
      "execution_count": null,
      "metadata": {
        "colab": {
          "base_uri": "https://localhost:8080/"
        },
        "id": "NOsHB2csDN3h",
        "outputId": "389a46ff-551c-4a27-c8e1-5a5298766827"
      },
      "outputs": [
        {
          "data": {
            "text/plain": [
              "accents\n",
              "United States English                                2577\n",
              "India and South Asia (India, Pakistan, Sri Lanka)     963\n",
              "England English                                       891\n",
              "Australian English                                    528\n",
              "Filipino                                              471\n",
              "Canadian English                                      395\n",
              "Irish English                                         226\n",
              "Scottish English                                       91\n",
              "Name: count, dtype: int64"
            ]
          },
          "execution_count": 7,
          "metadata": {},
          "output_type": "execute_result"
        }
      ],
      "source": [
        "train_data['accents'].value_counts()"
      ]
    },
    {
      "cell_type": "code",
      "execution_count": null,
      "metadata": {
        "colab": {
          "base_uri": "https://localhost:8080/"
        },
        "id": "MvOIMrOKdui6",
        "outputId": "abcb291c-d0fb-4bad-8984-60a35583b6e4"
      },
      "outputs": [
        {
          "data": {
            "text/plain": [
              "{'array': array([ 0.00000000e+00,  2.18278728e-11,  1.45519152e-11, ...,\n",
              "        -4.17522733e-06, -4.00739464e-06,  1.34157199e-06]),\n",
              " 'path': './accents/datasets/common_voice_16_1/en/clips/common_voice_en_20275899.mp3',\n",
              " 'sampling_rate': 16000}"
            ]
          },
          "execution_count": 8,
          "metadata": {},
          "output_type": "execute_result"
        }
      ],
      "source": [
        "test_data.iloc[0,2]"
      ]
    },
    {
      "cell_type": "code",
      "execution_count": null,
      "metadata": {
        "colab": {
          "base_uri": "https://localhost:8080/"
        },
        "id": "zhdzMG0aKqLu",
        "outputId": "9bea7aac-ef68-4e2a-e1d4-a47d4bf374a8"
      },
      "outputs": [
        {
          "name": "stdout",
          "output_type": "stream",
          "text": [
            "[1.45407197 1.94367089 0.86167228 1.63004246 0.79724818 3.39712389\n",
            " 8.43681319 0.29792394]\n"
          ]
        }
      ],
      "source": [
        "weights = compute_class_weight(class_weight = \"balanced\", classes = np.unique(data['accents']), y = train_data['accents'])\n",
        "print(weights)"
      ]
    },
    {
      "cell_type": "code",
      "execution_count": null,
      "metadata": {
        "id": "nh5Kl7wX4B4l"
      },
      "outputs": [],
      "source": [
        "train_ds = Dataset.from_pandas(train_data)\n",
        "test_ds = Dataset.from_pandas(test_data)"
      ]
    },
    {
      "cell_type": "code",
      "execution_count": null,
      "metadata": {
        "colab": {
          "base_uri": "https://localhost:8080/",
          "height": 81,
          "referenced_widgets": [
            "1149bd70715247f58006558fbbcb0d90",
            "2307c010e33947d2b7f1a6f57a72bf74",
            "9c31e362d99e4f93aeb2034b8e2b63a8",
            "af37f9dd798d4ee6a40074b2745c4c04",
            "22c2e67ed5ac41efa2aef926231a81c0",
            "50c9317f8e3e4badbd270d6ebd1de50d",
            "2125e07a42a64d21939b4e3983f7e5b1",
            "0b7813b7ce8f43d7abb324d0fbe0637b",
            "ecda8ba129c24cfb93bab9a544bce898",
            "87c57a59348d444995d929e9678174a8",
            "41c98f51581749adbadfdc640527838c",
            "6f12fbf96cf04c468ba5554965dc0da4",
            "ad772621145b44ab83bd7836aeaa2820",
            "bc7cdfbd54b94ca7bd6c26ec798cd6b3",
            "bd3fd70e89db4fad91e5c9b9beb00c62",
            "cde318c65bed40438bada63b453e0c2c",
            "15ef90dd0d52498b90a8313219dffd8f",
            "ad513c9802644f2f86210027ed67c09e",
            "b5005e5f68fc45e7aa569f8a8bb0294d",
            "a05aac3025274fb399f81c532260f9fe",
            "90ab7dbbc766456f9056d7c6ecfc9fae",
            "b2d4b4626f5e4360a490fbea84573ca7"
          ]
        },
        "id": "Z7eNWpXhxOeT",
        "outputId": "994cc2dc-7d6d-4343-efee-f8eedd9ca0bd"
      },
      "outputs": [
        {
          "data": {
            "application/vnd.jupyter.widget-view+json": {
              "model_id": "1149bd70715247f58006558fbbcb0d90",
              "version_major": 2,
              "version_minor": 0
            },
            "text/plain": [
              "Casting to class labels:   0%|          | 0/6142 [00:00<?, ? examples/s]"
            ]
          },
          "metadata": {},
          "output_type": "display_data"
        },
        {
          "data": {
            "application/vnd.jupyter.widget-view+json": {
              "model_id": "6f12fbf96cf04c468ba5554965dc0da4",
              "version_major": 2,
              "version_minor": 0
            },
            "text/plain": [
              "Casting to class labels:   0%|          | 0/1536 [00:00<?, ? examples/s]"
            ]
          },
          "metadata": {},
          "output_type": "display_data"
        }
      ],
      "source": [
        "train_ds = train_ds.class_encode_column(\"accents\")\n",
        "test_ds = test_ds.class_encode_column(\"accents\")"
      ]
    },
    {
      "cell_type": "markdown",
      "metadata": {
        "id": "Ju2juWCA1JdL"
      },
      "source": [
        "20% 80% split\\\n",
        "accents column类型转换了"
      ]
    },
    {
      "cell_type": "markdown",
      "metadata": {
        "id": "n7bFTlzXyDDB"
      },
      "source": [
        "## Audio Classification without Spectrogram"
      ]
    },
    {
      "cell_type": "code",
      "execution_count": null,
      "metadata": {
        "id": "Zol7E3mCxhLz"
      },
      "outputs": [],
      "source": [
        "train_ds = train_ds.remove_columns(\"sentence\")\n",
        "test_ds = test_ds.remove_columns(\"sentence\")"
      ]
    },
    {
      "cell_type": "code",
      "execution_count": null,
      "metadata": {
        "id": "rWRtIxJAyS27"
      },
      "outputs": [],
      "source": [
        "# labels = accents_ds[\"train\"].features[\"accents\"].names\n",
        "# label2id, id2label = dict(), dict()\n",
        "# for i, label in enumerate(labels):\n",
        "#     label2id[label] = str(i)\n",
        "#     id2label[str(i)] = label"
      ]
    },
    {
      "cell_type": "code",
      "execution_count": null,
      "metadata": {
        "id": "pC_SW-vUPKyO"
      },
      "outputs": [],
      "source": [
        "label2id = {'Australian English': '0',\n",
        " 'Canadian English': '1',\n",
        " 'England English': '2',\n",
        " 'Filipino': '3',\n",
        " 'India and South Asia (India, Pakistan, Sri Lanka)': '4',\n",
        " 'Irish English': '5',\n",
        " 'Scottish English': '6',\n",
        " 'United States English': '7'}\n",
        "id2label = {'0': 'Australian English',\n",
        " '1': 'Canadian English',\n",
        " '2': 'England English',\n",
        " '3': 'Filipino',\n",
        " '4': 'India and South Asia (India, Pakistan, Sri Lanka)',\n",
        " '5': 'Irish English',\n",
        " '6': 'Scottish English',\n",
        " '7': 'United States English'}"
      ]
    },
    {
      "cell_type": "code",
      "execution_count": 10,
      "metadata": {
        "colab": {
          "base_uri": "https://localhost:8080/",
          "height": 244,
          "referenced_widgets": [
            "64f1fe0e684341be8c252c11cb6af4ab",
            "32e9735e446c4455b6c3f5760f5938cc",
            "41a0e61227244c1db751eaf19b9c280a",
            "f7a8a44e79c94bc6b138141d9eb8df7f",
            "30d761f1277040c6b345f3c3efcb510a",
            "2cf6707d1adf4941a496e50ed3672e14",
            "90a8b780a436417db5fdfa066bd0d8b6",
            "4995b322d1bf441e81ed4bdf85abb204",
            "87511b6c9514415ba3ed2b270ac82fea",
            "6442efd91f5d48b3983b1c3d784725a7",
            "65872e976ec941199a31c830af7677bd",
            "2a3ab95bf69545cbb2b53e933d71b39d",
            "3c610f3e9bef4854acf8e5ddd114d288",
            "04ca3d6ad66a4d1698a3ad79acc7c0d3",
            "1af6d45c279a4eac9b981823c0813383",
            "7ddc065a84134dd38aa3011754485759",
            "8cc894bb81434379b7bf7e69830c498e",
            "cf5206e927164d68b0dc6004c8aba85a",
            "b92c07a1415640069275b6a6dc54c51d",
            "9c566700b95c4624aeaf3c75ffeef923",
            "6b29c34840ba4e46957141fab0d0ccc0",
            "77527dccdbb84c8180fe27cf940b5133"
          ]
        },
        "id": "1UsCYerV2OF2",
        "outputId": "3e622a03-7636-49b7-f503-1a1243099f29"
      },
      "outputs": [
        {
          "name": "stderr",
          "output_type": "stream",
          "text": [
            "/usr/local/lib/python3.10/dist-packages/huggingface_hub/utils/_token.py:89: UserWarning: \n",
            "The secret `HF_TOKEN` does not exist in your Colab secrets.\n",
            "To authenticate with the Hugging Face Hub, create a token in your settings tab (https://huggingface.co/settings/tokens), set it as secret in your Google Colab and restart your session.\n",
            "You will be able to reuse this secret in all of your notebooks.\n",
            "Please note that authentication is recommended but still optional to access public models or datasets.\n",
            "  warnings.warn(\n"
          ]
        },
        {
          "data": {
            "application/vnd.jupyter.widget-view+json": {
              "model_id": "64f1fe0e684341be8c252c11cb6af4ab",
              "version_major": 2,
              "version_minor": 0
            },
            "text/plain": [
              "preprocessor_config.json:   0%|          | 0.00/159 [00:00<?, ?B/s]"
            ]
          },
          "metadata": {},
          "output_type": "display_data"
        },
        {
          "data": {
            "application/vnd.jupyter.widget-view+json": {
              "model_id": "2a3ab95bf69545cbb2b53e933d71b39d",
              "version_major": 2,
              "version_minor": 0
            },
            "text/plain": [
              "config.json:   0%|          | 0.00/1.84k [00:00<?, ?B/s]"
            ]
          },
          "metadata": {},
          "output_type": "display_data"
        },
        {
          "name": "stderr",
          "output_type": "stream",
          "text": [
            "/usr/local/lib/python3.10/dist-packages/transformers/configuration_utils.py:363: UserWarning: Passing `gradient_checkpointing` to a config initialization is deprecated and will be removed in v5 Transformers. Using `model.gradient_checkpointing_enable()` instead, or if you are using the `Trainer` API, pass `gradient_checkpointing=True` in your `TrainingArguments`.\n",
            "  warnings.warn(\n"
          ]
        }
      ],
      "source": [
        "feature_extractor = AutoFeatureExtractor.from_pretrained(\"facebook/wav2vec2-base\")"
      ]
    },
    {
      "cell_type": "code",
      "execution_count": 11,
      "metadata": {
        "colab": {
          "base_uri": "https://localhost:8080/",
          "height": 0
        },
        "id": "Fz-TOI9EkEmU",
        "outputId": "7f33610f-ded6-40a6-8d94-47a234f7b82e"
      },
      "outputs": [
        {
          "data": {
            "text/plain": [
              "Wav2Vec2FeatureExtractor {\n",
              "  \"do_normalize\": true,\n",
              "  \"feature_extractor_type\": \"Wav2Vec2FeatureExtractor\",\n",
              "  \"feature_size\": 1,\n",
              "  \"padding_side\": \"right\",\n",
              "  \"padding_value\": 0.0,\n",
              "  \"return_attention_mask\": false,\n",
              "  \"sampling_rate\": 16000\n",
              "}"
            ]
          },
          "execution_count": 11,
          "metadata": {},
          "output_type": "execute_result"
        }
      ],
      "source": [
        "feature_extractor"
      ]
    },
    {
      "cell_type": "code",
      "execution_count": null,
      "metadata": {
        "id": "5W3gxDNW7qvz"
      },
      "outputs": [],
      "source": [
        "def transform_audio(example):\n",
        "    array = np.array(example['audio']['array'], dtype=np.float32)\n",
        "    sampling_rate = example['audio']['sampling_rate']  # Already set correctly, just referencing it\n",
        "    return {'audio': {'array': array, 'sampling_rate': sampling_rate}}"
      ]
    },
    {
      "cell_type": "code",
      "execution_count": null,
      "metadata": {
        "colab": {
          "base_uri": "https://localhost:8080/",
          "height": 81,
          "referenced_widgets": [
            "0385eba5bc0f46d1a33740c44f9bd14a",
            "9ab5e92c887c47248215b82a5bea1742",
            "31ec384a50e64ff29b07b1072eab36ff",
            "e84f4d3143654b278a0723c8365deb39",
            "37875e85e6d942148625cb0e4982da2a",
            "4f5d7a882b4c4f8097e380f522daa20b",
            "3378f99f877f4aa6a5536c3c9bb9f22f",
            "0deafdc49f674198981b09fde5adb998",
            "c81a9e26779144d39c7453ca217e57a8",
            "16d5ac02cb1e45029e270ea3807ba808",
            "9207c650cfcb4b81be470643dfef1f2f",
            "691eae46bdf74943bed414f3ceda1e0e",
            "5bfaddc3086449d98c732608dfd9fbf3",
            "a47a72ef0dd247d7a029c83c870d63a3",
            "02b1ce6ea63f49c3baecfcb1d8f71e98",
            "e35dc57765374a358a03583a58c14517",
            "1b12c859456143c5baa433e72ecd7ea8",
            "5c56e3dcbd4541dfb69ae6d0e7a2cf1e",
            "54cee7114f344c958877a34ecea802d3",
            "1c06d8da75c14dd9be34dabf46f6b141",
            "e9a07457133e4be190c188d2e4b31dc3",
            "13b86f8ff9ed44879a39377bd406d83e"
          ]
        },
        "id": "bPh4_T5aeCdn",
        "outputId": "1eba9b8b-45e6-4057-9ca8-d50387101a93"
      },
      "outputs": [
        {
          "data": {
            "application/vnd.jupyter.widget-view+json": {
              "model_id": "0385eba5bc0f46d1a33740c44f9bd14a",
              "version_major": 2,
              "version_minor": 0
            },
            "text/plain": [
              "Map:   0%|          | 0/6142 [00:00<?, ? examples/s]"
            ]
          },
          "metadata": {},
          "output_type": "display_data"
        },
        {
          "data": {
            "application/vnd.jupyter.widget-view+json": {
              "model_id": "691eae46bdf74943bed414f3ceda1e0e",
              "version_major": 2,
              "version_minor": 0
            },
            "text/plain": [
              "Map:   0%|          | 0/1536 [00:00<?, ? examples/s]"
            ]
          },
          "metadata": {},
          "output_type": "display_data"
        }
      ],
      "source": [
        "train_ds = train_ds.map(transform_audio)\n",
        "test_ds = test_ds.map(transform_audio)"
      ]
    },
    {
      "cell_type": "code",
      "execution_count": null,
      "metadata": {
        "id": "kSHxnYw337Mh"
      },
      "outputs": [],
      "source": [
        "train_ds = train_ds.cast_column(\"audio\", Audio(sampling_rate=16_000))\n",
        "test_ds = test_ds.cast_column(\"audio\", Audio(sampling_rate=16_000))"
      ]
    },
    {
      "cell_type": "code",
      "execution_count": null,
      "metadata": {
        "id": "Vp1z3Rs9-j6Z"
      },
      "outputs": [],
      "source": [
        "def preprocess_function(examples):\n",
        "    audio_arrays = [x[\"array\"] for x in examples[\"audio\"]]\n",
        "    inputs = feature_extractor(\n",
        "        audio_arrays, sampling_rate=feature_extractor.sampling_rate, max_length=160000, truncation=True\n",
        "    )\n",
        "\n",
        "    return inputs\n",
        "\n",
        "# Apply preprocessing\n",
        "train_ds = train_ds.map(preprocess_function, remove_columns=[\"audio\"], batched=True)\n",
        "test_ds = test_ds.map(preprocess_function, remove_columns=[\"audio\"], batched=True)\n",
        "\n",
        "# Rename 'accents' column to 'label'\n",
        "train_ds = train_ds.rename_column(\"accents\", \"label\")\n",
        "test_ds = test_ds.rename_column(\"accents\", \"label\")\n"
      ]
    },
    {
      "cell_type": "code",
      "execution_count": null,
      "metadata": {
        "colab": {
          "base_uri": "https://localhost:8080/",
          "height": 81,
          "referenced_widgets": [
            "47fa4744b2314463b3c3aa78b497ef28",
            "fba428e24f7844e9bd7d47cd7c576976",
            "6682258f24384a9a9b2b958c5c006ea6",
            "67d3b2c0b182441fb7f2371083474353",
            "8f53eec758d84ea7a087559b9a0c8304",
            "205aa07f78ad410c84dd7a5677a1c240",
            "daafc5ad09524b39ba20f1f541ee51cb",
            "0661ccf598ce46b69b817c0238616b75",
            "93860267d3f74fb187b86bd90270aca0",
            "0f514b77f2c74f4691714adb0aa11a27",
            "d28bc01928b54e5d91f0443b57456be2",
            "6f37fabb4b704d6c83ade41829fabbbc",
            "f8dafbab15004b4fa69afb8cd3ab0d56",
            "f578c4148b5d480285c1b1e52fd10f63",
            "3cb62019ca9e49cda11fe365f442f0f4",
            "1377df68be2d4d75847d3a86a732aae4",
            "c594cabe2e734cefbbf37fd3211f4c94",
            "d43c27208bf84166b343bb409ec0fa07",
            "8b99fc7a7d7546b3b9febdc1ffc2ab9f",
            "cbb682126a2643ae8a08d66aba61e309",
            "357de6d96f324d86b91b170b6149f021",
            "4b53bb229cbc465eab2c4ffcfa9bfb2b"
          ]
        },
        "id": "Vd93DcGHI9O6",
        "outputId": "42d6f3d5-ff94-466f-9aa4-e489a347c01a"
      },
      "outputs": [
        {
          "data": {
            "application/vnd.jupyter.widget-view+json": {
              "model_id": "47fa4744b2314463b3c3aa78b497ef28",
              "version_major": 2,
              "version_minor": 0
            },
            "text/plain": [
              "Saving the dataset (0/5 shards):   0%|          | 0/6142 [00:00<?, ? examples/s]"
            ]
          },
          "metadata": {},
          "output_type": "display_data"
        },
        {
          "data": {
            "application/vnd.jupyter.widget-view+json": {
              "model_id": "6f37fabb4b704d6c83ade41829fabbbc",
              "version_major": 2,
              "version_minor": 0
            },
            "text/plain": [
              "Saving the dataset (0/2 shards):   0%|          | 0/1536 [00:00<?, ? examples/s]"
            ]
          },
          "metadata": {},
          "output_type": "display_data"
        }
      ],
      "source": [
        "train_ds.save_to_disk(\"train_23\")\n",
        "test_ds.save_to_disk(\"test_23\")"
      ]
    },
    {
      "cell_type": "code",
      "execution_count": null,
      "metadata": {
        "id": "ibn4l-UFN2xd"
      },
      "outputs": [],
      "source": [
        "train_ds = load_from_disk(\"train_23\")\n",
        "test_ds = load_from_disk(\"test_23\")"
      ]
    },
    {
      "cell_type": "code",
      "execution_count": null,
      "metadata": {
        "id": "S0Ojul4g5UNX"
      },
      "outputs": [],
      "source": [
        "# accuracy = evaluate.load(\"accuracy\")\n",
        "# f1 = evaluate.load(\"f1\")\n",
        "# def compute_metrics(eval_pred):\n",
        "#     predictions = np.argmax(eval_pred.predictions, axis=1)\n",
        "#     return {\n",
        "#         'accuracy': accuracy.compute(predictions=predictions, references=eval_pred.label_ids),\n",
        "#         'f1': f1.compute(predictions=predictions, references=eval_pred.label_ids, average='weighted')\n",
        "#     }"
      ]
    },
    {
      "cell_type": "code",
      "execution_count": null,
      "metadata": {
        "id": "vjs479UbM6EZ"
      },
      "outputs": [],
      "source": [
        "accuracy = evaluate.load(\"accuracy\")\n",
        "f1 = evaluate.load(\"f1\")\n",
        "precision = evaluate.load(\"precision\")\n",
        "recall = evaluate.load(\"recall\")\n",
        "mcc = evaluate.load(\"matthews_correlation\")\n",
        "\n",
        "def compute_metrics(eval_pred):\n",
        "    predictions = np.argmax(eval_pred.predictions, axis=1)\n",
        "    references = eval_pred.label_ids\n",
        "    return {\n",
        "        'accuracy': accuracy.compute(predictions=predictions, references=references)['accuracy'],\n",
        "        'f1_weighted': f1.compute(predictions=predictions, references=references, average='weighted')['f1'],\n",
        "        'precision_weighted': precision.compute(predictions=predictions, references=references, average='weighted')['precision'],\n",
        "        'recall_weighted': recall.compute(predictions=predictions, references=references, average='weighted')['recall'],\n",
        "        'mcc': mcc.compute(predictions=predictions, references=references)['matthews_correlation']\n",
        "    }"
      ]
    },
    {
      "cell_type": "code",
      "execution_count": null,
      "metadata": {
        "colab": {
          "base_uri": "https://localhost:8080/"
        },
        "id": "POMGHlyrINcH",
        "outputId": "dc03d54a-f521-48b9-8090-6294a6692cc6"
      },
      "outputs": [
        {
          "name": "stderr",
          "output_type": "stream",
          "text": [
            "/usr/local/lib/python3.10/dist-packages/transformers/configuration_utils.py:363: UserWarning: Passing `gradient_checkpointing` to a config initialization is deprecated and will be removed in v5 Transformers. Using `model.gradient_checkpointing_enable()` instead, or if you are using the `Trainer` API, pass `gradient_checkpointing=True` in your `TrainingArguments`.\n",
            "  warnings.warn(\n",
            "Some weights of Wav2Vec2ForSequenceClassification were not initialized from the model checkpoint at facebook/wav2vec2-base and are newly initialized: ['classifier.bias', 'classifier.weight', 'projector.bias', 'projector.weight', 'wav2vec2.encoder.pos_conv_embed.conv.parametrizations.weight.original0', 'wav2vec2.encoder.pos_conv_embed.conv.parametrizations.weight.original1']\n",
            "You should probably TRAIN this model on a down-stream task to be able to use it for predictions and inference.\n"
          ]
        }
      ],
      "source": [
        "num_labels = 8\n",
        "model = AutoModelForAudioClassification.from_pretrained(\n",
        "    \"facebook/wav2vec2-base\", num_labels=num_labels, label2id=label2id, id2label=id2label\n",
        ")"
      ]
    },
    {
      "cell_type": "code",
      "execution_count": null,
      "metadata": {
        "id": "VZ7jFo6ZPr2m"
      },
      "outputs": [],
      "source": [
        "ordered_weights = [1.4475867269984917,\n",
        " 1.9388888888888889,\n",
        " 0.8772851919561243,\n",
        " 1.581136738056013,\n",
        " 0.8078703703703703,\n",
        " 3.621698113207547,\n",
        " 8.065126050420169,\n",
        " 0.2955805358792732]"
      ]
    },
    {
      "cell_type": "code",
      "execution_count": null,
      "metadata": {
        "id": "6ipMI39FNHlP"
      },
      "outputs": [],
      "source": [
        "classes = list(id2label.values())\n",
        "class_weights = dict(zip(classes, weights))\n",
        "print(class_weights)\n",
        "ordered_weights = [class_weights[x] for x in id2label.values()]"
      ]
    },
    {
      "cell_type": "code",
      "execution_count": null,
      "metadata": {
        "colab": {
          "base_uri": "https://localhost:8080/",
          "height": 627,
          "referenced_widgets": [
            "afa5ee4f1e1f4b608dbce560e837bfed",
            "502f1487421444b2aeadd0c56cbfb235",
            "ea1ff884dbc44b9591ecfee0ccd049ce",
            "4f0916657cd34f6897f5fa50ffed5ef3",
            "d4e021dcee8c4d45af4f1515150d23a7",
            "3519f95fb0674122b5ea3272da2843c8",
            "5902a95fdd0945eb99caaafe03e9c945",
            "623af4d60f6141fe8a461626912317fc"
          ]
        },
        "id": "T5ABskyd3dDO",
        "outputId": "8797233d-86d5-443a-a14d-77592320597b"
      },
      "outputs": [
        {
          "data": {
            "text/html": [
              "Finishing last run (ID:8cklz8mv) before initializing another..."
            ],
            "text/plain": [
              "<IPython.core.display.HTML object>"
            ]
          },
          "metadata": {},
          "output_type": "display_data"
        },
        {
          "data": {
            "application/vnd.jupyter.widget-view+json": {
              "model_id": "afa5ee4f1e1f4b608dbce560e837bfed",
              "version_major": 2,
              "version_minor": 0
            },
            "text/plain": [
              "VBox(children=(Label(value='0.002 MB of 0.002 MB uploaded\\r'), FloatProgress(value=1.0, max=1.0)))"
            ]
          },
          "metadata": {},
          "output_type": "display_data"
        },
        {
          "data": {
            "text/html": [
              "<style>\n",
              "    table.wandb td:nth-child(1) { padding: 0 10px; text-align: left ; width: auto;} td:nth-child(2) {text-align: left ; width: 100%}\n",
              "    .wandb-row { display: flex; flex-direction: row; flex-wrap: wrap; justify-content: flex-start; width: 100% }\n",
              "    .wandb-col { display: flex; flex-direction: column; flex-basis: 100%; flex: 1; padding: 10px; }\n",
              "    </style>\n",
              "<div class=\"wandb-row\"><div class=\"wandb-col\"><h3>Run history:</h3><br/><table class=\"wandb\"><tr><td>eval/accuracy</td><td>▁▁█</td></tr><tr><td>eval/f1_weighted</td><td>▁▁█</td></tr><tr><td>eval/loss</td><td>███▁</td></tr><tr><td>eval/mcc</td><td>▁▁█</td></tr><tr><td>eval/precision_weighted</td><td>▁▂█</td></tr><tr><td>eval/recall_weighted</td><td>▁▁█</td></tr><tr><td>eval/runtime</td><td>█▅▂▁</td></tr><tr><td>eval/samples_per_second</td><td>▁▄▇█</td></tr><tr><td>eval/steps_per_second</td><td>▁▄▇█</td></tr><tr><td>train/epoch</td><td>▁▁▂▃▄▆▆▇█</td></tr><tr><td>train/global_step</td><td>▁▁▂▁▂▃▄▅▆▆▇█</td></tr><tr><td>train/grad_norm</td><td>▂▂▁▂█▃▅█</td></tr><tr><td>train/learning_rate</td><td>▁▁▃▆██▇▇</td></tr><tr><td>train/loss</td><td>███▇▆▅▃▁</td></tr></table><br/></div><div class=\"wandb-col\"><h3>Run summary:</h3><br/><table class=\"wandb\"><tr><td>eval/accuracy</td><td>0.71354</td></tr><tr><td>eval/f1_weighted</td><td>0.7255</td></tr><tr><td>eval/loss</td><td>1.65135</td></tr><tr><td>eval/mcc</td><td>0.67784</td></tr><tr><td>eval/precision_weighted</td><td>0.82566</td></tr><tr><td>eval/recall_weighted</td><td>0.71354</td></tr><tr><td>eval/runtime</td><td>71.2861</td></tr><tr><td>eval/samples_per_second</td><td>21.547</td></tr><tr><td>eval/steps_per_second</td><td>0.673</td></tr><tr><td>train/epoch</td><td>1.45833</td></tr><tr><td>train/global_step</td><td>70</td></tr><tr><td>train/grad_norm</td><td>2.82574</td></tr><tr><td>train/learning_rate</td><td>2e-05</td></tr><tr><td>train/loss</td><td>1.3193</td></tr></table><br/></div></div>"
            ],
            "text/plain": [
              "<IPython.core.display.HTML object>"
            ]
          },
          "metadata": {},
          "output_type": "display_data"
        },
        {
          "data": {
            "text/html": [
              " View run <strong style=\"color:#cdcd00\">run_1</strong> at: <a href='https://wandb.ai/yiweizhou/accents_classification_28/runs/8cklz8mv' target=\"_blank\">https://wandb.ai/yiweizhou/accents_classification_28/runs/8cklz8mv</a><br/> View project at: <a href='https://wandb.ai/yiweizhou/accents_classification_28' target=\"_blank\">https://wandb.ai/yiweizhou/accents_classification_28</a><br/>Synced 5 W&B file(s), 0 media file(s), 0 artifact file(s) and 0 other file(s)"
            ],
            "text/plain": [
              "<IPython.core.display.HTML object>"
            ]
          },
          "metadata": {},
          "output_type": "display_data"
        },
        {
          "data": {
            "text/html": [
              "Find logs at: <code>/content/wandb/run-20240428_144952-8cklz8mv/logs</code>"
            ],
            "text/plain": [
              "<IPython.core.display.HTML object>"
            ]
          },
          "metadata": {},
          "output_type": "display_data"
        },
        {
          "data": {
            "text/html": [
              "Successfully finished last run (ID:8cklz8mv). Initializing new run:<br/>"
            ],
            "text/plain": [
              "<IPython.core.display.HTML object>"
            ]
          },
          "metadata": {},
          "output_type": "display_data"
        },
        {
          "data": {
            "text/html": [
              "Tracking run with wandb version 0.16.6"
            ],
            "text/plain": [
              "<IPython.core.display.HTML object>"
            ]
          },
          "metadata": {},
          "output_type": "display_data"
        },
        {
          "data": {
            "text/html": [
              "Run data is saved locally in <code>/content/wandb/run-20240428_151625-4w4gl03o</code>"
            ],
            "text/plain": [
              "<IPython.core.display.HTML object>"
            ]
          },
          "metadata": {},
          "output_type": "display_data"
        },
        {
          "data": {
            "text/html": [
              "Syncing run <strong><a href='https://wandb.ai/yiweizhou/accents_classification_28/runs/4w4gl03o' target=\"_blank\">run_2</a></strong> to <a href='https://wandb.ai/yiweizhou/accents_classification_28' target=\"_blank\">Weights & Biases</a> (<a href='https://wandb.me/run' target=\"_blank\">docs</a>)<br/>"
            ],
            "text/plain": [
              "<IPython.core.display.HTML object>"
            ]
          },
          "metadata": {},
          "output_type": "display_data"
        },
        {
          "data": {
            "text/html": [
              " View project at <a href='https://wandb.ai/yiweizhou/accents_classification_28' target=\"_blank\">https://wandb.ai/yiweizhou/accents_classification_28</a>"
            ],
            "text/plain": [
              "<IPython.core.display.HTML object>"
            ]
          },
          "metadata": {},
          "output_type": "display_data"
        },
        {
          "data": {
            "text/html": [
              " View run at <a href='https://wandb.ai/yiweizhou/accents_classification_28/runs/4w4gl03o' target=\"_blank\">https://wandb.ai/yiweizhou/accents_classification_28/runs/4w4gl03o</a>"
            ],
            "text/plain": [
              "<IPython.core.display.HTML object>"
            ]
          },
          "metadata": {},
          "output_type": "display_data"
        },
        {
          "data": {
            "text/html": [
              "<button onClick=\"this.nextSibling.style.display='block';this.style.display='none';\">Display W&B run</button><iframe src='https://wandb.ai/yiweizhou/accents_classification_28/runs/4w4gl03o?jupyter=true' style='border:none;width:100%;height:420px;display:none;'></iframe>"
            ],
            "text/plain": [
              "<wandb.sdk.wandb_run.Run at 0x78013876b580>"
            ]
          },
          "execution_count": 43,
          "metadata": {},
          "output_type": "execute_result"
        }
      ],
      "source": [
        "wandb.init(project=\"accents_classification_28\", name = \"run_2\")"
      ]
    },
    {
      "cell_type": "code",
      "execution_count": null,
      "metadata": {
        "id": "J5eLqHUrIFYk"
      },
      "outputs": [],
      "source": [
        "training_args = TrainingArguments(\n",
        "    output_dir=\"wav2vec-23\",\n",
        "    evaluation_strategy=IntervalStrategy.STEPS,\n",
        "    eval_steps = 50,\n",
        "    save_strategy=IntervalStrategy.STEPS,\n",
        "    save_steps = 100,\n",
        "    save_total_limit = 4,\n",
        "    learning_rate=2e-5,\n",
        "    per_device_train_batch_size=32,\n",
        "    gradient_accumulation_steps=4,\n",
        "    per_device_eval_batch_size=32,\n",
        "    num_train_epochs=10,\n",
        "    warmup_ratio=0.1,\n",
        "    logging_steps=10,\n",
        "    load_best_model_at_end=True,\n",
        "    metric_for_best_model=\"accuracy\",\n",
        "    push_to_hub=False,\n",
        "    report_to=\"wandb\"\n",
        ")"
      ]
    },
    {
      "cell_type": "code",
      "execution_count": null,
      "metadata": {
        "id": "HWxe--FgODop"
      },
      "outputs": [],
      "source": [
        "class WeightedTrainer(Trainer):\n",
        "    def compute_loss(self, model, inputs, return_outputs=False):\n",
        "        labels = inputs.pop(\"labels\")\n",
        "        # forward pass\n",
        "        outputs = model(**inputs)\n",
        "        logits = outputs.get(\"logits\")\n",
        "        # compute custom loss (suppose one has labels with different weights)\n",
        "        loss_fct = torch.nn.CrossEntropyLoss(weight=torch.tensor(ordered_weights, device=model.device).float())\n",
        "        loss = loss_fct(logits.view(-1, self.model.config.num_labels), labels.view(-1))\n",
        "        return (loss, outputs) if return_outputs else loss"
      ]
    },
    {
      "cell_type": "code",
      "execution_count": null,
      "metadata": {
        "id": "YBbYsnIyS3YR"
      },
      "outputs": [],
      "source": [
        "trainer = WeightedTrainer(\n",
        "    model=model,\n",
        "    args=training_args,\n",
        "    train_dataset=train_ds,\n",
        "    eval_dataset=test_ds,\n",
        "    tokenizer=feature_extractor,\n",
        "    compute_metrics=compute_metrics,\n",
        "    callbacks = [EarlyStoppingCallback(early_stopping_patience=2)]\n",
        ")"
      ]
    },
    {
      "cell_type": "code",
      "execution_count": null,
      "metadata": {
        "colab": {
          "base_uri": "https://localhost:8080/",
          "height": 253
        },
        "id": "U4rPnmdXK7VD",
        "outputId": "b72bfbff-31bb-412b-8baf-43d0d438beb0"
      },
      "outputs": [
        {
          "data": {
            "text/html": [
              "\n",
              "    <div>\n",
              "      \n",
              "      <progress value='48' max='48' style='width:300px; height:20px; vertical-align: middle;'></progress>\n",
              "      [48/48 01:10]\n",
              "    </div>\n",
              "    "
            ],
            "text/plain": [
              "<IPython.core.display.HTML object>"
            ]
          },
          "metadata": {},
          "output_type": "display_data"
        },
        {
          "name": "stderr",
          "output_type": "stream",
          "text": [
            "/usr/local/lib/python3.10/dist-packages/sklearn/metrics/_classification.py:1344: UndefinedMetricWarning: Precision is ill-defined and being set to 0.0 in labels with no predicted samples. Use `zero_division` parameter to control this behavior.\n",
            "  _warn_prf(average, modifier, msg_start, len(result))\n"
          ]
        },
        {
          "data": {
            "text/plain": [
              "{'eval_loss': 2.081277847290039,\n",
              " 'eval_accuracy': 0.095703125,\n",
              " 'eval_f1_weighted': 0.11839429320686339,\n",
              " 'eval_precision_weighted': 0.27227572133292505,\n",
              " 'eval_recall_weighted': 0.095703125,\n",
              " 'eval_mcc': -0.0022599274251548247,\n",
              " 'eval_runtime': 73.9545,\n",
              " 'eval_samples_per_second': 20.77,\n",
              " 'eval_steps_per_second': 0.649}"
            ]
          },
          "execution_count": 47,
          "metadata": {},
          "output_type": "execute_result"
        }
      ],
      "source": [
        "trainer.evaluate()"
      ]
    },
    {
      "cell_type": "code",
      "execution_count": null,
      "metadata": {
        "colab": {
          "base_uri": "https://localhost:8080/",
          "height": 718
        },
        "id": "lX1IBmUjK6sQ",
        "outputId": "f3b0eca4-9f62-4f24-e907-227bf1dbbf5e"
      },
      "outputs": [
        {
          "data": {
            "text/html": [
              "\n",
              "    <div>\n",
              "      \n",
              "      <progress value='462' max='480' style='width:300px; height:20px; vertical-align: middle;'></progress>\n",
              "      [462/480 1:16:22 < 02:59, 0.10 it/s, Epoch 9.60/10]\n",
              "    </div>\n",
              "    <table border=\"1\" class=\"dataframe\">\n",
              "  <thead>\n",
              " <tr style=\"text-align: left;\">\n",
              "      <th>Step</th>\n",
              "      <th>Training Loss</th>\n",
              "      <th>Validation Loss</th>\n",
              "      <th>Accuracy</th>\n",
              "      <th>F1 Weighted</th>\n",
              "      <th>Precision Weighted</th>\n",
              "      <th>Recall Weighted</th>\n",
              "      <th>Mcc</th>\n",
              "    </tr>\n",
              "  </thead>\n",
              "  <tbody>\n",
              "    <tr>\n",
              "      <td>50</td>\n",
              "      <td>1.837200</td>\n",
              "      <td>1.764204</td>\n",
              "      <td>0.757812</td>\n",
              "      <td>0.746339</td>\n",
              "      <td>0.794171</td>\n",
              "      <td>0.757812</td>\n",
              "      <td>0.676719</td>\n",
              "    </tr>\n",
              "    <tr>\n",
              "      <td>100</td>\n",
              "      <td>1.001900</td>\n",
              "      <td>0.891448</td>\n",
              "      <td>0.973307</td>\n",
              "      <td>0.973553</td>\n",
              "      <td>0.975202</td>\n",
              "      <td>0.973307</td>\n",
              "      <td>0.965212</td>\n",
              "    </tr>\n",
              "    <tr>\n",
              "      <td>150</td>\n",
              "      <td>0.555400</td>\n",
              "      <td>0.492019</td>\n",
              "      <td>0.995443</td>\n",
              "      <td>0.995428</td>\n",
              "      <td>0.995512</td>\n",
              "      <td>0.995443</td>\n",
              "      <td>0.993934</td>\n",
              "    </tr>\n",
              "    <tr>\n",
              "      <td>200</td>\n",
              "      <td>0.342900</td>\n",
              "      <td>0.296086</td>\n",
              "      <td>0.994792</td>\n",
              "      <td>0.994799</td>\n",
              "      <td>0.994855</td>\n",
              "      <td>0.994792</td>\n",
              "      <td>0.993071</td>\n",
              "    </tr>\n",
              "    <tr>\n",
              "      <td>250</td>\n",
              "      <td>0.236300</td>\n",
              "      <td>0.204503</td>\n",
              "      <td>0.998047</td>\n",
              "      <td>0.998049</td>\n",
              "      <td>0.998065</td>\n",
              "      <td>0.998047</td>\n",
              "      <td>0.997397</td>\n",
              "    </tr>\n",
              "    <tr>\n",
              "      <td>300</td>\n",
              "      <td>0.181300</td>\n",
              "      <td>0.164038</td>\n",
              "      <td>0.997396</td>\n",
              "      <td>0.997394</td>\n",
              "      <td>0.997412</td>\n",
              "      <td>0.997396</td>\n",
              "      <td>0.996528</td>\n",
              "    </tr>\n",
              "    <tr>\n",
              "      <td>350</td>\n",
              "      <td>0.147500</td>\n",
              "      <td>0.132456</td>\n",
              "      <td>0.998698</td>\n",
              "      <td>0.998701</td>\n",
              "      <td>0.998714</td>\n",
              "      <td>0.998698</td>\n",
              "      <td>0.998265</td>\n",
              "    </tr>\n",
              "    <tr>\n",
              "      <td>400</td>\n",
              "      <td>0.132700</td>\n",
              "      <td>0.117824</td>\n",
              "      <td>0.998698</td>\n",
              "      <td>0.998701</td>\n",
              "      <td>0.998714</td>\n",
              "      <td>0.998698</td>\n",
              "      <td>0.998265</td>\n",
              "    </tr>\n",
              "    <tr>\n",
              "      <td>450</td>\n",
              "      <td>0.123200</td>\n",
              "      <td>0.112002</td>\n",
              "      <td>0.998047</td>\n",
              "      <td>0.998050</td>\n",
              "      <td>0.998062</td>\n",
              "      <td>0.998047</td>\n",
              "      <td>0.997397</td>\n",
              "    </tr>\n",
              "  </tbody>\n",
              "</table><p>"
            ],
            "text/plain": [
              "<IPython.core.display.HTML object>"
            ]
          },
          "metadata": {},
          "output_type": "display_data"
        },
        {
          "data": {
            "text/html": [
              "\n",
              "    <div>\n",
              "      \n",
              "      <progress value='96' max='48' style='width:300px; height:20px; vertical-align: middle;'></progress>\n",
              "      [48/48 09:30]\n",
              "    </div>\n",
              "    "
            ],
            "text/plain": [
              "<IPython.core.display.HTML object>"
            ]
          },
          "metadata": {},
          "output_type": "display_data"
        },
        {
          "data": {
            "text/html": [
              "\n",
              "    <div>\n",
              "      \n",
              "      <progress value='480' max='480' style='width:300px; height:20px; vertical-align: middle;'></progress>\n",
              "      [480/480 1:19:03, Epoch 10/10]\n",
              "    </div>\n",
              "    <table border=\"1\" class=\"dataframe\">\n",
              "  <thead>\n",
              " <tr style=\"text-align: left;\">\n",
              "      <th>Step</th>\n",
              "      <th>Training Loss</th>\n",
              "      <th>Validation Loss</th>\n",
              "      <th>Accuracy</th>\n",
              "      <th>F1 Weighted</th>\n",
              "      <th>Precision Weighted</th>\n",
              "      <th>Recall Weighted</th>\n",
              "      <th>Mcc</th>\n",
              "    </tr>\n",
              "  </thead>\n",
              "  <tbody>\n",
              "    <tr>\n",
              "      <td>50</td>\n",
              "      <td>1.837200</td>\n",
              "      <td>1.764204</td>\n",
              "      <td>0.757812</td>\n",
              "      <td>0.746339</td>\n",
              "      <td>0.794171</td>\n",
              "      <td>0.757812</td>\n",
              "      <td>0.676719</td>\n",
              "    </tr>\n",
              "    <tr>\n",
              "      <td>100</td>\n",
              "      <td>1.001900</td>\n",
              "      <td>0.891448</td>\n",
              "      <td>0.973307</td>\n",
              "      <td>0.973553</td>\n",
              "      <td>0.975202</td>\n",
              "      <td>0.973307</td>\n",
              "      <td>0.965212</td>\n",
              "    </tr>\n",
              "    <tr>\n",
              "      <td>150</td>\n",
              "      <td>0.555400</td>\n",
              "      <td>0.492019</td>\n",
              "      <td>0.995443</td>\n",
              "      <td>0.995428</td>\n",
              "      <td>0.995512</td>\n",
              "      <td>0.995443</td>\n",
              "      <td>0.993934</td>\n",
              "    </tr>\n",
              "    <tr>\n",
              "      <td>200</td>\n",
              "      <td>0.342900</td>\n",
              "      <td>0.296086</td>\n",
              "      <td>0.994792</td>\n",
              "      <td>0.994799</td>\n",
              "      <td>0.994855</td>\n",
              "      <td>0.994792</td>\n",
              "      <td>0.993071</td>\n",
              "    </tr>\n",
              "    <tr>\n",
              "      <td>250</td>\n",
              "      <td>0.236300</td>\n",
              "      <td>0.204503</td>\n",
              "      <td>0.998047</td>\n",
              "      <td>0.998049</td>\n",
              "      <td>0.998065</td>\n",
              "      <td>0.998047</td>\n",
              "      <td>0.997397</td>\n",
              "    </tr>\n",
              "    <tr>\n",
              "      <td>300</td>\n",
              "      <td>0.181300</td>\n",
              "      <td>0.164038</td>\n",
              "      <td>0.997396</td>\n",
              "      <td>0.997394</td>\n",
              "      <td>0.997412</td>\n",
              "      <td>0.997396</td>\n",
              "      <td>0.996528</td>\n",
              "    </tr>\n",
              "    <tr>\n",
              "      <td>350</td>\n",
              "      <td>0.147500</td>\n",
              "      <td>0.132456</td>\n",
              "      <td>0.998698</td>\n",
              "      <td>0.998701</td>\n",
              "      <td>0.998714</td>\n",
              "      <td>0.998698</td>\n",
              "      <td>0.998265</td>\n",
              "    </tr>\n",
              "    <tr>\n",
              "      <td>400</td>\n",
              "      <td>0.132700</td>\n",
              "      <td>0.117824</td>\n",
              "      <td>0.998698</td>\n",
              "      <td>0.998701</td>\n",
              "      <td>0.998714</td>\n",
              "      <td>0.998698</td>\n",
              "      <td>0.998265</td>\n",
              "    </tr>\n",
              "    <tr>\n",
              "      <td>450</td>\n",
              "      <td>0.123200</td>\n",
              "      <td>0.112002</td>\n",
              "      <td>0.998047</td>\n",
              "      <td>0.998050</td>\n",
              "      <td>0.998062</td>\n",
              "      <td>0.998047</td>\n",
              "      <td>0.997397</td>\n",
              "    </tr>\n",
              "  </tbody>\n",
              "</table><p>"
            ],
            "text/plain": [
              "<IPython.core.display.HTML object>"
            ]
          },
          "metadata": {},
          "output_type": "display_data"
        }
      ],
      "source": [
        "trained = trainer.train()"
      ]
    },
    {
      "cell_type": "code",
      "execution_count": null,
      "metadata": {
        "colab": {
          "base_uri": "https://localhost:8080/",
          "height": 216
        },
        "id": "xjvkq7evgbdR",
        "outputId": "77db0079-0819-4024-dc32-86333bb19a9d"
      },
      "outputs": [
        {
          "data": {
            "text/html": [
              "\n",
              "    <div>\n",
              "      \n",
              "      <progress value='48' max='48' style='width:300px; height:20px; vertical-align: middle;'></progress>\n",
              "      [48/48 01:09]\n",
              "    </div>\n",
              "    "
            ],
            "text/plain": [
              "<IPython.core.display.HTML object>"
            ]
          },
          "metadata": {},
          "output_type": "display_data"
        },
        {
          "data": {
            "text/plain": [
              "{'eval_loss': 0.11782387644052505,\n",
              " 'eval_accuracy': 0.9986979166666666,\n",
              " 'eval_f1_weighted': 0.9987012334284002,\n",
              " 'eval_precision_weighted': 0.9987141927083334,\n",
              " 'eval_recall_weighted': 0.9986979166666666,\n",
              " 'eval_mcc': 0.9982646808828041,\n",
              " 'eval_runtime': 72.4762,\n",
              " 'eval_samples_per_second': 21.193,\n",
              " 'eval_steps_per_second': 0.662,\n",
              " 'epoch': 10.0}"
            ]
          },
          "execution_count": 51,
          "metadata": {},
          "output_type": "execute_result"
        }
      ],
      "source": [
        "trainer.evaluate()"
      ]
    },
    {
      "cell_type": "code",
      "execution_count": null,
      "metadata": {
        "colab": {
          "base_uri": "https://localhost:8080/"
        },
        "id": "R_8WehD06ffM",
        "outputId": "5b756c00-844b-444d-ac9a-5fe932f68bed"
      },
      "outputs": [
        {
          "data": {
            "text/plain": [
              "TrainOutput(global_step=240, training_loss=0.7800431281328202, metrics={'train_runtime': 3625.1638, 'train_samples_per_second': 8.471, 'train_steps_per_second': 0.066, 'total_flos': 2.400507469299843e+18, 'train_loss': 0.7800431281328202, 'epoch': 5.0})"
            ]
          },
          "execution_count": 34,
          "metadata": {},
          "output_type": "execute_result"
        }
      ],
      "source": [
        "trained"
      ]
    },
    {
      "cell_type": "code",
      "execution_count": null,
      "metadata": {
        "id": "kpqURqTnaHtg"
      },
      "outputs": [],
      "source": [
        "trainer.save_model(\"audio_27apr\")"
      ]
    },
    {
      "cell_type": "markdown",
      "metadata": {
        "id": "LwCJ0beZrwGw"
      },
      "source": []
    },
    {
      "cell_type": "code",
      "execution_count": null,
      "metadata": {
        "id": "UTx4gCvdvVBu"
      },
      "outputs": [],
      "source": [
        "trainer.evaluate()"
      ]
    },
    {
      "cell_type": "code",
      "execution_count": 4,
      "metadata": {
        "id": "7YRS4fzWoOTP"
      },
      "outputs": [],
      "source": [
        "#confusion matrix\n",
        "from sklearn.metrics import confusion_matrix\n",
        "import seaborn as sns\n",
        "import matplotlib.pyplot as plt\n",
        "predictions = trainer.predict(test_ds)\n",
        "y_pred = np.argmax(predictions.predictions, axis=1)\n",
        "y_true = test_ds['label']\n",
        "y_true_names = [id2label[str(id)] for id in y_true]\n",
        "y_pred_names = [id2label[str(id)] for id in y_pred]\n",
        "cm2 = confusion_matrix(y_true_names, y_pred_names, labels = list(id2label.values()))"
      ]
    },
    {
      "cell_type": "code",
      "execution_count": null,
      "metadata": {
        "colab": {
          "base_uri": "https://localhost:8080/"
        },
        "id": "YZlr6aZ98AS5",
        "outputId": "c989e2b2-6440-4cab-800d-85d8e708d476"
      },
      "outputs": [
        {
          "data": {
            "text/plain": [
              "array([[135,   0,   0,   0,   0,   0,   0,   0],\n",
              "       [  0, 100,   0,   0,   0,   0,   0,   0],\n",
              "       [  0,   0, 202,   0,   0,   0,   0,   1],\n",
              "       [  0,   0,   0, 136,   0,   0,   0,   0],\n",
              "       [  0,   0,   0,   0, 225,   0,   0,   0],\n",
              "       [  0,   0,   0,   0,   0,  39,   0,   0],\n",
              "       [  0,   0,   0,   0,   0,   0,  28,   0],\n",
              "       [  0,   0,   0,   0,   0,   1,   0, 669]])"
            ]
          },
          "execution_count": 133,
          "metadata": {},
          "output_type": "execute_result"
        }
      ],
      "source": [
        "cm2"
      ]
    },
    {
      "cell_type": "code",
      "execution_count": 6,
      "metadata": {
        "id": "hz-q4qZm7KrY"
      },
      "outputs": [],
      "source": [
        "cm = np.array([[135,   0,   0,   0,   0,   0,   0,   0],\n",
        "       [  0, 100,   0,   0,   0,   0,   0,   0],\n",
        "       [  0,   0, 202,   0,   0,   0,   0,   1],\n",
        "       [  0,   0,   0, 136,   0,   0,   0,   0],\n",
        "       [  0,   0,   0,   0, 225,   0,   0,   0],\n",
        "       [  0,   0,   0,   0,   0,  39,   0,   0],\n",
        "       [  0,   0,   0,   0,   0,   0,  28,   0],\n",
        "       [  0,   0,   0,   0,   0,   1,   0, 669]])"
      ]
    },
    {
      "cell_type": "code",
      "execution_count": 34,
      "metadata": {
        "colab": {
          "base_uri": "https://localhost:8080/",
          "height": 234
        },
        "id": "LVrDZlqtqH6n",
        "outputId": "0c43db36-8d1d-420a-87a6-f67617a8b846"
      },
      "outputs": [
        {
          "data": {
            "image/png": "[encoded data removed]",
            "text/plain": [
              "<Figure size 600x200 with 2 Axes>"
            ]
          },
          "metadata": {},
          "output_type": "display_data"
        }
      ],
      "source": [
        "plt.figure(figsize=(6, 2))\n",
        "plt.xlabel('Predicted labels')\n",
        "plt.ylabel('True labels')\n",
        "plt.title('True (X) and False Labels (Y)', fontsize = 10)\n",
        "ax = sns.heatmap(cm, annot=True, fmt='g', cmap='Blues')\n",
        "\n",
        "# Saving the figure with a high DPI\n",
        "plt.savefig('cm_audio.png', dpi=1000)"
      ]
    },
    {
      "cell_type": "code",
      "execution_count": null,
      "metadata": {
        "colab": {
          "base_uri": "https://localhost:8080/"
        },
        "id": "f95Ik_vJpxS9",
        "outputId": "15cf272b-dbe9-487f-df31-1c4660c07e24"
      },
      "outputs": [
        {
          "data": {
            "text/plain": [
              "array([ 469, 1529])"
            ]
          },
          "execution_count": 84,
          "metadata": {},
          "output_type": "execute_result"
        }
      ],
      "source": [
        "np.flatnonzero(y_true != y_pred)"
      ]
    },
    {
      "cell_type": "code",
      "execution_count": null,
      "metadata": {
        "colab": {
          "base_uri": "https://localhost:8080/"
        },
        "id": "iIDhxazG6VZZ",
        "outputId": "a52990a7-92bf-44d5-81c2-3ae12ea784f5"
      },
      "outputs": [
        {
          "data": {
            "text/plain": [
              "dict_values(['Australian English', 'Canadian English', 'England English', 'Filipino', 'India and South Asia (India, Pakistan, Sri Lanka)', 'Irish English', 'Scottish English', 'United States English'])"
            ]
          },
          "execution_count": 117,
          "metadata": {},
          "output_type": "execute_result"
        }
      ],
      "source": [
        "id2label.values()"
      ]
    },
    {
      "cell_type": "code",
      "execution_count": null,
      "metadata": {
        "colab": {
          "base_uri": "https://localhost:8080/"
        },
        "id": "5mi750Zk6yjn",
        "outputId": "773c9289-15eb-4149-ed26-afe27239967b"
      },
      "outputs": [
        {
          "data": {
            "text/plain": [
              "dict_values(['Australian English', 'Canadian English', 'England English', 'Filipino', 'India and South Asia (India, Pakistan, Sri Lanka)', 'Irish English', 'Scottish English', 'United States English'])"
            ]
          },
          "execution_count": 121,
          "metadata": {},
          "output_type": "execute_result"
        }
      ],
      "source": [
        "id2label.values()"
      ]
    },
    {
      "cell_type": "code",
      "execution_count": null,
      "metadata": {
        "colab": {
          "base_uri": "https://localhost:8080/"
        },
        "id": "24aIurKWrIJG",
        "outputId": "64fd912e-6d1b-469c-cde9-0cbd41fe0a99"
      },
      "outputs": [
        {
          "data": {
            "text/plain": [
              "2"
            ]
          },
          "execution_count": 123,
          "metadata": {},
          "output_type": "execute_result"
        }
      ],
      "source": [
        "y_true[469]"
      ]
    },
    {
      "cell_type": "code",
      "execution_count": null,
      "metadata": {
        "colab": {
          "base_uri": "https://localhost:8080/"
        },
        "id": "pOsXUGmMrMD5",
        "outputId": "de99c256-0436-4692-b076-27de7f3424b5"
      },
      "outputs": [
        {
          "data": {
            "text/plain": [
              "7"
            ]
          },
          "execution_count": 122,
          "metadata": {},
          "output_type": "execute_result"
        }
      ],
      "source": [
        "y_pred[469]"
      ]
    },
    {
      "cell_type": "code",
      "execution_count": null,
      "metadata": {
        "colab": {
          "base_uri": "https://localhost:8080/"
        },
        "id": "F0yyjo8K8Jo8",
        "outputId": "0f7f6b0a-f1fc-4e1e-bb65-affdd7330988"
      },
      "outputs": [
        {
          "data": {
            "text/plain": [
              "7"
            ]
          },
          "execution_count": 134,
          "metadata": {},
          "output_type": "execute_result"
        }
      ],
      "source": [
        "y_true[1529]"
      ]
    },
    {
      "cell_type": "code",
      "execution_count": null,
      "metadata": {
        "colab": {
          "base_uri": "https://localhost:8080/"
        },
        "id": "zFzntzey8MBA",
        "outputId": "3d8b6c0f-7b5b-4cf3-c480-2b58118f43b7"
      },
      "outputs": [
        {
          "data": {
            "text/plain": [
              "5"
            ]
          },
          "execution_count": 135,
          "metadata": {},
          "output_type": "execute_result"
        }
      ],
      "source": [
        "y_pred[1529]"
      ]
    },
    {
      "cell_type": "code",
      "execution_count": null,
      "metadata": {
        "colab": {
          "base_uri": "https://localhost:8080/",
          "height": 81
        },
        "id": "K2IWfXy684lR",
        "outputId": "76156455-52df-4c78-bc6d-1940106f4454"
      },
      "outputs": [
        {
          "data": {
            "application/vnd.google.colaboratory.intrinsic+json": {
              "summary": "{\n  \"name\": \"test_data\",\n  \"rows\": 1,\n  \"fields\": [\n    {\n      \"column\": \"accents\",\n      \"properties\": {\n        \"dtype\": \"string\",\n        \"num_unique_values\": 1,\n        \"samples\": [\n          \"United States English\"\n        ],\n        \"semantic_type\": \"\",\n        \"description\": \"\"\n      }\n    },\n    {\n      \"column\": \"sentence\",\n      \"properties\": {\n        \"dtype\": \"string\",\n        \"num_unique_values\": 1,\n        \"samples\": [\n          \"They are on the ground.\"\n        ],\n        \"semantic_type\": \"\",\n        \"description\": \"\"\n      }\n    },\n    {\n      \"column\": \"audio\",\n      \"properties\": {\n        \"dtype\": \"object\",\n        \"semantic_type\": \"\",\n        \"description\": \"\"\n      }\n    }\n  ]\n}",
              "type": "dataframe"
            },
            "text/html": [
              "\n",
              "  <div id=\"df-f5c8bbac-dea9-42a7-a7b5-33276f726510\" class=\"colab-df-container\">\n",
              "    <div>\n",
              "<style scoped>\n",
              "    .dataframe tbody tr th:only-of-type {\n",
              "        vertical-align: middle;\n",
              "    }\n",
              "\n",
              "    .dataframe tbody tr th {\n",
              "        vertical-align: top;\n",
              "    }\n",
              "\n",
              "    .dataframe thead th {\n",
              "        text-align: right;\n",
              "    }\n",
              "</style>\n",
              "<table border=\"1\" class=\"dataframe\">\n",
              "  <thead>\n",
              "    <tr style=\"text-align: right;\">\n",
              "      <th></th>\n",
              "      <th>accents</th>\n",
              "      <th>sentence</th>\n",
              "      <th>audio</th>\n",
              "    </tr>\n",
              "  </thead>\n",
              "  <tbody>\n",
              "    <tr>\n",
              "      <th>7482</th>\n",
              "      <td>United States English</td>\n",
              "      <td>They are on the ground.</td>\n",
              "      <td>{'array': [2.2737367544323206e-12, 9.094947017...</td>\n",
              "    </tr>\n",
              "  </tbody>\n",
              "</table>\n",
              "</div>\n",
              "    <div class=\"colab-df-buttons\">\n",
              "\n",
              "  <div class=\"colab-df-container\">\n",
              "    <button class=\"colab-df-convert\" onclick=\"convertToInteractive('df-f5c8bbac-dea9-42a7-a7b5-33276f726510')\"\n",
              "            title=\"Convert this dataframe to an interactive table.\"\n",
              "            style=\"display:none;\">\n",
              "\n",
              "  <svg xmlns=\"http://www.w3.org/2000/svg\" height=\"24px\" viewBox=\"0 -960 960 960\">\n",
              "    <path d=\"M120-120v-720h720v720H120Zm60-500h600v-160H180v160Zm220 220h160v-160H400v160Zm0 220h160v-160H400v160ZM180-400h160v-160H180v160Zm440 0h160v-160H620v160ZM180-180h160v-160H180v160Zm440 0h160v-160H620v160Z\"/>\n",
              "  </svg>\n",
              "    </button>\n",
              "\n",
              "  <style>\n",
              "    .colab-df-container {\n",
              "      display:flex;\n",
              "      gap: 12px;\n",
              "    }\n",
              "\n",
              "    .colab-df-convert {\n",
              "      background-color: #E8F0FE;\n",
              "      border: none;\n",
              "      border-radius: 50%;\n",
              "      cursor: pointer;\n",
              "      display: none;\n",
              "      fill: #1967D2;\n",
              "      height: 32px;\n",
              "      padding: 0 0 0 0;\n",
              "      width: 32px;\n",
              "    }\n",
              "\n",
              "    .colab-df-convert:hover {\n",
              "      background-color: #E2EBFA;\n",
              "      box-shadow: 0px 1px 2px rgba(60, 64, 67, 0.3), 0px 1px 3px 1px rgba(60, 64, 67, 0.15);\n",
              "      fill: #174EA6;\n",
              "    }\n",
              "\n",
              "    .colab-df-buttons div {\n",
              "      margin-bottom: 4px;\n",
              "    }\n",
              "\n",
              "    [theme=dark] .colab-df-convert {\n",
              "      background-color: #3B4455;\n",
              "      fill: #D2E3FC;\n",
              "    }\n",
              "\n",
              "    [theme=dark] .colab-df-convert:hover {\n",
              "      background-color: #434B5C;\n",
              "      box-shadow: 0px 1px 3px 1px rgba(0, 0, 0, 0.15);\n",
              "      filter: drop-shadow(0px 1px 2px rgba(0, 0, 0, 0.3));\n",
              "      fill: #FFFFFF;\n",
              "    }\n",
              "  </style>\n",
              "\n",
              "    <script>\n",
              "      const buttonEl =\n",
              "        document.querySelector('#df-f5c8bbac-dea9-42a7-a7b5-33276f726510 button.colab-df-convert');\n",
              "      buttonEl.style.display =\n",
              "        google.colab.kernel.accessAllowed ? 'block' : 'none';\n",
              "\n",
              "      async function convertToInteractive(key) {\n",
              "        const element = document.querySelector('#df-f5c8bbac-dea9-42a7-a7b5-33276f726510');\n",
              "        const dataTable =\n",
              "          await google.colab.kernel.invokeFunction('convertToInteractive',\n",
              "                                                    [key], {});\n",
              "        if (!dataTable) return;\n",
              "\n",
              "        const docLinkHtml = 'Like what you see? Visit the ' +\n",
              "          '<a target=\"_blank\" href=https://colab.research.google.com/notebooks/data_table.ipynb>data table notebook</a>'\n",
              "          + ' to learn more about interactive tables.';\n",
              "        element.innerHTML = '';\n",
              "        dataTable['output_type'] = 'display_data';\n",
              "        await google.colab.output.renderOutput(dataTable, element);\n",
              "        const docLink = document.createElement('div');\n",
              "        docLink.innerHTML = docLinkHtml;\n",
              "        element.appendChild(docLink);\n",
              "      }\n",
              "    </script>\n",
              "  </div>\n",
              "\n",
              "    </div>\n",
              "  </div>\n"
            ],
            "text/plain": [
              "                    accents                 sentence  \\\n",
              "7482  United States English  They are on the ground.   \n",
              "\n",
              "                                                  audio  \n",
              "7482  {'array': [2.2737367544323206e-12, 9.094947017...  "
            ]
          },
          "execution_count": 138,
          "metadata": {},
          "output_type": "execute_result"
        }
      ],
      "source": [
        "# pred = irish\n",
        "test_data.iloc[[1529]]"
      ]
    },
    {
      "cell_type": "code",
      "execution_count": null,
      "metadata": {
        "colab": {
          "base_uri": "https://localhost:8080/",
          "height": 81
        },
        "id": "kMdDY2oa881Y",
        "outputId": "2808d162-493f-4ea0-8348-a6b5d5638799"
      },
      "outputs": [
        {
          "data": {
            "application/vnd.google.colaboratory.intrinsic+json": {
              "summary": "{\n  \"name\": \"test_data\",\n  \"rows\": 1,\n  \"fields\": [\n    {\n      \"column\": \"accents\",\n      \"properties\": {\n        \"dtype\": \"string\",\n        \"num_unique_values\": 1,\n        \"samples\": [\n          \"England English\"\n        ],\n        \"semantic_type\": \"\",\n        \"description\": \"\"\n      }\n    },\n    {\n      \"column\": \"sentence\",\n      \"properties\": {\n        \"dtype\": \"string\",\n        \"num_unique_values\": 1,\n        \"samples\": [\n          \"As you wish.\"\n        ],\n        \"semantic_type\": \"\",\n        \"description\": \"\"\n      }\n    },\n    {\n      \"column\": \"audio\",\n      \"properties\": {\n        \"dtype\": \"object\",\n        \"semantic_type\": \"\",\n        \"description\": \"\"\n      }\n    }\n  ]\n}",
              "type": "dataframe"
            },
            "text/html": [
              "\n",
              "  <div id=\"df-85e95448-dabf-451b-897c-2c9c6d9bc766\" class=\"colab-df-container\">\n",
              "    <div>\n",
              "<style scoped>\n",
              "    .dataframe tbody tr th:only-of-type {\n",
              "        vertical-align: middle;\n",
              "    }\n",
              "\n",
              "    .dataframe tbody tr th {\n",
              "        vertical-align: top;\n",
              "    }\n",
              "\n",
              "    .dataframe thead th {\n",
              "        text-align: right;\n",
              "    }\n",
              "</style>\n",
              "<table border=\"1\" class=\"dataframe\">\n",
              "  <thead>\n",
              "    <tr style=\"text-align: right;\">\n",
              "      <th></th>\n",
              "      <th>accents</th>\n",
              "      <th>sentence</th>\n",
              "      <th>audio</th>\n",
              "    </tr>\n",
              "  </thead>\n",
              "  <tbody>\n",
              "    <tr>\n",
              "      <th>965</th>\n",
              "      <td>England English</td>\n",
              "      <td>As you wish.</td>\n",
              "      <td>{'array': [0.0, 0.0, 0.0, 0.0, 0.0, 0.0, 0.0, ...</td>\n",
              "    </tr>\n",
              "  </tbody>\n",
              "</table>\n",
              "</div>\n",
              "    <div class=\"colab-df-buttons\">\n",
              "\n",
              "  <div class=\"colab-df-container\">\n",
              "    <button class=\"colab-df-convert\" onclick=\"convertToInteractive('df-85e95448-dabf-451b-897c-2c9c6d9bc766')\"\n",
              "            title=\"Convert this dataframe to an interactive table.\"\n",
              "            style=\"display:none;\">\n",
              "\n",
              "  <svg xmlns=\"http://www.w3.org/2000/svg\" height=\"24px\" viewBox=\"0 -960 960 960\">\n",
              "    <path d=\"M120-120v-720h720v720H120Zm60-500h600v-160H180v160Zm220 220h160v-160H400v160Zm0 220h160v-160H400v160ZM180-400h160v-160H180v160Zm440 0h160v-160H620v160ZM180-180h160v-160H180v160Zm440 0h160v-160H620v160Z\"/>\n",
              "  </svg>\n",
              "    </button>\n",
              "\n",
              "  <style>\n",
              "    .colab-df-container {\n",
              "      display:flex;\n",
              "      gap: 12px;\n",
              "    }\n",
              "\n",
              "    .colab-df-convert {\n",
              "      background-color: #E8F0FE;\n",
              "      border: none;\n",
              "      border-radius: 50%;\n",
              "      cursor: pointer;\n",
              "      display: none;\n",
              "      fill: #1967D2;\n",
              "      height: 32px;\n",
              "      padding: 0 0 0 0;\n",
              "      width: 32px;\n",
              "    }\n",
              "\n",
              "    .colab-df-convert:hover {\n",
              "      background-color: #E2EBFA;\n",
              "      box-shadow: 0px 1px 2px rgba(60, 64, 67, 0.3), 0px 1px 3px 1px rgba(60, 64, 67, 0.15);\n",
              "      fill: #174EA6;\n",
              "    }\n",
              "\n",
              "    .colab-df-buttons div {\n",
              "      margin-bottom: 4px;\n",
              "    }\n",
              "\n",
              "    [theme=dark] .colab-df-convert {\n",
              "      background-color: #3B4455;\n",
              "      fill: #D2E3FC;\n",
              "    }\n",
              "\n",
              "    [theme=dark] .colab-df-convert:hover {\n",
              "      background-color: #434B5C;\n",
              "      box-shadow: 0px 1px 3px 1px rgba(0, 0, 0, 0.15);\n",
              "      filter: drop-shadow(0px 1px 2px rgba(0, 0, 0, 0.3));\n",
              "      fill: #FFFFFF;\n",
              "    }\n",
              "  </style>\n",
              "\n",
              "    <script>\n",
              "      const buttonEl =\n",
              "        document.querySelector('#df-85e95448-dabf-451b-897c-2c9c6d9bc766 button.colab-df-convert');\n",
              "      buttonEl.style.display =\n",
              "        google.colab.kernel.accessAllowed ? 'block' : 'none';\n",
              "\n",
              "      async function convertToInteractive(key) {\n",
              "        const element = document.querySelector('#df-85e95448-dabf-451b-897c-2c9c6d9bc766');\n",
              "        const dataTable =\n",
              "          await google.colab.kernel.invokeFunction('convertToInteractive',\n",
              "                                                    [key], {});\n",
              "        if (!dataTable) return;\n",
              "\n",
              "        const docLinkHtml = 'Like what you see? Visit the ' +\n",
              "          '<a target=\"_blank\" href=https://colab.research.google.com/notebooks/data_table.ipynb>data table notebook</a>'\n",
              "          + ' to learn more about interactive tables.';\n",
              "        element.innerHTML = '';\n",
              "        dataTable['output_type'] = 'display_data';\n",
              "        await google.colab.output.renderOutput(dataTable, element);\n",
              "        const docLink = document.createElement('div');\n",
              "        docLink.innerHTML = docLinkHtml;\n",
              "        element.appendChild(docLink);\n",
              "      }\n",
              "    </script>\n",
              "  </div>\n",
              "\n",
              "    </div>\n",
              "  </div>\n"
            ],
            "text/plain": [
              "             accents      sentence  \\\n",
              "965  England English  As you wish.   \n",
              "\n",
              "                                                 audio  \n",
              "965  {'array': [0.0, 0.0, 0.0, 0.0, 0.0, 0.0, 0.0, ...  "
            ]
          },
          "execution_count": 137,
          "metadata": {},
          "output_type": "execute_result"
        }
      ],
      "source": [
        "# pred = US\n",
        "test_data.iloc[[469]]"
      ]
    },
    {
      "cell_type": "code",
      "execution_count": null,
      "metadata": {
        "id": "1OGmHirI5DHu"
      },
      "outputs": [],
      "source": [
        "# from numba import cuda\n",
        "# device = cuda.get_current_device()\n",
        "# device.reset()"
      ]
    },
    {
      "cell_type": "markdown",
      "metadata": {
        "id": "8PAoVTjA6G8n"
      },
      "source": [
        "# Spectrogram Classification\n"
      ]
    },
    {
      "cell_type": "code",
      "execution_count": null,
      "metadata": {
        "id": "viFA5bIb59pn"
      },
      "outputs": [],
      "source": [
        "# !pip install librosa\n",
        "# !pip install --upgrade transformers\n",
        "# !pip install accelerate -U"
      ]
    },
    {
      "cell_type": "code",
      "execution_count": null,
      "metadata": {
        "id": "6JhHYG7M59pp"
      },
      "outputs": [],
      "source": [
        "import os\n",
        "import torch\n",
        "import torchvision\n",
        "import torch.nn as nn\n",
        "import matplotlib.pyplot as plt\n",
        "from torchvision import datasets, transforms\n",
        "from torch.utils.data import DataLoader, SubsetRandomSampler\n",
        "import torch.optim as optim\n",
        "import time\n",
        "import numpy as np\n",
        "import pandas as pd\n",
        "from tqdm.autonotebook import tqdm\n",
        "from PIL import Image\n",
        "import IPython.display as ipd\n",
        "import numpy as np\n",
        "import librosa\n",
        "\n",
        "\n",
        "cuda = torch.cuda.is_available()\n",
        "import pyarrow.parquet as pq\n",
        "\n",
        "df0 = pq.read_table(source= '0000.parquet').to_pandas()\n",
        "df1 = pq.read_table(source= '0001.parquet').to_pandas()\n",
        "df2 = pq.read_table(source= '0002.parquet').to_pandas()\n",
        "df3 = pq.read_table(source= '0003.parquet').to_pandas()\n",
        "df4 = pq.read_table(source= '0004.parquet').to_pandas()\n",
        "df5 = pq.read_table(source= '0005.parquet').to_pandas()\n",
        "df6 = pq.read_table(source= '0006.parquet').to_pandas()\n",
        "df7 = pq.read_table(source= '0007.parquet').to_pandas()"
      ]
    },
    {
      "cell_type": "markdown",
      "metadata": {
        "id": "zKIpsvyf59pq"
      },
      "source": [
        "## **Method 2: Add noise, change pitch and change speed**"
      ]
    },
    {
      "cell_type": "code",
      "execution_count": null,
      "metadata": {
        "id": "hXOmKsS059pr",
        "outputId": "f5e17efd-b6cc-451e-f2f8-37d05d0f9a95"
      },
      "outputs": [
        {
          "data": {
            "text/plain": [
              "United States English                                2577\n",
              "India and South Asia (India, Pakistan, Sri Lanka)     963\n",
              "England English                                       891\n",
              "Australian English                                    528\n",
              "Filipino                                              471\n",
              "Canadian English                                      395\n",
              "Irish English                                         226\n",
              "Scottish English                                       91\n",
              "Name: accents, dtype: int64"
            ]
          },
          "execution_count": 6,
          "metadata": {},
          "output_type": "execute_result"
        }
      ],
      "source": [
        "data = pd.concat([df0,df1,df2,df3,df4,df5,df6,df7])\n",
        "data.reset_index(drop=True, inplace=True)\n",
        "data = data.drop(['path'], axis=1)\n",
        "data = data.drop(['up_votes'], axis=1)\n",
        "data = data.drop(['down_votes'], axis=1)\n",
        "data = data.drop(['age'], axis=1)\n",
        "data = data.drop(['gender'], axis=1)\n",
        "#train test split\n",
        "from sklearn.model_selection import train_test_split\n",
        "data, test_data = train_test_split(data, test_size=0.2, random_state=42)\n",
        "data['accents'].value_counts()\n"
      ]
    },
    {
      "cell_type": "code",
      "execution_count": null,
      "metadata": {
        "id": "9h45r2i259pr",
        "outputId": "39fa6e10-5f1c-4d9e-f1b7-31334545f038"
      },
      "outputs": [
        {
          "data": {
            "text/plain": [
              "United States English                                670\n",
              "India and South Asia (India, Pakistan, Sri Lanka)    225\n",
              "England English                                      203\n",
              "Filipino                                             136\n",
              "Australian English                                   135\n",
              "Canadian English                                     100\n",
              "Irish English                                         39\n",
              "Scottish English                                      28\n",
              "Name: accents, dtype: int64"
            ]
          },
          "execution_count": 7,
          "metadata": {},
          "output_type": "execute_result"
        }
      ],
      "source": [
        "test_data['accents'].value_counts()"
      ]
    },
    {
      "cell_type": "code",
      "execution_count": null,
      "metadata": {
        "id": "HvhqO-F_59pr"
      },
      "outputs": [],
      "source": [
        "new_audio = []\n",
        "for r in data['audio']:\n",
        "    new_audio.append(r['array'])\n",
        "data['audio'] = new_audio\n",
        "us = data[data['accents'] == 'United States English']\n",
        "us = us[:800]\n",
        "\n",
        "indian = data[data['accents'] == 'India and South Asia (India, Pakistan, Sri Lanka)']\n",
        "indian = indian[:800]\n",
        "\n",
        "england = data[data['accents'] == 'England English']\n",
        "england = england[:800]\n",
        "\n",
        "filipino = data[data['accents'] == 'Filipino']\n",
        "filipino.reset_index(drop=True, inplace=True)\n",
        "\n",
        "australian = data[data['accents'] == 'Australian English']\n",
        "australian.reset_index(drop=True, inplace=True)\n",
        "\n",
        "scottish = data[data['accents'] == 'Scottish English']\n",
        "scottish.reset_index(drop=True, inplace=True)\n",
        "\n",
        "irish = data[data['accents'] == 'Irish English']\n",
        "irish.reset_index(drop=True, inplace=True)\n",
        "\n",
        "canadian = data[data['accents'] == 'Canadian English']\n",
        "canadian.reset_index(drop=True, inplace=True)\n",
        "scottish_arrays = scottish['audio']\n",
        "irish_arrays = irish['audio']\n",
        "canadian_arrays = canadian['audio']\n",
        "australian_arrays = australian['audio']\n",
        "filipino_arrays = filipino['audio']"
      ]
    },
    {
      "cell_type": "code",
      "execution_count": null,
      "metadata": {
        "id": "nKy9VxN659ps"
      },
      "outputs": [],
      "source": [
        "sampling_rate = 16000  # This is the sampling rate from your data\n",
        "\n",
        "# Function to add noise\n",
        "def add_noise(audio, noise_level=0.005):\n",
        "    noise = np.random.randn(len(audio))\n",
        "    augmented_audio = audio + noise_level * noise\n",
        "    return augmented_audio\n",
        "\n",
        "# Function to change pitch\n",
        "def change_pitch(audio, sampling_rate, n_steps=5):\n",
        "    return librosa.effects.pitch_shift(audio, sr=sampling_rate, n_steps=n_steps)\n",
        "\n",
        "# Function to change speed\n",
        "def change_speed(audio, speed_factor=1.5):\n",
        "    return librosa.effects.time_stretch(audio, rate=speed_factor)"
      ]
    },
    {
      "cell_type": "code",
      "execution_count": null,
      "metadata": {
        "id": "UG-32ARi59ps"
      },
      "outputs": [],
      "source": [
        "scottish_augmented = []\n",
        "irish_augmented = []\n",
        "canadian_augmented = []\n",
        "australian_augmented = []\n",
        "filipino_augmented = []\n",
        "\n",
        "for i in range(len(scottish_arrays)):\n",
        "    audio = scottish_arrays[i]\n",
        "    noisy_audio = add_noise(audio)\n",
        "    pitched_audio = change_pitch(audio, sampling_rate)\n",
        "    speeded_audio = change_speed(audio)\n",
        "    scottish_augmented.append(noisy_audio)\n",
        "    scottish_augmented.append(pitched_audio)\n",
        "    scottish_augmented.append(speeded_audio)\n",
        "\n",
        "for i in range(190):\n",
        "    audio = irish_arrays[i]\n",
        "    noisy_audio = add_noise(audio)\n",
        "    pitched_audio = change_pitch(audio, sampling_rate)\n",
        "    speeded_audio = change_speed(audio)\n",
        "    irish_augmented.append(noisy_audio)\n",
        "    irish_augmented.append(pitched_audio)\n",
        "    irish_augmented.append(speeded_audio)\n",
        "\n",
        "for i in range(130):\n",
        "    audio = canadian_arrays[i]\n",
        "    noisy_audio = add_noise(audio)\n",
        "    pitched_audio = change_pitch(audio, sampling_rate)\n",
        "    speeded_audio = change_speed(audio)\n",
        "    canadian_augmented.append(noisy_audio)\n",
        "    canadian_augmented.append(pitched_audio)\n",
        "    canadian_augmented.append(speeded_audio)\n",
        "\n",
        "for i in range(75):\n",
        "    audio = australian_arrays[i]\n",
        "    noisy_audio = add_noise(audio)\n",
        "    pitched_audio = change_pitch(audio, sampling_rate)\n",
        "    speeded_audio = change_speed(audio)\n",
        "    australian_augmented.append(noisy_audio)\n",
        "    australian_augmented.append(pitched_audio)\n",
        "    australian_augmented.append(speeded_audio)\n",
        "\n",
        "for i in range(80):\n",
        "    audio = filipino_arrays[i]\n",
        "    noisy_audio = add_noise(audio)\n",
        "    pitched_audio = change_pitch(audio, sampling_rate)\n",
        "    speeded_audio = change_speed(audio)\n",
        "    filipino_augmented.append(noisy_audio)\n",
        "    filipino_augmented.append(pitched_audio)\n",
        "    filipino_augmented.append(speeded_audio)"
      ]
    },
    {
      "cell_type": "code",
      "execution_count": null,
      "metadata": {
        "id": "R3t7kK5B59ps"
      },
      "outputs": [],
      "source": [
        "scottish_augmented_sentence = []\n",
        "irish_augmented_sentence = []\n",
        "canadian_augmented_sentence = []\n",
        "australian_augmented_sentence = []\n",
        "filipino_augmented_sentence = []\n",
        "\n",
        "for i in range(len(scottish)):\n",
        "    scottish_augmented_sentence.append(scottish['sentence'][i])\n",
        "    scottish_augmented_sentence.append(scottish['sentence'][i])\n",
        "    scottish_augmented_sentence.append(scottish['sentence'][i])\n",
        "\n",
        "for i in range(190):\n",
        "    irish_augmented_sentence.append(irish['sentence'][i])\n",
        "    irish_augmented_sentence.append(irish['sentence'][i])\n",
        "    irish_augmented_sentence.append(irish['sentence'][i])\n",
        "\n",
        "for i in range(130):\n",
        "    canadian_augmented_sentence.append(canadian['sentence'][i])\n",
        "    canadian_augmented_sentence.append(canadian['sentence'][i])\n",
        "    canadian_augmented_sentence.append(canadian['sentence'][i])\n",
        "\n",
        "for i in range(75):\n",
        "    australian_augmented_sentence.append(australian['sentence'][i])\n",
        "    australian_augmented_sentence.append(australian['sentence'][i])\n",
        "    australian_augmented_sentence.append(australian['sentence'][i])\n",
        "\n",
        "for i in range(80):\n",
        "    filipino_augmented_sentence.append(filipino['sentence'][i])\n",
        "    filipino_augmented_sentence.append(filipino['sentence'][i])\n",
        "    filipino_augmented_sentence.append(filipino['sentence'][i])\n"
      ]
    },
    {
      "cell_type": "code",
      "execution_count": null,
      "metadata": {
        "id": "a53Yn1Qu59ps"
      },
      "outputs": [],
      "source": [
        "scottish_augmented_df = pd.DataFrame({'accents': 'Scottish English', 'sentence': scottish_augmented_sentence, 'audio': scottish_augmented})\n",
        "irish_augmented_df = pd.DataFrame({'accents': 'Irish English', 'sentence': irish_augmented_sentence, 'audio': irish_augmented})\n",
        "canadian_augmented_df = pd.DataFrame({'accents': 'Canadian English', 'sentence': canadian_augmented_sentence, 'audio': canadian_augmented})\n",
        "australian_augmented_df = pd.DataFrame({'accents': 'Australian English', 'sentence': australian_augmented_sentence, 'audio': australian_augmented})\n",
        "filipino_augmented_df = pd.DataFrame({'accents': 'Filipino', 'sentence': filipino_augmented_sentence, 'audio': filipino_augmented})\n",
        "\n",
        "scottish = pd.concat([scottish, scottish_augmented_df])\n",
        "scottish.reset_index(drop=True, inplace=True)\n",
        "irish = pd.concat([irish, irish_augmented_df])\n",
        "irish.reset_index(drop=True, inplace=True)\n",
        "canadian = pd.concat([canadian, canadian_augmented_df])\n",
        "canadian.reset_index(drop=True, inplace=True)\n",
        "australian = pd.concat([australian, australian_augmented_df])\n",
        "australian.reset_index(drop=True, inplace=True)\n",
        "filipino = pd.concat([filipino, filipino_augmented_df])\n",
        "filipino.reset_index(drop=True, inplace=True)"
      ]
    },
    {
      "cell_type": "code",
      "execution_count": null,
      "metadata": {
        "id": "AQNvofxZ59pt"
      },
      "outputs": [],
      "source": [
        "data_augmented = pd.concat([us,indian,england,scottish,irish,canadian,australian,filipino])"
      ]
    },
    {
      "cell_type": "code",
      "execution_count": null,
      "metadata": {
        "id": "oZecReZv59pt"
      },
      "outputs": [],
      "source": [
        "#second round augmentation for scottish\n",
        "scottish_augmented = []\n",
        "for i in range(120, 240):\n",
        "    audio = scottish['audio'][i]\n",
        "    noisy_audio = add_noise(audio)\n",
        "    pitched_audio = change_pitch(audio, sampling_rate)\n",
        "    speeded_audio = change_speed(audio)\n",
        "    scottish_augmented.append(noisy_audio)\n",
        "    scottish_augmented.append(pitched_audio)\n",
        "    scottish_augmented.append(speeded_audio)\n",
        "\n",
        "scottish_augmented_sentence = []\n",
        "for i in range(120, 240):\n",
        "    scottish_augmented_sentence.append(scottish['sentence'][i])\n",
        "    scottish_augmented_sentence.append(scottish['sentence'][i])\n",
        "    scottish_augmented_sentence.append(scottish['sentence'][i])\n",
        "\n",
        "scottish_augmented_df = pd.DataFrame({'accents': 'Scottish English', 'sentence': scottish_augmented_sentence, 'audio': scottish_augmented})\n",
        "data_augmented = pd.concat([data_augmented, scottish_augmented_df])"
      ]
    },
    {
      "cell_type": "code",
      "execution_count": null,
      "metadata": {
        "id": "w6BlGgKN59pt",
        "outputId": "cb82a8ce-2116-4ff7-856e-ae1f74a5de4c"
      },
      "outputs": [
        {
          "data": {
            "text/plain": [
              "United States English                                800\n",
              "India and South Asia (India, Pakistan, Sri Lanka)    800\n",
              "England English                                      800\n",
              "Irish English                                        796\n",
              "Canadian English                                     785\n",
              "Australian English                                   753\n",
              "Scottish English                                     724\n",
              "Filipino                                             711\n",
              "Name: accents, dtype: int64"
            ]
          },
          "execution_count": 17,
          "metadata": {},
          "output_type": "execute_result"
        }
      ],
      "source": [
        "data_augmented['accents'].value_counts()"
      ]
    },
    {
      "cell_type": "code",
      "execution_count": null,
      "metadata": {
        "id": "k0S_L71d59pt"
      },
      "outputs": [],
      "source": [
        "test_audio = []\n",
        "for audio in test_data['audio']:\n",
        "    test_audio.append(audio['array'])\n",
        "test_data['audio'] = test_audio"
      ]
    },
    {
      "cell_type": "code",
      "execution_count": null,
      "metadata": {
        "id": "p__zoHbt59pt"
      },
      "outputs": [],
      "source": [
        "test_data['accents'].value_counts()\n",
        "test_data.reset_index(drop=True, inplace=True)"
      ]
    },
    {
      "cell_type": "code",
      "execution_count": null,
      "metadata": {
        "id": "8z9hSKvb59pt"
      },
      "outputs": [],
      "source": [
        "data_augmented.reset_index(drop=True, inplace=True)"
      ]
    },
    {
      "cell_type": "markdown",
      "metadata": {
        "id": "547Hw9dO59pt"
      },
      "source": [
        "## Audio to Image spectro"
      ]
    },
    {
      "cell_type": "markdown",
      "metadata": {
        "id": "zazjqj0I59pt"
      },
      "source": [
        "- ViT (Vision Transformer)\n"
      ]
    },
    {
      "cell_type": "code",
      "execution_count": null,
      "metadata": {
        "id": "zRWz7dXg59pt"
      },
      "outputs": [],
      "source": [
        "import torch\n",
        "import torchvision.models as models\n",
        "import torch.nn as nn\n",
        "import matplotlib.pyplot as plt\n",
        "from torchvision import datasets, transforms\n",
        "from torch.utils.data import DataLoader, SubsetRandomSampler\n",
        "import torch.optim as optim   # SGD\n",
        "import time\n",
        "import numpy as np\n",
        "from tqdm.autonotebook import tqdm   #adds a progress bar to track training\n",
        "import pandas as pd"
      ]
    },
    {
      "cell_type": "code",
      "execution_count": null,
      "metadata": {
        "id": "bSWASF2N59pu"
      },
      "outputs": [],
      "source": [
        "#turn audio array to spectrogram\n",
        "def audio_to_melspectrogram(audio, sr = sampling_rate):\n",
        "    melspec = librosa.feature.melspectrogram(y=audio, sr = sr, n_mels=128)\n",
        "    melspec_db = librosa.power_to_db(melspec, ref=np.max)\n",
        "    return melspec_db\n"
      ]
    },
    {
      "cell_type": "code",
      "execution_count": null,
      "metadata": {
        "id": "MNvpultL59pu"
      },
      "outputs": [],
      "source": [
        "#turn all audio arrays to melspectrograms\n",
        "melspectrograms = []\n",
        "for audio in data_augmented['audio']:\n",
        "    melspec = audio_to_melspectrogram(audio)\n",
        "    melspectrograms.append(melspec)\n"
      ]
    },
    {
      "cell_type": "code",
      "execution_count": null,
      "metadata": {
        "id": "qP7nDMw859pu"
      },
      "outputs": [],
      "source": [
        "melspectrograms_test = []\n",
        "for audio in test_data['audio']:\n",
        "    melspec = audio_to_melspectrogram(audio)\n",
        "    melspectrograms_test.append(melspec)"
      ]
    },
    {
      "cell_type": "code",
      "execution_count": null,
      "metadata": {
        "id": "ep3OsUxb59pu",
        "outputId": "a3a3e4d8-bab5-4e57-d26e-244d889d6641"
      },
      "outputs": [
        {
          "name": "stdout",
          "output_type": "stream",
          "text": [
            "Collecting opencv-python\n",
            "  Downloading opencv_python-4.9.0.80-cp37-abi3-macosx_10_16_x86_64.whl.metadata (20 kB)\n",
            "Requirement already satisfied: numpy>=1.17.0 in /Users/dongzhehu/opt/anaconda3/lib/python3.8/site-packages (from opencv-python) (1.24.4)\n",
            "Downloading opencv_python-4.9.0.80-cp37-abi3-macosx_10_16_x86_64.whl (55.7 MB)\n",
            "\u001b[2K   \u001b[90m━━━━━━━━━━━━━━━━━━━━━━━━━━━━━━━━━━━━━━━━\u001b[0m \u001b[32m55.7/55.7 MB\u001b[0m \u001b[31m15.8 MB/s\u001b[0m eta \u001b[36m0:00:00\u001b[0m00:01\u001b[0m00:01\u001b[0m\n",
            "\u001b[?25hInstalling collected packages: opencv-python\n",
            "Successfully installed opencv-python-4.9.0.80\n",
            "Note: you may need to restart the kernel to use updated packages.\n"
          ]
        }
      ],
      "source": [
        "#pip install opencv-python"
      ]
    },
    {
      "cell_type": "code",
      "execution_count": null,
      "metadata": {
        "id": "QJk_mxwX59pu"
      },
      "outputs": [],
      "source": [
        "import cv2\n",
        "import numpy as np\n",
        "def resize_images(images, size=(224, 224)):\n",
        "    resized_images = []\n",
        "    for img in images:\n",
        "        resized_image = cv2.resize(img, size, interpolation=cv2.INTER_CUBIC)  # Using INTER_CUBIC for better resizing quality\n",
        "        resized_images.append(resized_image)\n",
        "    return np.array(resized_images)\n",
        "\n",
        "# # Call the resize function\n",
        "resized_images = resize_images(melspectrograms)\n",
        "resized_images_test = resize_images(melspectrograms_test)"
      ]
    },
    {
      "cell_type": "code",
      "execution_count": null,
      "metadata": {
        "id": "P_fqLASo59pu"
      },
      "outputs": [],
      "source": [
        "#normalize the images\n",
        "normalized_images = abs(resized_images / 255)\n",
        "normalized_images_test = abs(resized_images_test / 255)"
      ]
    },
    {
      "cell_type": "code",
      "execution_count": null,
      "metadata": {
        "id": "c9AU227159pv"
      },
      "outputs": [],
      "source": [
        "#3 channel images\n",
        "final_images = []\n",
        "for img in normalized_images:\n",
        "    final_image = np.stack((img,)*3, axis=-1)\n",
        "    final_images.append(final_image)\n",
        "final_images = np.array(final_images)\n",
        "\n",
        "final_images_test = []\n",
        "for img in normalized_images_test:\n",
        "    final_image = np.stack((img,)*3, axis=-1)\n",
        "    final_images_test.append(final_image)\n",
        "final_images_test = np.array(final_images_test)"
      ]
    },
    {
      "cell_type": "code",
      "execution_count": null,
      "metadata": {
        "id": "b18Rjubw59pv",
        "outputId": "9e476970-98d3-4b28-95a8-1504da9a84a5"
      },
      "outputs": [],
      "source": [
        "#output images to a folder\n",
        "import os\n",
        "import cv2\n",
        "import numpy as np\n",
        "from PIL import Image\n",
        "import matplotlib.pyplot as plt\n",
        "\n",
        "def save_images(images, path):\n",
        "    for i in range(len(images)):\n",
        "        image = images[i]\n",
        "        image = Image.fromarray((image * 255).astype(np.uint8))\n",
        "        image.save(f'{path}/image_{i}.png')\n",
        "\n",
        "save_images(final_images, 'train_images')\n",
        "save_images(final_images_test, 'test_images')"
      ]
    },
    {
      "cell_type": "code",
      "execution_count": null,
      "metadata": {
        "id": "CJrmis1a59pv"
      },
      "outputs": [],
      "source": [
        "data_augmented['accents'] = data_augmented['accents'].astype('category')\n",
        "test_data['accents'] = test_data['accents'].astype('category')"
      ]
    },
    {
      "cell_type": "code",
      "execution_count": null,
      "metadata": {
        "id": "VXe3zGl459pv"
      },
      "outputs": [],
      "source": [
        "lables = data_augmented['accents']\n",
        "lables_test = test_data['accents']\n",
        "#output the labels to a csv file\n",
        "lables.to_csv('text_labels.csv', index=False)\n",
        "lables_test.to_csv('text_labels_test.csv', index=False)\n"
      ]
    },
    {
      "cell_type": "markdown",
      "metadata": {
        "id": "kdR9wJ-y59pv"
      },
      "source": [
        "## Load Local Data\n"
      ]
    },
    {
      "cell_type": "code",
      "execution_count": null,
      "metadata": {
        "id": "QxjSNv0s59pv"
      },
      "outputs": [],
      "source": [
        "# #unzip file\n",
        "# import zipfile\n",
        "# with zipfile.ZipFile('train_images.zip', 'r') as zip_ref:\n",
        "#     zip_ref.extractall('train_images')\n",
        "# with zipfile.ZipFile('test_images.zip', 'r') as zip_ref:\n",
        "#     zip_ref.extractall('test_images')"
      ]
    },
    {
      "cell_type": "code",
      "execution_count": null,
      "metadata": {
        "id": "7l2VgoLy59pv"
      },
      "outputs": [],
      "source": [
        "from datasets import Dataset, Image\n",
        "#load all images\n",
        "train_images_path = []\n",
        "for i in range(0, 6169):\n",
        "    train_images_path.append(f'train_images/image_{i}.png')\n",
        "\n",
        "test_images_path = []\n",
        "for i in range(0, 1536):\n",
        "    test_images_path.append(f'test_images/image_{i}.png')\n"
      ]
    },
    {
      "cell_type": "code",
      "execution_count": null,
      "metadata": {
        "id": "wAOOwaCR59pw"
      },
      "outputs": [],
      "source": [
        "train_dataset = Dataset.from_dict({\"image\": train_images_path}).cast_column(\"image\", Image())\n",
        "test_dataset = Dataset.from_dict({\"image\": test_images_path}).cast_column(\"image\", Image())"
      ]
    },
    {
      "cell_type": "code",
      "execution_count": null,
      "metadata": {
        "id": "3oZCnUpM59pw"
      },
      "outputs": [],
      "source": [
        "#remove column name\n",
        "import pandas as pd\n",
        "train_labels = pd.read_csv('text_labels.csv')\n",
        "test_labels = pd.read_csv('text_labels_test.csv')"
      ]
    },
    {
      "cell_type": "code",
      "execution_count": null,
      "metadata": {
        "id": "ngdu54wN59pw"
      },
      "outputs": [],
      "source": [
        "#replace each label with number\n",
        "train_labels['accents'] = train_labels['accents'].replace({'United States English': 0, 'India and South Asia (India, Pakistan, Sri Lanka)': 1, 'England English': 2, 'Scottish English': 3, 'Irish English': 4, 'Canadian English': 5, 'Australian English': 6, 'Filipino': 7})\n",
        "test_labels['accents'] = test_labels['accents'].replace({'United States English': 0, 'India and South Asia (India, Pakistan, Sri Lanka)': 1, 'England English': 2, 'Scottish English': 3, 'Irish English': 4, 'Canadian English': 5, 'Australian English': 6, 'Filipino': 7})"
      ]
    },
    {
      "cell_type": "code",
      "execution_count": null,
      "metadata": {
        "id": "u1pX7-QV59px"
      },
      "outputs": [],
      "source": [
        "#add the labels to the dataset\n",
        "train_dataset = train_dataset.add_column(\"labels\", train_labels['accents'])\n",
        "test_dataset = test_dataset.add_column(\"labels\", test_labels['accents'])"
      ]
    },
    {
      "cell_type": "code",
      "execution_count": null,
      "metadata": {
        "colab": {
          "referenced_widgets": [
            "103d0d6016b04a72b114a4ee2789eeb8"
          ]
        },
        "id": "8qjkYYnB59px",
        "outputId": "f8931ef3-3c09-4f39-b087-acc96e77b701"
      },
      "outputs": [
        {
          "data": {
            "application/vnd.jupyter.widget-view+json": {
              "model_id": "103d0d6016b04a72b114a4ee2789eeb8",
              "version_major": 2,
              "version_minor": 0
            },
            "text/plain": [
              "preprocessor_config.json:   0%|          | 0.00/160 [00:00<?, ?B/s]"
            ]
          },
          "metadata": {},
          "output_type": "display_data"
        }
      ],
      "source": [
        "from transformers import ViTImageProcessor\n",
        "\n",
        "model_name_or_path = 'google/vit-base-patch16-224-in21k'\n",
        "processor = ViTImageProcessor.from_pretrained(model_name_or_path)\n"
      ]
    },
    {
      "cell_type": "code",
      "execution_count": null,
      "metadata": {
        "id": "e9NENdVC59px",
        "outputId": "4e899906-2947-4035-b726-275b58aabf4a"
      },
      "outputs": [
        {
          "data": {
            "text/plain": [
              "{'pixel_values': tensor([[[[-0.6000, -0.6549, -0.6863,  ..., -0.6078, -0.5843, -0.5451],\n",
              "          [-0.5922, -0.6392, -0.6706,  ..., -0.5922, -0.5765, -0.5451],\n",
              "          [-0.5686, -0.6157, -0.6392,  ..., -0.5765, -0.5686, -0.5451],\n",
              "          ...,\n",
              "          [-0.3725, -0.3804, -0.3725,  ..., -0.3725, -0.3725, -0.3725],\n",
              "          [-0.3725, -0.3804, -0.3725,  ..., -0.3725, -0.3725, -0.3725],\n",
              "          [-0.3725, -0.3725, -0.3804,  ..., -0.3725, -0.3725, -0.3725]],\n",
              "\n",
              "         [[-0.6000, -0.6549, -0.6863,  ..., -0.6078, -0.5843, -0.5451],\n",
              "          [-0.5922, -0.6392, -0.6706,  ..., -0.5922, -0.5765, -0.5451],\n",
              "          [-0.5686, -0.6157, -0.6392,  ..., -0.5765, -0.5686, -0.5451],\n",
              "          ...,\n",
              "          [-0.3725, -0.3804, -0.3725,  ..., -0.3725, -0.3725, -0.3725],\n",
              "          [-0.3725, -0.3804, -0.3725,  ..., -0.3725, -0.3725, -0.3725],\n",
              "          [-0.3725, -0.3725, -0.3804,  ..., -0.3725, -0.3725, -0.3725]],\n",
              "\n",
              "         [[-0.6000, -0.6549, -0.6863,  ..., -0.6078, -0.5843, -0.5451],\n",
              "          [-0.5922, -0.6392, -0.6706,  ..., -0.5922, -0.5765, -0.5451],\n",
              "          [-0.5686, -0.6157, -0.6392,  ..., -0.5765, -0.5686, -0.5451],\n",
              "          ...,\n",
              "          [-0.3725, -0.3804, -0.3725,  ..., -0.3725, -0.3725, -0.3725],\n",
              "          [-0.3725, -0.3804, -0.3725,  ..., -0.3725, -0.3725, -0.3725],\n",
              "          [-0.3725, -0.3725, -0.3804,  ..., -0.3725, -0.3725, -0.3725]]]]), 'labels': 5}"
            ]
          },
          "execution_count": 8,
          "metadata": {},
          "output_type": "execute_result"
        }
      ],
      "source": [
        "#processing\n",
        "def process_example(example):\n",
        "    inputs = processor(example['image'], return_tensors='pt')\n",
        "    inputs['labels'] = example['labels']\n",
        "    return inputs\n",
        "\n",
        "process_example(train_dataset[0])\n",
        "process_example(test_dataset[0])\n"
      ]
    },
    {
      "cell_type": "code",
      "execution_count": null,
      "metadata": {
        "id": "lNCOWPD359px"
      },
      "outputs": [],
      "source": [
        "def transform(example_batch):\n",
        "    # Take a list of PIL images and turn them to pixel values\n",
        "    inputs = processor([x for x in example_batch['image']], return_tensors='pt')\n",
        "\n",
        "    # Don't forget to include the labels!\n",
        "    inputs['labels'] = example_batch['labels']\n",
        "    return inputs"
      ]
    },
    {
      "cell_type": "code",
      "execution_count": null,
      "metadata": {
        "id": "rjoIjt6K59py"
      },
      "outputs": [],
      "source": [
        "prepared_ds = train_dataset.with_transform(transform)\n",
        "prepared_ds_test = test_dataset.with_transform(transform)"
      ]
    },
    {
      "cell_type": "code",
      "execution_count": null,
      "metadata": {
        "colab": {
          "referenced_widgets": [
            "2eda9a693d72495cb605a81f82f6fc64"
          ]
        },
        "id": "MJ3Oc62T59py",
        "outputId": "30268af6-22ba-4256-f124-da27530dea87"
      },
      "outputs": [
        {
          "data": {
            "application/vnd.jupyter.widget-view+json": {
              "model_id": "2eda9a693d72495cb605a81f82f6fc64",
              "version_major": 2,
              "version_minor": 0
            },
            "text/plain": [
              "Downloading builder script:   0%|          | 0.00/1.65k [00:00<?, ?B/s]"
            ]
          },
          "metadata": {},
          "output_type": "display_data"
        }
      ],
      "source": [
        "#data collator\n",
        "import torch\n",
        "\n",
        "def collate_fn(batch):\n",
        "    return {\n",
        "        'pixel_values': torch.stack([x['pixel_values'] for x in batch]),\n",
        "        'labels': torch.tensor([x['labels'] for x in batch])\n",
        "    }\n",
        "\n",
        "#evaluation metrics\n",
        "import numpy as np\n",
        "from datasets import load_metric\n",
        "\n",
        "metric = load_metric(\"accuracy\")\n",
        "def compute_metrics(p):\n",
        "    return metric.compute(predictions=np.argmax(p.predictions, axis=1), references=p.label_ids)\n"
      ]
    },
    {
      "cell_type": "markdown",
      "metadata": {
        "id": "1H0DRCzw59py"
      },
      "source": [
        "## Model"
      ]
    },
    {
      "cell_type": "code",
      "execution_count": null,
      "metadata": {
        "id": "LRqRP2P159py",
        "outputId": "62f0c7c3-817a-4b9e-f4c5-7fbd4e4d26bc"
      },
      "outputs": [
        {
          "name": "stderr",
          "output_type": "stream",
          "text": [
            "\u001b[34m\u001b[1mwandb\u001b[0m: Logging into wandb.ai. (Learn how to deploy a W&B server locally: https://wandb.me/wandb-server)\n",
            "\u001b[34m\u001b[1mwandb\u001b[0m: You can find your API key in your browser here: https://wandb.ai/authorize\n",
            "\u001b[34m\u001b[1mwandb\u001b[0m: Paste an API key from your profile and hit enter, or press ctrl+c to quit:\u001b[34m\u001b[1mwandb\u001b[0m: Appending key for api.wandb.ai to your netrc file: /root/.netrc\n",
            "\u001b[34m\u001b[1mwandb\u001b[0m: Currently logged in as: \u001b[33malexhudongzhe\u001b[0m (\u001b[33maleksss\u001b[0m). Use \u001b[1m`wandb login --relogin`\u001b[0m to force relogin\n"
          ]
        },
        {
          "data": {
            "text/html": [
              "wandb version 0.16.6 is available!  To upgrade, please run:\n",
              " $ pip install wandb --upgrade"
            ],
            "text/plain": [
              "<IPython.core.display.HTML object>"
            ]
          },
          "metadata": {},
          "output_type": "display_data"
        },
        {
          "data": {
            "text/html": [
              "Tracking run with wandb version 0.13.4"
            ],
            "text/plain": [
              "<IPython.core.display.HTML object>"
            ]
          },
          "metadata": {},
          "output_type": "display_data"
        },
        {
          "data": {
            "text/html": [
              "Run data is saved locally in <code>/notebooks/wandb/run-20240429_150221-2puargng</code>"
            ],
            "text/plain": [
              "<IPython.core.display.HTML object>"
            ]
          },
          "metadata": {},
          "output_type": "display_data"
        },
        {
          "data": {
            "text/html": [
              "Syncing run <strong><a href=\"https://wandb.ai/aleksss/accent-classification/runs/2puargng\" target=\"_blank\">azure-yogurt-3</a></strong> to <a href=\"https://wandb.ai/aleksss/accent-classification\" target=\"_blank\">Weights & Biases</a> (<a href=\"https://wandb.me/run\" target=\"_blank\">docs</a>)<br/>"
            ],
            "text/plain": [
              "<IPython.core.display.HTML object>"
            ]
          },
          "metadata": {},
          "output_type": "display_data"
        },
        {
          "data": {
            "text/html": [
              "<button onClick=\"this.nextSibling.style.display='block';this.style.display='none';\">Display W&B run</button><iframe src=\"https://wandb.ai/aleksss/accent-classification/runs/2puargng?jupyter=true\" style=\"border:none;width:100%;height:420px;display:none;\"></iframe>"
            ],
            "text/plain": [
              "<wandb.sdk.wandb_run.Run at 0x7fc45c74ed60>"
            ]
          },
          "execution_count": 12,
          "metadata": {},
          "output_type": "execute_result"
        }
      ],
      "source": [
        "import wandb\n",
        "wandb.login()\n",
        "wandb.init(project='accent-classification')"
      ]
    },
    {
      "cell_type": "code",
      "execution_count": null,
      "metadata": {
        "colab": {
          "referenced_widgets": [
            "f95fe6c8d36941bfb4e793dee5cdc09d",
            "c990f45276114cd39fbe21058ee49089"
          ]
        },
        "id": "Gv_eNGBf59py",
        "outputId": "40e30747-0d16-4010-8157-eee652a933cb"
      },
      "outputs": [
        {
          "data": {
            "application/vnd.jupyter.widget-view+json": {
              "model_id": "f95fe6c8d36941bfb4e793dee5cdc09d",
              "version_major": 2,
              "version_minor": 0
            },
            "text/plain": [
              "config.json:   0%|          | 0.00/502 [00:00<?, ?B/s]"
            ]
          },
          "metadata": {},
          "output_type": "display_data"
        },
        {
          "data": {
            "application/vnd.jupyter.widget-view+json": {
              "model_id": "c990f45276114cd39fbe21058ee49089",
              "version_major": 2,
              "version_minor": 0
            },
            "text/plain": [
              "model.safetensors:   0%|          | 0.00/346M [00:00<?, ?B/s]"
            ]
          },
          "metadata": {},
          "output_type": "display_data"
        },
        {
          "name": "stderr",
          "output_type": "stream",
          "text": [
            "Some weights of ViTForImageClassification were not initialized from the model checkpoint at google/vit-base-patch16-224-in21k and are newly initialized: ['classifier.bias', 'classifier.weight']\n",
            "You should probably TRAIN this model on a down-stream task to be able to use it for predictions and inference.\n"
          ]
        }
      ],
      "source": [
        "from transformers import ViTForImageClassification\n",
        "\n",
        "labels = list(set(train_dataset['labels']))\n",
        "\n",
        "model = ViTForImageClassification.from_pretrained(\n",
        "    model_name_or_path,\n",
        "    num_labels=len(labels),\n",
        "    id2label={str(i): c for i, c in enumerate(labels)},\n",
        "    label2id={c: str(i) for i, c in enumerate(labels)}\n",
        ")\n"
      ]
    },
    {
      "cell_type": "code",
      "execution_count": null,
      "metadata": {
        "id": "DlSni01o59py"
      },
      "outputs": [],
      "source": [
        "#arguments\n",
        "from transformers import TrainingArguments\n",
        "\n",
        "training_args = TrainingArguments(\n",
        "  output_dir=\"./vit-base-beans\",\n",
        "  per_device_train_batch_size=32,\n",
        "  evaluation_strategy=\"epoch\",\n",
        "  save_strategy=\"epoch\",\n",
        "  num_train_epochs=3,\n",
        "  fp16=True,\n",
        "  learning_rate=2e-4,\n",
        "  save_total_limit=2,\n",
        "  remove_unused_columns=False,\n",
        "  push_to_hub=False,\n",
        "  load_best_model_at_end=True,\n",
        "  report_to='wandb',\n",
        ")\n"
      ]
    },
    {
      "cell_type": "code",
      "execution_count": null,
      "metadata": {
        "id": "kFJo0rc559py"
      },
      "outputs": [],
      "source": [
        "from transformers import Trainer\n",
        "\n",
        "trainer = Trainer(\n",
        "    model=model,\n",
        "    args=training_args,\n",
        "    data_collator=collate_fn,\n",
        "    compute_metrics=compute_metrics,\n",
        "    train_dataset=prepared_ds,\n",
        "    eval_dataset=prepared_ds_test,\n",
        "    tokenizer=processor,\n",
        ")"
      ]
    },
    {
      "cell_type": "code",
      "execution_count": null,
      "metadata": {
        "id": "uRyH0Qmd59pz",
        "outputId": "4467a4a6-59f3-4c5b-b3b1-d3d967b91db9"
      },
      "outputs": [
        {
          "data": {
            "text/html": [
              "\n",
              "    <div>\n",
              "      \n",
              "      <progress value='579' max='579' style='width:300px; height:20px; vertical-align: middle;'></progress>\n",
              "      [579/579 05:38, Epoch 3/3]\n",
              "    </div>\n",
              "    <table border=\"1\" class=\"dataframe\">\n",
              "  <thead>\n",
              " <tr style=\"text-align: left;\">\n",
              "      <th>Epoch</th>\n",
              "      <th>Training Loss</th>\n",
              "      <th>Validation Loss</th>\n",
              "      <th>Accuracy</th>\n",
              "    </tr>\n",
              "  </thead>\n",
              "  <tbody>\n",
              "    <tr>\n",
              "      <td>1</td>\n",
              "      <td>No log</td>\n",
              "      <td>0.324341</td>\n",
              "      <td>0.914714</td>\n",
              "    </tr>\n",
              "    <tr>\n",
              "      <td>2</td>\n",
              "      <td>No log</td>\n",
              "      <td>0.062901</td>\n",
              "      <td>0.986979</td>\n",
              "    </tr>\n",
              "    <tr>\n",
              "      <td>3</td>\n",
              "      <td>0.283300</td>\n",
              "      <td>0.038180</td>\n",
              "      <td>0.992188</td>\n",
              "    </tr>\n",
              "  </tbody>\n",
              "</table><p>"
            ],
            "text/plain": [
              "<IPython.core.display.HTML object>"
            ]
          },
          "metadata": {},
          "output_type": "display_data"
        },
        {
          "name": "stdout",
          "output_type": "stream",
          "text": [
            "***** train metrics *****\n",
            "  epoch                    =          3.0\n",
            "  total_flos               = 1335722743GF\n",
            "  train_loss               =       0.2472\n",
            "  train_runtime            =   0:05:47.14\n",
            "  train_samples_per_second =       53.312\n",
            "  train_steps_per_second   =        1.668\n"
          ]
        }
      ],
      "source": [
        "train_results = trainer.train()\n",
        "trainer.save_model()\n",
        "trainer.log_metrics(\"train\", train_results.metrics)\n",
        "trainer.save_metrics(\"train\", train_results.metrics)\n",
        "trainer.save_state()"
      ]
    },
    {
      "cell_type": "code",
      "execution_count": null,
      "metadata": {
        "id": "4W_T8Zba59pz",
        "outputId": "678d63ef-079e-4a04-a907-e7db9f46241d"
      },
      "outputs": [
        {
          "data": {
            "text/html": [],
            "text/plain": [
              "<IPython.core.display.HTML object>"
            ]
          },
          "metadata": {},
          "output_type": "display_data"
        },
        {
          "name": "stdout",
          "output_type": "stream",
          "text": [
            "***** eval metrics *****\n",
            "  epoch                   =        3.0\n",
            "  eval_accuracy           =     0.9922\n",
            "  eval_loss               =     0.0382\n",
            "  eval_runtime            = 0:00:09.79\n",
            "  eval_samples_per_second =    156.796\n",
            "  eval_steps_per_second   =     19.599\n"
          ]
        }
      ],
      "source": [
        "#evaluation\n",
        "metrics = trainer.evaluate(prepared_ds_test)\n",
        "trainer.log_metrics(\"eval\", metrics)\n",
        "trainer.save_metrics(\"eval\", metrics)\n"
      ]
    },
    {
      "cell_type": "code",
      "execution_count": null,
      "metadata": {
        "id": "-98f8pII59pz",
        "outputId": "fba8ea34-5fb9-4ec6-8297-1c632378414e"
      },
      "outputs": [
        {
          "data": {
            "text/plain": [
              "<AxesSubplot: >"
            ]
          },
          "execution_count": 18,
          "metadata": {},
          "output_type": "execute_result"
        },
        {
          "data": {
            "image/png": "[encoded data removed]",
            "text/plain": [
              "<Figure size 1000x1000 with 2 Axes>"
            ]
          },
          "metadata": {},
          "output_type": "display_data"
        }
      ],
      "source": [
        "#confusion matrix\n",
        "from sklearn.metrics import confusion_matrix\n",
        "import seaborn as sns\n",
        "import matplotlib.pyplot as plt\n",
        "\n",
        "predictions = trainer.predict(prepared_ds_test)\n",
        "y_pred = np.argmax(predictions.predictions, axis=1)\n",
        "y_true = test_labels\n",
        "cm = confusion_matrix(y_true, y_pred)\n",
        "\n"
      ]
    },
    {
      "cell_type": "code",
      "execution_count": null,
      "metadata": {
        "id": "5Uh64s1P59pz"
      },
      "outputs": [],
      "source": [
        "cm = ([[662,   2,   2,   0,   0,   0,   2,   2],\n",
        "       [  2, 223,   0,   0,   0,   0,   0,   0],\n",
        "       [  2,   0, 200,   0,   0,   1,   0,   0],\n",
        "       [  0,   0,   0,  28,   0,   0,   0,   0],\n",
        "       [  0,   0,   0,   0,  39,   0,   0,   0],\n",
        "       [  0,   0,   0,   0,   0,  100,   0,   0],\n",
        "       [  0,   0,   0,   0,   0,   0, 135,   0],\n",
        "       [  2,   0,   0,   0,   0,   0,   0, 134]])\n",
        "\n",
        "cm2 = ([[459,2,47,2,152]])\n",
        "\n",
        "cm3 =  [\n",
        "    [25, 2, 21, 32, 6, 1, 0, 48],\n",
        "    [21, 12, 14, 17, 11, 0, 0, 25],\n",
        "    [31, 12, 30, 42, 15, 3, 0, 70],\n",
        "    [23, 5, 23, 26, 13, 2, 0, 44],\n",
        "    [27, 3, 47, 47, 32, 5, 0, 64],\n",
        "    [6, 1, 3, 9, 2, 3, 0, 15],\n",
        "    [0, 0, 4, 8, 2, 0, 0, 8],\n",
        "    [137, 30, 103, 122, 55, 4, 1, 218]\n",
        "]\n",
        "\n",
        "cm3_reversed = [\n",
        "    [218, 1, 4, 55, 122, 103, 30, 137],\n",
        "    [8, 0, 0, 2, 8, 4, 0, 0],\n",
        "    [15, 0, 3, 2, 9, 3, 1, 6],\n",
        "    [64, 0, 5, 32, 47, 47, 3, 27],\n",
        "    [44, 0, 2, 13, 26, 23, 5, 23],\n",
        "    [70, 0, 3, 15, 42, 30, 12, 31],\n",
        "    [25, 0, 0, 11, 17, 14, 12, 21],\n",
        "    [48, 0, 1, 6, 32, 21, 2, 25]\n",
        "]\n",
        "\n",
        "\n",
        "cm4 = ([[669,   0,   0,   0,   1,   0,   0,   0],\n",
        "       [  0, 225,   0,   0,   0,   0,   0,   0],\n",
        "       [  1,   0, 202,   0,   0,   0,   0,   0],\n",
        "       [  0,   0,   0,  28,   0,   0,   0,   0],\n",
        "       [  0,   0,   0,   0,  39,   0,   0,   0],\n",
        "       [  0,   0,   0,   0,   0,  100,   0,   0],\n",
        "       [  0,   0,   0,   0,   0,   0, 135,   0],\n",
        "       [  0,   0,   0,   0,   0,   0,   0, 136]])\n",
        "\n"
      ]
    },
    {
      "cell_type": "code",
      "execution_count": null,
      "metadata": {
        "id": "CHE28qbe59pz",
        "outputId": "347aa686-62f8-406f-d482-d19de286bdad"
      },
      "outputs": [
        {
          "data": {
            "text/plain": [
              "Text(58.222222222222214, 0.5, 'True labels')"
            ]
          },
          "execution_count": 56,
          "metadata": {},
          "output_type": "execute_result"
        },
        {
          "data": {
            "image/png": "[encoded data removed]",
            "text/plain": [
              "<Figure size 700x300 with 2 Axes>"
            ]
          },
          "metadata": {},
          "output_type": "display_data"
        }
      ],
      "source": [
        "plt.figure(figsize=(7, 3))\n",
        "sns.heatmap(cm3_reversed, annot=True, fmt='g', cmap='Blues')\n",
        "#x-axis labels\n",
        "\n",
        "plt.xlabel('Predicted labels')\n",
        "plt.ylabel('True labels')"
      ]
    },
    {
      "cell_type": "markdown",
      "metadata": {
        "id": "7nV1qe5Y59p0"
      },
      "source": [
        "## Extra Test"
      ]
    },
    {
      "cell_type": "code",
      "execution_count": null,
      "metadata": {
        "id": "0FBSaH9q59p0"
      },
      "outputs": [],
      "source": [
        "# load us audio\n",
        "extra = pq.read_table(source= 'extra.parquet').to_pandas()"
      ]
    },
    {
      "cell_type": "code",
      "execution_count": null,
      "metadata": {
        "id": "8dF0tf_l59p0"
      },
      "outputs": [],
      "source": [
        "extra_audio = []\n",
        "for r in extra['audio']:\n",
        "    extra_audio.append(r['array'])\n",
        "\n",
        "extra_melspectrograms = []\n",
        "for audio in extra_audio:\n",
        "    melspec = audio_to_melspectrogram(audio)\n",
        "    extra_melspectrograms.append(melspec)\n",
        "\n",
        "extra_resized_images = resize_images(extra_melspectrograms)\n",
        "extra_normalized_images = abs(extra_resized_images / 255)\n",
        "extra_final_images = []\n",
        "for img in extra_normalized_images:\n",
        "    final_image = np.stack((img,)*3, axis=-1)\n",
        "    extra_final_images.append(final_image)\n",
        "extra_final_images = np.array(extra_final_images)\n"
      ]
    },
    {
      "cell_type": "code",
      "execution_count": null,
      "metadata": {
        "id": "dXj7trcI59p0"
      },
      "outputs": [],
      "source": [
        "#output images to a folder\n",
        "def save_images(images, path):\n",
        "    for i in range(len(images)):\n",
        "        image = images[i]\n",
        "        image = Image.fromarray((image * 255).astype(np.uint8))\n",
        "        image.save(f'{path}/image_{i}.png')\n",
        "\n",
        "save_images(extra_final_images, 'extra_images')"
      ]
    },
    {
      "cell_type": "code",
      "execution_count": null,
      "metadata": {
        "id": "7EytUUNn59p0"
      },
      "outputs": [],
      "source": [
        "#save label\n",
        "extra_labels = extra['accents']\n",
        "#output the labels to a csv file\n",
        "extra_labels.to_csv('extra_labels.csv', index=False)\n",
        "#replace with numner\n",
        "extra_labels = extra_labels.replace({'United States English': 0, 'India and South Asia (India, Pakistan, Sri Lanka)': 1, 'England English': 2, 'Scottish English': 3, 'Irish English': 4, 'Canadian English': 5, 'Australian English': 6, 'Filipino': 7})"
      ]
    },
    {
      "cell_type": "code",
      "execution_count": null,
      "metadata": {
        "id": "_qAp1ktA59p0"
      },
      "outputs": [],
      "source": [
        "#load images randomly\n",
        "from datasets import Dataset, Image\n",
        "extra_images_path = []\n",
        "for i in range(0, 698):\n",
        "    extra_images_path.append(f'extra_images/image_{i}.png')\n",
        "\n",
        "extra_dataset = Dataset.from_dict({\"image\": extra_images_path}).cast_column(\"image\", Image())"
      ]
    },
    {
      "cell_type": "code",
      "execution_count": null,
      "metadata": {
        "id": "nVE2LCcd59p0"
      },
      "outputs": [],
      "source": [
        "#first 1000 labels\n",
        "extra_labels = extra_labels[:1000]"
      ]
    },
    {
      "cell_type": "code",
      "execution_count": null,
      "metadata": {
        "id": "AaroMz2e59p1"
      },
      "outputs": [],
      "source": [
        "extra_dataset = extra_dataset.add_column(\"labels\", extra_labels)"
      ]
    },
    {
      "cell_type": "code",
      "execution_count": null,
      "metadata": {
        "id": "VWUMty9k59p1"
      },
      "outputs": [],
      "source": [
        "#predict\n",
        "prepared_extra_ds = extra_dataset.with_transform(transform)\n",
        "predictions = trainer.predict(prepared_extra_ds)"
      ]
    },
    {
      "cell_type": "code",
      "execution_count": null,
      "metadata": {
        "id": "aNBgQUdJ59p1"
      },
      "outputs": [],
      "source": [
        "predictions = np.argmax(predictions.predictions, axis=1)\n"
      ]
    },
    {
      "cell_type": "code",
      "execution_count": null,
      "metadata": {
        "id": "kO0A_U3359p1"
      },
      "outputs": [],
      "source": [
        "predictions"
      ]
    },
    {
      "cell_type": "code",
      "execution_count": null,
      "metadata": {
        "id": "1Ij4mvmy59p1",
        "outputId": "23567fcc-0c70-4c4e-a14a-71d7b3d338fb"
      },
      "outputs": [
        {
          "data": {
            "text/plain": [
              "0.7091690544412608"
            ]
          },
          "execution_count": 280,
          "metadata": {},
          "output_type": "execute_result"
        }
      ],
      "source": [
        "#accuracy\n",
        "from sklearn.metrics import accuracy_score\n",
        "accuracy_score(extra_labels, predictions)"
      ]
    },
    {
      "cell_type": "code",
      "execution_count": null,
      "metadata": {
        "id": "-_NQXaid59p1",
        "outputId": "2be6f3c5-2e41-4baa-df24-772bfb02c3f4"
      },
      "outputs": [
        {
          "data": {
            "text/plain": [
              "{0: 495, 2: 2, 3: 47, 5: 2, 7: 152}"
            ]
          },
          "execution_count": 290,
          "metadata": {},
          "output_type": "execute_result"
        }
      ],
      "source": [
        "#count unique in predictions\n",
        "unique, counts = np.unique(predictions, return_counts=True)\n",
        "dict(zip(unique, counts))"
      ]
    },
    {
      "cell_type": "code",
      "execution_count": null,
      "metadata": {
        "id": "VgQxrlg159p1",
        "outputId": "d1049d9d-3dd5-4fa8-c31f-6efec68d7872"
      },
      "outputs": [
        {
          "data": {
            "text/plain": [
              "([<matplotlib.axis.XTick at 0x7f92fe0cce50>,\n",
              "  <matplotlib.axis.XTick at 0x7f92fe0cce20>,\n",
              "  <matplotlib.axis.XTick at 0x7f92fe0ad880>,\n",
              "  <matplotlib.axis.XTick at 0x7f92fe0ba280>,\n",
              "  <matplotlib.axis.XTick at 0x7f92fe0bad30>],\n",
              " [Text(0, 0, 'United States English'),\n",
              "  Text(1, 0, 'England English'),\n",
              "  Text(2, 0, 'Scottish English'),\n",
              "  Text(3, 0, 'Canadian English'),\n",
              "  Text(4, 0, 'Filipino')])"
            ]
          },
          "execution_count": 293,
          "metadata": {},
          "output_type": "execute_result"
        },
        {
          "data": {
            "image/png": "[encoded data removed]",
            "text/plain": [
              "<Figure size 1000x1000 with 2 Axes>"
            ]
          },
          "metadata": {},
          "output_type": "display_data"
        }
      ],
      "source": [
        "#confusion matrix\n",
        "from sklearn.metrics import confusion_matrix\n",
        "import seaborn as sns\n",
        "import matplotlib.pyplot as plt\n",
        "\n",
        "cm = confusion_matrix(extra_labels, predictions)\n",
        "plt.figure(figsize=(10, 10))\n",
        "sns.heatmap(cm, annot=True, fmt='g', cmap='Blues')\n",
        "#change x labels\n",
        "plt.xticks(np.arange(5), ['United States English', 'England English', 'Scottish English', 'Canadian English', 'Filipino'], rotation=45)"
      ]
    },
    {
      "cell_type": "markdown",
      "metadata": {
        "id": "--m_jGvb59p2"
      },
      "source": [
        "## Extra 2"
      ]
    },
    {
      "cell_type": "code",
      "execution_count": null,
      "metadata": {
        "id": "hZKWrOjJ59p2"
      },
      "outputs": [],
      "source": [
        "extra2 = pq.read_table(source= 'extra2.parquet').to_pandas()"
      ]
    },
    {
      "cell_type": "code",
      "execution_count": null,
      "metadata": {
        "id": "SnRtwhLN59p2"
      },
      "outputs": [],
      "source": [
        "extra_audio = []\n",
        "for r in extra2['audio']:\n",
        "    extra_audio.append(r['array'])\n",
        "\n",
        "extra_melspectrograms = []\n",
        "for audio in extra_audio:\n",
        "    melspec = audio_to_melspectrogram(audio)\n",
        "    extra_melspectrograms.append(melspec)\n",
        "\n",
        "extra_resized_images = resize_images(extra_melspectrograms)\n",
        "extra_normalized_images = abs(extra_resized_images / 255)\n",
        "extra_final_images = []\n",
        "for img in extra_normalized_images:\n",
        "    final_image = np.stack((img,)*3, axis=-1)\n",
        "    extra_final_images.append(final_image)\n",
        "extra_final_images = np.array(extra_final_images)\n"
      ]
    },
    {
      "cell_type": "code",
      "execution_count": null,
      "metadata": {
        "id": "mS6XmOjb59p2"
      },
      "outputs": [],
      "source": [
        "#output images to a folder\n",
        "from PIL import Image\n",
        "def save_images(images, path):\n",
        "    for i in range(len(images)):\n",
        "        image = images[i]\n",
        "        image = Image.fromarray((image * 255).astype(np.uint8))\n",
        "        image.save(f'{path}/image_{i}.png')\n",
        "\n",
        "save_images(extra_final_images, 'extra2_images')"
      ]
    },
    {
      "cell_type": "code",
      "execution_count": null,
      "metadata": {
        "id": "5rXtMQzi59p2"
      },
      "outputs": [],
      "source": [
        "extra2_labels = extra2['accents']\n",
        "#output the labels to a csv file\n",
        "extra2_labels.to_csv('extra2_labels.csv', index=False)\n",
        "#replace with numner\n",
        "extra2_labels = extra2_labels.replace({'United States English': 0, 'India and South Asia (India, Pakistan, Sri Lanka)': 1, 'England English': 2, 'Scottish English': 3, 'Irish English': 4, 'Canadian English': 5, 'Australian English': 6, 'Filipino': 7})"
      ]
    },
    {
      "cell_type": "code",
      "execution_count": null,
      "metadata": {
        "id": "ubaCDN0e59p2"
      },
      "outputs": [],
      "source": [
        "#load images randomly\n",
        "from datasets import Dataset, Image\n",
        "extra2_images_path = []\n",
        "for i in range(0, 697):\n",
        "    extra2_images_path.append(f'extra2_images/image_{i}.png')\n",
        "\n",
        "extra2_dataset = Dataset.from_dict({\"image\": extra2_images_path}).cast_column(\"image\", Image())\n",
        "extra2_dataset = extra2_dataset.add_column(\"labels\", extra2_labels)"
      ]
    },
    {
      "cell_type": "code",
      "execution_count": null,
      "metadata": {
        "id": "ax5fMSuF59p3",
        "outputId": "6da11572-ab7f-4462-ecb7-556f4df4d55a"
      },
      "outputs": [
        {
          "data": {
            "text/html": [],
            "text/plain": [
              "<IPython.core.display.HTML object>"
            ]
          },
          "metadata": {},
          "output_type": "display_data"
        }
      ],
      "source": [
        "#predict\n",
        "prepared_extra2_ds = extra2_dataset.with_transform(transform)\n",
        "predictions = trainer.predict(prepared_extra2_ds)"
      ]
    },
    {
      "cell_type": "code",
      "execution_count": null,
      "metadata": {
        "id": "RIBBv9Mb59p3",
        "outputId": "2df506f3-6db2-4cdf-e144-51cd479e4a5d"
      },
      "outputs": [
        {
          "data": {
            "text/plain": [
              "0.975609756097561"
            ]
          },
          "execution_count": 274,
          "metadata": {},
          "output_type": "execute_result"
        }
      ],
      "source": [
        "#accuracy\n",
        "predictions = np.argmax(predictions.predictions, axis=1)\n",
        "accuracy_score(extra2_labels, predictions)\n"
      ]
    },
    {
      "cell_type": "markdown",
      "metadata": {
        "id": "hGEkAn415aj-"
      },
      "source": [
        "# Text Classification (Speech Transcript)"
      ]
    },
    {
      "cell_type": "code",
      "execution_count": null,
      "metadata": {
        "id": "tCAAQwBWaGPn"
      },
      "outputs": [],
      "source": [
        "import os\n",
        "import torch\n",
        "import torchvision\n",
        "import torch.nn as nn\n",
        "import matplotlib.pyplot as plt\n",
        "from torchvision import datasets, transforms\n",
        "from torch.utils.data import DataLoader, SubsetRandomSampler, Subset\n",
        "import torch.optim as optim\n",
        "import time\n",
        "import numpy as np\n",
        "import pandas as pd\n",
        "from tqdm.autonotebook import tqdm\n",
        "from PIL import Image\n",
        "import librosa\n",
        "from datasets import Dataset, Audio\n",
        "from sklearn.model_selection import train_test_split\n",
        "from sklearn.utils.class_weight import compute_class_weight\n",
        "\n",
        "\n",
        "\n",
        "\n",
        "\n",
        "cuda = torch.cuda.is_available()"
      ]
    },
    {
      "cell_type": "markdown",
      "metadata": {
        "id": "e5Tqem77ejXR"
      },
      "source": [
        "## **Import the data**"
      ]
    },
    {
      "cell_type": "markdown",
      "metadata": {
        "id": "lbLhzbVLfokN"
      },
      "source": [
        "Data Source: https://huggingface.co/datasets/WillHeld/accented_common_voice/tree/refs%2Fconvert%2Fparquet/default/partial-train"
      ]
    },
    {
      "cell_type": "markdown",
      "metadata": {},
      "source": [
        "Text Transformer 1, PERT: https://huggingface.co/google-bert/bert-base-uncased\n"
      ]
    },
    {
      "cell_type": "markdown",
      "metadata": {
        "id": "cOD20g3ZkXAV"
      },
      "source": [
        "Due to the size and format of the original data file parquet, we decided to download the data and import it from our own laptop. The file link can be found above."
      ]
    },
    {
      "cell_type": "code",
      "execution_count": null,
      "metadata": {
        "colab": {
          "base_uri": "https://localhost:8080/"
        },
        "id": "GwSJDxjceeHW",
        "outputId": "74fc4f9a-13f6-43dc-c5ff-cefe4a50987e"
      },
      "outputs": [
        {
          "name": "stdout",
          "output_type": "stream",
          "text": [
            "Drive already mounted at /content/drive; to attempt to forcibly remount, call drive.mount(\"/content/drive\", force_remount=True).\n"
          ]
        }
      ],
      "source": [
        "from google.colab import drive\n",
        "drive.mount('/content/drive')"
      ]
    },
    {
      "cell_type": "code",
      "execution_count": null,
      "metadata": {
        "id": "Ue9HARfPrmFy"
      },
      "outputs": [],
      "source": [
        "import pyarrow.parquet as pq\n",
        "\n",
        "df0 = pq.read_table(source= '/content/drive/MyDrive/year3/ST311/0000.parquet').to_pandas()\n",
        "df1 = pq.read_table(source= '/content/drive/MyDrive/year3/ST311/0001.parquet').to_pandas()\n",
        "df2 = pq.read_table(source= '/content/drive/MyDrive/year3/ST311/0002.parquet').to_pandas()\n",
        "df3 = pq.read_table(source= '/content/drive/MyDrive/year3/ST311/0003.parquet').to_pandas()\n",
        "df4 = pq.read_table(source= '/content/drive/MyDrive/year3/ST311/0004.parquet').to_pandas()\n",
        "df5 = pq.read_table(source= '/content/drive/MyDrive/year3/ST311/0005.parquet').to_pandas()\n",
        "df6 = pq.read_table(source= '/content/drive/MyDrive/year3/ST311/0006.parquet').to_pandas()\n",
        "df7 = pq.read_table(source= '/content/drive/MyDrive/year3/ST311/0007.parquet').to_pandas()"
      ]
    },
    {
      "cell_type": "code",
      "execution_count": null,
      "metadata": {
        "id": "aMgcLx5c7p7s"
      },
      "outputs": [],
      "source": [
        "data = pd.concat([df0,df1,df2,df3,df4,df5,df6,df7])\n",
        "data.reset_index(drop=True, inplace=True)"
      ]
    },
    {
      "cell_type": "code",
      "execution_count": null,
      "metadata": {
        "colab": {
          "base_uri": "https://localhost:8080/",
          "height": 759
        },
        "id": "evJNmoNmRipC",
        "outputId": "14d89831-0ae0-4e1b-907c-c5e1884baecf"
      },
      "outputs": [
        {
          "data": {
            "application/vnd.google.colaboratory.intrinsic+json": {
              "summary": "{\n  \"name\": \"data\",\n  \"rows\": 7678,\n  \"fields\": [\n    {\n      \"column\": \"path\",\n      \"properties\": {\n        \"dtype\": \"string\",\n        \"num_unique_values\": 7678,\n        \"samples\": [\n          \"common_voice_en_20275899.mp3\",\n          \"common_voice_en_24607163.mp3\",\n          \"common_voice_en_25947946.mp3\"\n        ],\n        \"semantic_type\": \"\",\n        \"description\": \"\"\n      }\n    },\n    {\n      \"column\": \"accents\",\n      \"properties\": {\n        \"dtype\": \"category\",\n        \"num_unique_values\": 8,\n        \"samples\": [\n          \"Scottish English\",\n          \"Filipino\",\n          \"India and South Asia (India, Pakistan, Sri Lanka)\"\n        ],\n        \"semantic_type\": \"\",\n        \"description\": \"\"\n      }\n    },\n    {\n      \"column\": \"sentence\",\n      \"properties\": {\n        \"dtype\": \"string\",\n        \"num_unique_values\": 7678,\n        \"samples\": [\n          \"According to Dunbar, the drum track was recorded at Joe Gibbs studio.\",\n          \"The River Amman flows through the village.\",\n          \"This year, Lego turned fifty.\"\n        ],\n        \"semantic_type\": \"\",\n        \"description\": \"\"\n      }\n    },\n    {\n      \"column\": \"up_votes\",\n      \"properties\": {\n        \"dtype\": \"number\",\n        \"std\": 0.6713325578489947,\n        \"min\": 2.0,\n        \"max\": 16.0,\n        \"num_unique_values\": 8,\n        \"samples\": [\n          4.0,\n          10.0,\n          2.0\n        ],\n        \"semantic_type\": \"\",\n        \"description\": \"\"\n      }\n    },\n    {\n      \"column\": \"down_votes\",\n      \"properties\": {\n        \"dtype\": \"number\",\n        \"std\": 0.35757992073845013,\n        \"min\": 0.0,\n        \"max\": 2.0,\n        \"num_unique_values\": 3,\n        \"samples\": [\n          1.0,\n          0.0,\n          2.0\n        ],\n        \"semantic_type\": \"\",\n        \"description\": \"\"\n      }\n    },\n    {\n      \"column\": \"age\",\n      \"properties\": {\n        \"dtype\": \"category\",\n        \"num_unique_values\": 7,\n        \"samples\": [\n          \"twenties\",\n          \"teens\",\n          \"fifties\"\n        ],\n        \"semantic_type\": \"\",\n        \"description\": \"\"\n      }\n    },\n    {\n      \"column\": \"gender\",\n      \"properties\": {\n        \"dtype\": \"category\",\n        \"num_unique_values\": 4,\n        \"samples\": [\n          \"male\",\n          \"other\",\n          \"female\"\n        ],\n        \"semantic_type\": \"\",\n        \"description\": \"\"\n      }\n    },\n    {\n      \"column\": \"audio\",\n      \"properties\": {\n        \"dtype\": \"object\",\n        \"semantic_type\": \"\",\n        \"description\": \"\"\n      }\n    }\n  ]\n}",
              "type": "dataframe",
              "variable_name": "data"
            },
            "text/html": [
              "\n",
              "  <div id=\"df-b4a86a15-f5da-4b65-9c00-3dbe48d6e0af\" class=\"colab-df-container\">\n",
              "    <div>\n",
              "<style scoped>\n",
              "    .dataframe tbody tr th:only-of-type {\n",
              "        vertical-align: middle;\n",
              "    }\n",
              "\n",
              "    .dataframe tbody tr th {\n",
              "        vertical-align: top;\n",
              "    }\n",
              "\n",
              "    .dataframe thead th {\n",
              "        text-align: right;\n",
              "    }\n",
              "</style>\n",
              "<table border=\"1\" class=\"dataframe\">\n",
              "  <thead>\n",
              "    <tr style=\"text-align: right;\">\n",
              "      <th></th>\n",
              "      <th>path</th>\n",
              "      <th>accents</th>\n",
              "      <th>sentence</th>\n",
              "      <th>up_votes</th>\n",
              "      <th>down_votes</th>\n",
              "      <th>age</th>\n",
              "      <th>gender</th>\n",
              "      <th>audio</th>\n",
              "    </tr>\n",
              "  </thead>\n",
              "  <tbody>\n",
              "    <tr>\n",
              "      <th>0</th>\n",
              "      <td>common_voice_en_23608720.mp3</td>\n",
              "      <td>India and South Asia (India, Pakistan, Sri Lanka)</td>\n",
              "      <td>The liner notes were written by Mark Paytress ...</td>\n",
              "      <td>2.0</td>\n",
              "      <td>1.0</td>\n",
              "      <td>twenties</td>\n",
              "      <td>female</td>\n",
              "      <td>{'array': [-1.7462298274040222e-10, -4.2200554...</td>\n",
              "    </tr>\n",
              "    <tr>\n",
              "      <th>1</th>\n",
              "      <td>common_voice_en_23608721.mp3</td>\n",
              "      <td>India and South Asia (India, Pakistan, Sri Lanka)</td>\n",
              "      <td>Microsoft has not made public statements about...</td>\n",
              "      <td>2.0</td>\n",
              "      <td>0.0</td>\n",
              "      <td>twenties</td>\n",
              "      <td>female</td>\n",
              "      <td>{'array': [5.093170329928398e-11, 7.3669070843...</td>\n",
              "    </tr>\n",
              "    <tr>\n",
              "      <th>2</th>\n",
              "      <td>common_voice_en_23608722.mp3</td>\n",
              "      <td>India and South Asia (India, Pakistan, Sri Lanka)</td>\n",
              "      <td>It indicates a letter that must be typed and m...</td>\n",
              "      <td>2.0</td>\n",
              "      <td>0.0</td>\n",
              "      <td>twenties</td>\n",
              "      <td>female</td>\n",
              "      <td>{'array': [0.0, -2.9103830456733704e-11, 4.365...</td>\n",
              "    </tr>\n",
              "    <tr>\n",
              "      <th>3</th>\n",
              "      <td>common_voice_en_23608754.mp3</td>\n",
              "      <td>India and South Asia (India, Pakistan, Sri Lanka)</td>\n",
              "      <td>Nasseri was born in the Anglo-Persian Oil Comp...</td>\n",
              "      <td>2.0</td>\n",
              "      <td>0.0</td>\n",
              "      <td>twenties</td>\n",
              "      <td>female</td>\n",
              "      <td>{'array': [5.4569682106375694e-11, -7.27595761...</td>\n",
              "    </tr>\n",
              "    <tr>\n",
              "      <th>4</th>\n",
              "      <td>common_voice_en_23608756.mp3</td>\n",
              "      <td>India and South Asia (India, Pakistan, Sri Lanka)</td>\n",
              "      <td>He was also an ordained minister and led vario...</td>\n",
              "      <td>2.0</td>\n",
              "      <td>1.0</td>\n",
              "      <td>twenties</td>\n",
              "      <td>female</td>\n",
              "      <td>{'array': [-8.731149137020111e-11, 1.273292582...</td>\n",
              "    </tr>\n",
              "    <tr>\n",
              "      <th>...</th>\n",
              "      <td>...</td>\n",
              "      <td>...</td>\n",
              "      <td>...</td>\n",
              "      <td>...</td>\n",
              "      <td>...</td>\n",
              "      <td>...</td>\n",
              "      <td>...</td>\n",
              "      <td>...</td>\n",
              "    </tr>\n",
              "    <tr>\n",
              "      <th>7673</th>\n",
              "      <td>common_voice_en_25122812.mp3</td>\n",
              "      <td>United States English</td>\n",
              "      <td>A Game Gear game by the same name was publishe...</td>\n",
              "      <td>2.0</td>\n",
              "      <td>0.0</td>\n",
              "      <td></td>\n",
              "      <td></td>\n",
              "      <td>{'array': [-2.4556356947869062e-11, -7.2759576...</td>\n",
              "    </tr>\n",
              "    <tr>\n",
              "      <th>7674</th>\n",
              "      <td>common_voice_en_25122824.mp3</td>\n",
              "      <td>United States English</td>\n",
              "      <td>He is the only President of Latvia to die in o...</td>\n",
              "      <td>2.0</td>\n",
              "      <td>0.0</td>\n",
              "      <td></td>\n",
              "      <td></td>\n",
              "      <td>{'array': [-1.0913936421275139e-11, -2.1827872...</td>\n",
              "    </tr>\n",
              "    <tr>\n",
              "      <th>7675</th>\n",
              "      <td>common_voice_en_25122825.mp3</td>\n",
              "      <td>United States English</td>\n",
              "      <td>Luther Rice College and Seminary is a private ...</td>\n",
              "      <td>2.0</td>\n",
              "      <td>0.0</td>\n",
              "      <td></td>\n",
              "      <td></td>\n",
              "      <td>{'array': [9.094947017729282e-13, -9.094947017...</td>\n",
              "    </tr>\n",
              "    <tr>\n",
              "      <th>7676</th>\n",
              "      <td>common_voice_en_25122826.mp3</td>\n",
              "      <td>United States English</td>\n",
              "      <td>Songs from these albums have also been feature...</td>\n",
              "      <td>2.0</td>\n",
              "      <td>1.0</td>\n",
              "      <td></td>\n",
              "      <td></td>\n",
              "      <td>{'array': [-2.7284841053187847e-12, -3.6379788...</td>\n",
              "    </tr>\n",
              "    <tr>\n",
              "      <th>7677</th>\n",
              "      <td>common_voice_en_25122827.mp3</td>\n",
              "      <td>United States English</td>\n",
              "      <td>Another head had intake and exhaust ports reve...</td>\n",
              "      <td>2.0</td>\n",
              "      <td>0.0</td>\n",
              "      <td></td>\n",
              "      <td></td>\n",
              "      <td>{'array': [2.2737367544323206e-11, 1.182343112...</td>\n",
              "    </tr>\n",
              "  </tbody>\n",
              "</table>\n",
              "<p>7678 rows × 8 columns</p>\n",
              "</div>\n",
              "    <div class=\"colab-df-buttons\">\n",
              "\n",
              "  <div class=\"colab-df-container\">\n",
              "    <button class=\"colab-df-convert\" onclick=\"convertToInteractive('df-b4a86a15-f5da-4b65-9c00-3dbe48d6e0af')\"\n",
              "            title=\"Convert this dataframe to an interactive table.\"\n",
              "            style=\"display:none;\">\n",
              "\n",
              "  <svg xmlns=\"http://www.w3.org/2000/svg\" height=\"24px\" viewBox=\"0 -960 960 960\">\n",
              "    <path d=\"M120-120v-720h720v720H120Zm60-500h600v-160H180v160Zm220 220h160v-160H400v160Zm0 220h160v-160H400v160ZM180-400h160v-160H180v160Zm440 0h160v-160H620v160ZM180-180h160v-160H180v160Zm440 0h160v-160H620v160Z\"/>\n",
              "  </svg>\n",
              "    </button>\n",
              "\n",
              "  <style>\n",
              "    .colab-df-container {\n",
              "      display:flex;\n",
              "      gap: 12px;\n",
              "    }\n",
              "\n",
              "    .colab-df-convert {\n",
              "      background-color: #E8F0FE;\n",
              "      border: none;\n",
              "      border-radius: 50%;\n",
              "      cursor: pointer;\n",
              "      display: none;\n",
              "      fill: #1967D2;\n",
              "      height: 32px;\n",
              "      padding: 0 0 0 0;\n",
              "      width: 32px;\n",
              "    }\n",
              "\n",
              "    .colab-df-convert:hover {\n",
              "      background-color: #E2EBFA;\n",
              "      box-shadow: 0px 1px 2px rgba(60, 64, 67, 0.3), 0px 1px 3px 1px rgba(60, 64, 67, 0.15);\n",
              "      fill: #174EA6;\n",
              "    }\n",
              "\n",
              "    .colab-df-buttons div {\n",
              "      margin-bottom: 4px;\n",
              "    }\n",
              "\n",
              "    [theme=dark] .colab-df-convert {\n",
              "      background-color: #3B4455;\n",
              "      fill: #D2E3FC;\n",
              "    }\n",
              "\n",
              "    [theme=dark] .colab-df-convert:hover {\n",
              "      background-color: #434B5C;\n",
              "      box-shadow: 0px 1px 3px 1px rgba(0, 0, 0, 0.15);\n",
              "      filter: drop-shadow(0px 1px 2px rgba(0, 0, 0, 0.3));\n",
              "      fill: #FFFFFF;\n",
              "    }\n",
              "  </style>\n",
              "\n",
              "    <script>\n",
              "      const buttonEl =\n",
              "        document.querySelector('#df-b4a86a15-f5da-4b65-9c00-3dbe48d6e0af button.colab-df-convert');\n",
              "      buttonEl.style.display =\n",
              "        google.colab.kernel.accessAllowed ? 'block' : 'none';\n",
              "\n",
              "      async function convertToInteractive(key) {\n",
              "        const element = document.querySelector('#df-b4a86a15-f5da-4b65-9c00-3dbe48d6e0af');\n",
              "        const dataTable =\n",
              "          await google.colab.kernel.invokeFunction('convertToInteractive',\n",
              "                                                    [key], {});\n",
              "        if (!dataTable) return;\n",
              "\n",
              "        const docLinkHtml = 'Like what you see? Visit the ' +\n",
              "          '<a target=\"_blank\" href=https://colab.research.google.com/notebooks/data_table.ipynb>data table notebook</a>'\n",
              "          + ' to learn more about interactive tables.';\n",
              "        element.innerHTML = '';\n",
              "        dataTable['output_type'] = 'display_data';\n",
              "        await google.colab.output.renderOutput(dataTable, element);\n",
              "        const docLink = document.createElement('div');\n",
              "        docLink.innerHTML = docLinkHtml;\n",
              "        element.appendChild(docLink);\n",
              "      }\n",
              "    </script>\n",
              "  </div>\n",
              "\n",
              "\n",
              "<div id=\"df-e982f35b-db1e-4e82-80e3-fcae3b5b5b23\">\n",
              "  <button class=\"colab-df-quickchart\" onclick=\"quickchart('df-e982f35b-db1e-4e82-80e3-fcae3b5b5b23')\"\n",
              "            title=\"Suggest charts\"\n",
              "            style=\"display:none;\">\n",
              "\n",
              "<svg xmlns=\"http://www.w3.org/2000/svg\" height=\"24px\"viewBox=\"0 0 24 24\"\n",
              "     width=\"24px\">\n",
              "    <g>\n",
              "        <path d=\"M19 3H5c-1.1 0-2 .9-2 2v14c0 1.1.9 2 2 2h14c1.1 0 2-.9 2-2V5c0-1.1-.9-2-2-2zM9 17H7v-7h2v7zm4 0h-2V7h2v10zm4 0h-2v-4h2v4z\"/>\n",
              "    </g>\n",
              "</svg>\n",
              "  </button>\n",
              "\n",
              "<style>\n",
              "  .colab-df-quickchart {\n",
              "      --bg-color: #E8F0FE;\n",
              "      --fill-color: #1967D2;\n",
              "      --hover-bg-color: #E2EBFA;\n",
              "      --hover-fill-color: #174EA6;\n",
              "      --disabled-fill-color: #AAA;\n",
              "      --disabled-bg-color: #DDD;\n",
              "  }\n",
              "\n",
              "  [theme=dark] .colab-df-quickchart {\n",
              "      --bg-color: #3B4455;\n",
              "      --fill-color: #D2E3FC;\n",
              "      --hover-bg-color: #434B5C;\n",
              "      --hover-fill-color: #FFFFFF;\n",
              "      --disabled-bg-color: #3B4455;\n",
              "      --disabled-fill-color: #666;\n",
              "  }\n",
              "\n",
              "  .colab-df-quickchart {\n",
              "    background-color: var(--bg-color);\n",
              "    border: none;\n",
              "    border-radius: 50%;\n",
              "    cursor: pointer;\n",
              "    display: none;\n",
              "    fill: var(--fill-color);\n",
              "    height: 32px;\n",
              "    padding: 0;\n",
              "    width: 32px;\n",
              "  }\n",
              "\n",
              "  .colab-df-quickchart:hover {\n",
              "    background-color: var(--hover-bg-color);\n",
              "    box-shadow: 0 1px 2px rgba(60, 64, 67, 0.3), 0 1px 3px 1px rgba(60, 64, 67, 0.15);\n",
              "    fill: var(--button-hover-fill-color);\n",
              "  }\n",
              "\n",
              "  .colab-df-quickchart-complete:disabled,\n",
              "  .colab-df-quickchart-complete:disabled:hover {\n",
              "    background-color: var(--disabled-bg-color);\n",
              "    fill: var(--disabled-fill-color);\n",
              "    box-shadow: none;\n",
              "  }\n",
              "\n",
              "  .colab-df-spinner {\n",
              "    border: 2px solid var(--fill-color);\n",
              "    border-color: transparent;\n",
              "    border-bottom-color: var(--fill-color);\n",
              "    animation:\n",
              "      spin 1s steps(1) infinite;\n",
              "  }\n",
              "\n",
              "  @keyframes spin {\n",
              "    0% {\n",
              "      border-color: transparent;\n",
              "      border-bottom-color: var(--fill-color);\n",
              "      border-left-color: var(--fill-color);\n",
              "    }\n",
              "    20% {\n",
              "      border-color: transparent;\n",
              "      border-left-color: var(--fill-color);\n",
              "      border-top-color: var(--fill-color);\n",
              "    }\n",
              "    30% {\n",
              "      border-color: transparent;\n",
              "      border-left-color: var(--fill-color);\n",
              "      border-top-color: var(--fill-color);\n",
              "      border-right-color: var(--fill-color);\n",
              "    }\n",
              "    40% {\n",
              "      border-color: transparent;\n",
              "      border-right-color: var(--fill-color);\n",
              "      border-top-color: var(--fill-color);\n",
              "    }\n",
              "    60% {\n",
              "      border-color: transparent;\n",
              "      border-right-color: var(--fill-color);\n",
              "    }\n",
              "    80% {\n",
              "      border-color: transparent;\n",
              "      border-right-color: var(--fill-color);\n",
              "      border-bottom-color: var(--fill-color);\n",
              "    }\n",
              "    90% {\n",
              "      border-color: transparent;\n",
              "      border-bottom-color: var(--fill-color);\n",
              "    }\n",
              "  }\n",
              "</style>\n",
              "\n",
              "  <script>\n",
              "    async function quickchart(key) {\n",
              "      const quickchartButtonEl =\n",
              "        document.querySelector('#' + key + ' button');\n",
              "      quickchartButtonEl.disabled = true;  // To prevent multiple clicks.\n",
              "      quickchartButtonEl.classList.add('colab-df-spinner');\n",
              "      try {\n",
              "        const charts = await google.colab.kernel.invokeFunction(\n",
              "            'suggestCharts', [key], {});\n",
              "      } catch (error) {\n",
              "        console.error('Error during call to suggestCharts:', error);\n",
              "      }\n",
              "      quickchartButtonEl.classList.remove('colab-df-spinner');\n",
              "      quickchartButtonEl.classList.add('colab-df-quickchart-complete');\n",
              "    }\n",
              "    (() => {\n",
              "      let quickchartButtonEl =\n",
              "        document.querySelector('#df-e982f35b-db1e-4e82-80e3-fcae3b5b5b23 button');\n",
              "      quickchartButtonEl.style.display =\n",
              "        google.colab.kernel.accessAllowed ? 'block' : 'none';\n",
              "    })();\n",
              "  </script>\n",
              "</div>\n",
              "    </div>\n",
              "  </div>\n"
            ],
            "text/plain": [
              "                              path  \\\n",
              "0     common_voice_en_23608720.mp3   \n",
              "1     common_voice_en_23608721.mp3   \n",
              "2     common_voice_en_23608722.mp3   \n",
              "3     common_voice_en_23608754.mp3   \n",
              "4     common_voice_en_23608756.mp3   \n",
              "...                            ...   \n",
              "7673  common_voice_en_25122812.mp3   \n",
              "7674  common_voice_en_25122824.mp3   \n",
              "7675  common_voice_en_25122825.mp3   \n",
              "7676  common_voice_en_25122826.mp3   \n",
              "7677  common_voice_en_25122827.mp3   \n",
              "\n",
              "                                                accents  \\\n",
              "0     India and South Asia (India, Pakistan, Sri Lanka)   \n",
              "1     India and South Asia (India, Pakistan, Sri Lanka)   \n",
              "2     India and South Asia (India, Pakistan, Sri Lanka)   \n",
              "3     India and South Asia (India, Pakistan, Sri Lanka)   \n",
              "4     India and South Asia (India, Pakistan, Sri Lanka)   \n",
              "...                                                 ...   \n",
              "7673                              United States English   \n",
              "7674                              United States English   \n",
              "7675                              United States English   \n",
              "7676                              United States English   \n",
              "7677                              United States English   \n",
              "\n",
              "                                               sentence  up_votes  down_votes  \\\n",
              "0     The liner notes were written by Mark Paytress ...       2.0         1.0   \n",
              "1     Microsoft has not made public statements about...       2.0         0.0   \n",
              "2     It indicates a letter that must be typed and m...       2.0         0.0   \n",
              "3     Nasseri was born in the Anglo-Persian Oil Comp...       2.0         0.0   \n",
              "4     He was also an ordained minister and led vario...       2.0         1.0   \n",
              "...                                                 ...       ...         ...   \n",
              "7673  A Game Gear game by the same name was publishe...       2.0         0.0   \n",
              "7674  He is the only President of Latvia to die in o...       2.0         0.0   \n",
              "7675  Luther Rice College and Seminary is a private ...       2.0         0.0   \n",
              "7676  Songs from these albums have also been feature...       2.0         1.0   \n",
              "7677  Another head had intake and exhaust ports reve...       2.0         0.0   \n",
              "\n",
              "           age  gender                                              audio  \n",
              "0     twenties  female  {'array': [-1.7462298274040222e-10, -4.2200554...  \n",
              "1     twenties  female  {'array': [5.093170329928398e-11, 7.3669070843...  \n",
              "2     twenties  female  {'array': [0.0, -2.9103830456733704e-11, 4.365...  \n",
              "3     twenties  female  {'array': [5.4569682106375694e-11, -7.27595761...  \n",
              "4     twenties  female  {'array': [-8.731149137020111e-11, 1.273292582...  \n",
              "...        ...     ...                                                ...  \n",
              "7673                    {'array': [-2.4556356947869062e-11, -7.2759576...  \n",
              "7674                    {'array': [-1.0913936421275139e-11, -2.1827872...  \n",
              "7675                    {'array': [9.094947017729282e-13, -9.094947017...  \n",
              "7676                    {'array': [-2.7284841053187847e-12, -3.6379788...  \n",
              "7677                    {'array': [2.2737367544323206e-11, 1.182343112...  \n",
              "\n",
              "[7678 rows x 8 columns]"
            ]
          },
          "execution_count": 6,
          "metadata": {},
          "output_type": "execute_result"
        }
      ],
      "source": [
        "data"
      ]
    },
    {
      "cell_type": "code",
      "execution_count": null,
      "metadata": {
        "colab": {
          "base_uri": "https://localhost:8080/"
        },
        "id": "kc79B_POoPaS",
        "outputId": "a9485768-5f2a-4160-97b9-38b7ffc2df2a"
      },
      "outputs": [
        {
          "data": {
            "text/plain": [
              "{'Australian English',\n",
              " 'Canadian English',\n",
              " 'England English',\n",
              " 'Filipino',\n",
              " 'India and South Asia (India, Pakistan, Sri Lanka)',\n",
              " 'Irish English',\n",
              " 'Scottish English',\n",
              " 'United States English'}"
            ]
          },
          "execution_count": 8,
          "metadata": {},
          "output_type": "execute_result"
        }
      ],
      "source": [
        "set(data['accents'])"
      ]
    },
    {
      "cell_type": "code",
      "execution_count": null,
      "metadata": {
        "colab": {
          "base_uri": "https://localhost:8080/"
        },
        "id": "5c7cgckWFjV4",
        "outputId": "7b6b9fea-dade-4e21-f2d6-464cd10f427d"
      },
      "outputs": [
        {
          "data": {
            "text/plain": [
              "{'array': array([-1.74622983e-10, -4.22005542e-10, -2.03726813e-10, ...,\n",
              "         4.54552310e-06,  1.05218151e-05,  1.69793075e-05]),\n",
              " 'path': './accents/datasets/common_voice_16_1/en/clips/common_voice_en_23608720.mp3',\n",
              " 'sampling_rate': 16000}"
            ]
          },
          "execution_count": 9,
          "metadata": {},
          "output_type": "execute_result"
        }
      ],
      "source": [
        "data['audio'][0]"
      ]
    },
    {
      "cell_type": "markdown",
      "metadata": {
        "id": "Mw6eTqX_GyA9"
      },
      "source": [
        "## **Data Pre-processing**\n",
        "Dealing with the class imbalance issues as the proportion of certain accents is far fewer than others. We first drop the columns that are unrelated to this research."
      ]
    },
    {
      "cell_type": "code",
      "execution_count": null,
      "metadata": {
        "colab": {
          "base_uri": "https://localhost:8080/"
        },
        "id": "T7QYHWRNu_Gf",
        "outputId": "59fdabe0-05ff-47cd-eba2-fb7a02a0685e"
      },
      "outputs": [
        {
          "data": {
            "text/plain": [
              "accents\n",
              "United States English                                3247\n",
              "India and South Asia (India, Pakistan, Sri Lanka)    1188\n",
              "England English                                      1094\n",
              "Australian English                                    663\n",
              "Filipino                                              607\n",
              "Canadian English                                      495\n",
              "Irish English                                         265\n",
              "Scottish English                                      119\n",
              "Name: count, dtype: int64"
            ]
          },
          "execution_count": 7,
          "metadata": {},
          "output_type": "execute_result"
        }
      ],
      "source": [
        "data = data.drop(['path'], axis=1)\n",
        "data = data.drop(['up_votes'], axis=1)\n",
        "data = data.drop(['down_votes'], axis=1)\n",
        "data = data.drop(['age'], axis=1)\n",
        "data = data.drop(['gender'], axis=1)\n",
        "data['accents'].value_counts()"
      ]
    },
    {
      "cell_type": "markdown",
      "metadata": {
        "id": "P4GAaADf_NAh"
      },
      "source": [
        "Then split the data to train and test set in the proportion of 8:2."
      ]
    },
    {
      "cell_type": "code",
      "execution_count": null,
      "metadata": {
        "colab": {
          "base_uri": "https://localhost:8080/"
        },
        "id": "6u_KS7vm_PkD",
        "outputId": "46ebfa6b-d0b4-41e5-92c2-1472ac692ce2"
      },
      "outputs": [
        {
          "data": {
            "text/plain": [
              "accents\n",
              "United States English                                2577\n",
              "India and South Asia (India, Pakistan, Sri Lanka)     963\n",
              "England English                                       891\n",
              "Australian English                                    528\n",
              "Filipino                                              471\n",
              "Canadian English                                      395\n",
              "Irish English                                         226\n",
              "Scottish English                                       91\n",
              "Name: count, dtype: int64"
            ]
          },
          "execution_count": 8,
          "metadata": {},
          "output_type": "execute_result"
        }
      ],
      "source": [
        "#train test split\n",
        "train, test = train_test_split(data, test_size=0.2, random_state=42)\n",
        "\n",
        "train['accents'].value_counts()"
      ]
    },
    {
      "cell_type": "markdown",
      "metadata": {
        "id": "ElLH92o3k4WG"
      },
      "source": [
        "Then we upsamle and downsample the minority and majority class."
      ]
    },
    {
      "cell_type": "code",
      "execution_count": null,
      "metadata": {
        "colab": {
          "base_uri": "https://localhost:8080/"
        },
        "id": "4LFlV_O9I4Pj",
        "outputId": "fd48c5e1-0eb9-4e11-87f2-c3b2622dd37f"
      },
      "outputs": [
        {
          "data": {
            "text/plain": [
              "accents\n",
              "United States English                                550\n",
              "India and South Asia (India, Pakistan, Sri Lanka)    550\n",
              "England English                                      550\n",
              "Australian English                                   528\n",
              "Filipino                                             471\n",
              "Irish English                                        450\n",
              "Canadian English                                     395\n",
              "Scottish English                                     270\n",
              "Name: count, dtype: int64"
            ]
          },
          "execution_count": 9,
          "metadata": {},
          "output_type": "execute_result"
        }
      ],
      "source": [
        "import pandas as pd\n",
        "from sklearn.utils import resample\n",
        "\n",
        "# Down sampling three classes\n",
        "US = train[train['accents'] == 'United States English']\n",
        "US = US.sample(n=550)\n",
        "\n",
        "India_south_asia = train[train['accents'] == 'India and South Asia (India, Pakistan, Sri Lanka)']\n",
        "India_south_asia = India_south_asia.sample(n=550)\n",
        "\n",
        "england = train[train['accents'] == 'England English']\n",
        "england = england.sample(n=550)\n",
        "\n",
        "# Upsample minority class\n",
        "scottish = train[train['accents'] == 'Scottish English']\n",
        "Irish = train[train['accents'] == 'Irish English']\n",
        "scottish = resample(scottish,replace=True,n_samples= 270, random_state=42)\n",
        "Irish = resample(Irish,replace=True,n_samples= 450, random_state=42)\n",
        "\n",
        "# Combine all classes\n",
        "the_rest = []\n",
        "new = []\n",
        "the_rest = pd.concat([train[train['accents'] == 'Australian English'],train[train['accents'] == \"Filipino\"], train[train['accents'] == 'Canadian English']])\n",
        "new = pd.concat([US, India_south_asia,england,scottish,Irish,the_rest])\n",
        "\n",
        "# Display new class counts\n",
        "new.reset_index(drop=True, inplace=True)\n",
        "new['accents'].value_counts()"
      ]
    },
    {
      "cell_type": "code",
      "execution_count": null,
      "metadata": {
        "colab": {
          "base_uri": "https://localhost:8080/",
          "height": 101,
          "referenced_widgets": [
            "d4013a29b6fd4954939db27640c29a8f",
            "9fbaf317ff734b2692eacb2f7cfceb0d",
            "d98f4c52f6204780b98d53afe75fae9c",
            "ef8b028bcea546fa97214bfe552fb554",
            "78765d8b6b2b4a07a1aae59b3e0c4a90",
            "2ca37c6548e14c9a95cf698c5f9471bf",
            "e713769ea8344023a7a6a15b15b9dd11",
            "12952b5c872e42b89fcb3c82bb9cbe69",
            "d86433f7a5924c0587741bdc7293e435",
            "c5b40c50eb4e49579c6f585ec1e94928",
            "7fd8508394aa4da4ab5a5caaa369eb17",
            "783ccea8cbab4d26a050f62035ff96d0",
            "037d82d953a54016bf1fb3d596bfc501",
            "f18c3564341f49fab8a94ad62419f933",
            "be19a1fb0d2045fd9389c04969642c5e",
            "0add081ba5044ebea6ecc10e0be20b77",
            "2424fc1d34274e79bb179e5d53bf4ed9",
            "338e109b444c414aacf93ca724e6aef2",
            "eb2fa119dbd04286a8f181ea26374102",
            "5ac9e1edf2a94142a3f3ee3ac74aef42",
            "d435077c30ca42468bec769471cc8e96",
            "3200b2eb8a774e98894ff0e585586484"
          ]
        },
        "id": "8qF3vSIlCzo0",
        "outputId": "369300cd-09c5-40d1-a9ac-628eba1ef3c6"
      },
      "outputs": [
        {
          "data": {
            "application/vnd.jupyter.widget-view+json": {
              "model_id": "d4013a29b6fd4954939db27640c29a8f",
              "version_major": 2,
              "version_minor": 0
            },
            "text/plain": [
              "Casting to class labels:   0%|          | 0/3764 [00:00<?, ? examples/s]"
            ]
          },
          "metadata": {},
          "output_type": "display_data"
        },
        {
          "data": {
            "application/vnd.jupyter.widget-view+json": {
              "model_id": "783ccea8cbab4d26a050f62035ff96d0",
              "version_major": 2,
              "version_minor": 0
            },
            "text/plain": [
              "Casting to class labels:   0%|          | 0/1536 [00:00<?, ? examples/s]"
            ]
          },
          "metadata": {},
          "output_type": "display_data"
        }
      ],
      "source": [
        "train_ds = Dataset.from_pandas(new)\n",
        "test_ds = Dataset.from_pandas(test)\n",
        "\n",
        "train_ds = train_ds.class_encode_column(\"accents\")\n",
        "test_ds = test_ds.class_encode_column(\"accents\")"
      ]
    },
    {
      "cell_type": "markdown",
      "metadata": {
        "id": "MKotfi7Gk-Rz"
      },
      "source": [
        "Audio is not the interest of text classification, therefore remove the column."
      ]
    },
    {
      "cell_type": "code",
      "execution_count": null,
      "metadata": {
        "id": "Za98oLRmUP5f"
      },
      "outputs": [],
      "source": [
        "train_ds = train_ds.remove_columns(\"audio\")\n",
        "test_ds = test_ds.remove_columns(\"audio\")"
      ]
    },
    {
      "cell_type": "code",
      "execution_count": null,
      "metadata": {
        "id": "VPPTdlr4bQYV"
      },
      "outputs": [],
      "source": [
        "labels = train_ds.features[\"accents\"].names\n",
        "label2id, id2label = dict(), dict()\n",
        "for i, label in enumerate(labels):\n",
        "    label2id[label] = str(i)\n",
        "    id2label[str(i)] = label"
      ]
    },
    {
      "cell_type": "code",
      "execution_count": null,
      "metadata": {
        "colab": {
          "base_uri": "https://localhost:8080/"
        },
        "id": "1Ufy5oYQdP85",
        "outputId": "968c0c6b-933e-49a5-a388-b20708f8a2e9"
      },
      "outputs": [
        {
          "data": {
            "text/plain": [
              "Dataset({\n",
              "    features: ['accents', 'sentence'],\n",
              "    num_rows: 3764\n",
              "})"
            ]
          },
          "execution_count": 13,
          "metadata": {},
          "output_type": "execute_result"
        }
      ],
      "source": [
        "train_ds"
      ]
    },
    {
      "cell_type": "markdown",
      "metadata": {
        "id": "kFXOkJ7ko8I7"
      },
      "source": [
        "##**Bert**"
      ]
    },
    {
      "cell_type": "markdown",
      "metadata": {
        "id": "vhhzEggOZQPC"
      },
      "source": [
        "Tokenize the data"
      ]
    },
    {
      "cell_type": "code",
      "execution_count": null,
      "metadata": {
        "colab": {
          "base_uri": "https://localhost:8080/",
          "height": 203,
          "referenced_widgets": [
            "f917af9adaef430f8660e0ed6fd6322a",
            "0cf122e44d7c46e1b410f7896042e5b6",
            "ca1c68c56f18430e9234639c5e44c2a0",
            "881992e5d1a047ebb8dec3141366b635",
            "c752d223246740e68c4b293b9715682c",
            "afc20b9486594372bb5cb3941fdd704f",
            "8705a88d50784fb78531cc344f954410",
            "a989028a129240ccaba47f4324aafea4",
            "69b5b01b311e4d04b7e5f115900ad3c0",
            "2d357928ffbf4b0fa9603c82b414311e",
            "35a8ea96820e44daa23f40e1b7dbf9c6",
            "a8b96ccfd63945eb8e57e39d70e2df28",
            "f245213000dc47c1bdb3ce4c1a58439e",
            "f106e83a3f7a459ea1cd701f5f40e633",
            "d48d1c559d4c4de98e9acc86b13c51cb",
            "45b3cfd4309c46f6869bb7c18d79fab5",
            "53b5784089d14724ade93ab24eef4390",
            "cca63aae741e47b58a54e16ba0bde2ac",
            "7300ebff9b2241e99fb0408a6342da0f",
            "81f12d859d774a45b777d9cde16c2b18",
            "0a706e5e20c8448fa50082a8631d3712",
            "1c5a0bbe45e64cc2a8a5c57e9c76142a"
          ]
        },
        "id": "r8eNyMp8ZB0m",
        "outputId": "b83f42e2-573c-45f1-92b8-0a84b9c05414"
      },
      "outputs": [
        {
          "name": "stderr",
          "output_type": "stream",
          "text": [
            "/usr/local/lib/python3.10/dist-packages/huggingface_hub/utils/_token.py:89: UserWarning: \n",
            "The secret `HF_TOKEN` does not exist in your Colab secrets.\n",
            "To authenticate with the Hugging Face Hub, create a token in your settings tab (https://huggingface.co/settings/tokens), set it as secret in your Google Colab and restart your session.\n",
            "You will be able to reuse this secret in all of your notebooks.\n",
            "Please note that authentication is recommended but still optional to access public models or datasets.\n",
            "  warnings.warn(\n"
          ]
        },
        {
          "data": {
            "application/vnd.jupyter.widget-view+json": {
              "model_id": "f917af9adaef430f8660e0ed6fd6322a",
              "version_major": 2,
              "version_minor": 0
            },
            "text/plain": [
              "Map:   0%|          | 0/3764 [00:00<?, ? examples/s]"
            ]
          },
          "metadata": {},
          "output_type": "display_data"
        },
        {
          "data": {
            "application/vnd.jupyter.widget-view+json": {
              "model_id": "a8b96ccfd63945eb8e57e39d70e2df28",
              "version_major": 2,
              "version_minor": 0
            },
            "text/plain": [
              "Map:   0%|          | 0/1536 [00:00<?, ? examples/s]"
            ]
          },
          "metadata": {},
          "output_type": "display_data"
        }
      ],
      "source": [
        "# tokenize the data\n",
        "from transformers import AutoTokenizer, DataCollatorWithPadding\n",
        "\n",
        "checkpoint = \"bert-base-uncased\"\n",
        "tokenizer = AutoTokenizer.from_pretrained(checkpoint)\n",
        "\n",
        "def tokenize_function(example):\n",
        "    return tokenizer(example[\"sentence\"], padding = \"max_length\")\n",
        "\n",
        "tokenized_datasets_train = train_ds.map(tokenize_function, batched=True)\n",
        "tokenized_datasets_test = test_ds.map(tokenize_function, batched=True)\n",
        "\n",
        "tokenized_datasets_train = tokenized_datasets_train.rename_column(\"accents\",\"label\")\n",
        "tokenized_datasets_test = tokenized_datasets_test.rename_column(\"accents\",\"label\")\n",
        "\n",
        "data_collator = DataCollatorWithPadding(tokenizer=tokenizer)"
      ]
    },
    {
      "cell_type": "code",
      "execution_count": null,
      "metadata": {
        "colab": {
          "base_uri": "https://localhost:8080/"
        },
        "id": "ZV8HwuFwnTcm",
        "outputId": "c0b8ade9-1b89-42ce-c5d8-7f5b49a8b5ea"
      },
      "outputs": [
        {
          "data": {
            "text/plain": [
              "Dataset({\n",
              "    features: ['label', 'sentence', 'input_ids', 'token_type_ids', 'attention_mask'],\n",
              "    num_rows: 3764\n",
              "})"
            ]
          },
          "execution_count": 18,
          "metadata": {},
          "output_type": "execute_result"
        }
      ],
      "source": [
        "tokenized_datasets_train"
      ]
    },
    {
      "cell_type": "code",
      "execution_count": null,
      "metadata": {
        "id": "1sZOxkKUd6eA"
      },
      "outputs": [],
      "source": [
        "pip install transformers[torch]"
      ]
    },
    {
      "cell_type": "code",
      "execution_count": null,
      "metadata": {
        "id": "36GT_qt4d8uO"
      },
      "outputs": [],
      "source": [
        "pip install evaluate"
      ]
    },
    {
      "cell_type": "markdown",
      "metadata": {
        "id": "UAv8l2Sy9NY7"
      },
      "source": [
        "##**8 epoch**"
      ]
    },
    {
      "cell_type": "markdown",
      "metadata": {
        "id": "-9Xjv8zdlMks"
      },
      "source": [
        "Define and train the BERT model with 8 epochs."
      ]
    },
    {
      "cell_type": "code",
      "execution_count": null,
      "metadata": {
        "colab": {
          "base_uri": "https://localhost:8080/",
          "height": 103,
          "referenced_widgets": [
            "c4d63f61c4754f49af45413eeb3bf5e5",
            "bc1e1e27c8cd4fd6b9a262109f8cb3ea",
            "2c3a36842c074188b3ec3889ee9b4729",
            "718cf7f8abfc47e6b0e38a10a6c022ec",
            "467e2cdd60824c0781d3cd6f94ffad7d",
            "a1d08ed77e044afd87eed4dee5128375",
            "6d810a39c5974289b7a0813cb846d62e",
            "8f83a4e8fbec4e45aea6c63961e3064c",
            "7fee46a68fdb4b6f928cbcfbaab00408",
            "5fe986719e3e4b5185ffb390c1a15230",
            "bdb2fb56c0bf4415a4e1e8f35328324f"
          ]
        },
        "id": "as6L6kd_dvl6",
        "outputId": "2fb08ce4-88f4-49dc-b251-333b439f78ec"
      },
      "outputs": [
        {
          "data": {
            "application/vnd.jupyter.widget-view+json": {
              "model_id": "c4d63f61c4754f49af45413eeb3bf5e5",
              "version_major": 2,
              "version_minor": 0
            },
            "text/plain": [
              "model.safetensors:   0%|          | 0.00/440M [00:00<?, ?B/s]"
            ]
          },
          "metadata": {},
          "output_type": "display_data"
        },
        {
          "name": "stderr",
          "output_type": "stream",
          "text": [
            "Some weights of BertForSequenceClassification were not initialized from the model checkpoint at bert-base-uncased and are newly initialized: ['classifier.bias', 'classifier.weight']\n",
            "You should probably TRAIN this model on a down-stream task to be able to use it for predictions and inference.\n"
          ]
        }
      ],
      "source": [
        "#Define a training arguments class\n",
        "from transformers import TrainingArguments\n",
        "training_args = TrainingArguments(\"test-trainer\", evaluation_strategy=\"epoch\", num_train_epochs=8)\n",
        "\n",
        "\n",
        "#Define the model\n",
        "num_labels = len(id2label)\n",
        "num_labels\n",
        "from transformers import AutoModelForSequenceClassification\n",
        "model = AutoModelForSequenceClassification.from_pretrained(checkpoint,num_labels=num_labels)\n",
        "\n",
        "\n",
        "#Define the compute metrics\n",
        "import evaluate\n",
        "\n",
        "def compute_metrics(eval_preds):\n",
        "    metric = evaluate.load(\"accuracy\")\n",
        "    logits, labels = eval_preds\n",
        "    predictions = np.argmax(logits, axis=-1)\n",
        "    return metric.compute(predictions=predictions, references=labels)\n",
        "\n",
        "\n",
        "#Define a trainer\n",
        "from transformers import Trainer\n",
        "\n",
        "trainer = Trainer(\n",
        "    model,\n",
        "    training_args,\n",
        "    train_dataset=tokenized_datasets_train,\n",
        "    eval_dataset=tokenized_datasets_test,\n",
        "    data_collator=data_collator,\n",
        "    tokenizer=tokenizer,\n",
        "    compute_metrics = compute_metrics,\n",
        ")"
      ]
    },
    {
      "cell_type": "code",
      "execution_count": null,
      "metadata": {
        "colab": {
          "base_uri": "https://localhost:8080/",
          "height": 389,
          "referenced_widgets": [
            "0e7ac9d27c184fd4bf1d46498db94f1a",
            "fabb668364954b869b464aaa249ce119",
            "1b073bdbccbc43639b59063e5d2e2738",
            "2a4aa382d7194e3a8a8d49a9909e1e0b",
            "11add0f84607494dbe4111bc18fadd6e",
            "ebc89e066a5349ac9b4d292d4526b677",
            "f38f63b4878347b2b97a98d8a82ed090",
            "670b56a71536457aa65e57441e461354",
            "73df7611841e44879b3164c1522dbeed",
            "ba3cfba7457140c7aac7c9fa194785d6",
            "f5a27c89294b441fbaecf91c45bff6c4"
          ]
        },
        "id": "Ll8J6VEPge0q",
        "outputId": "612fda7b-58e3-4872-cab5-a44cf58bef60"
      },
      "outputs": [
        {
          "data": {
            "text/html": [
              "\n",
              "    <div>\n",
              "      \n",
              "      <progress value='3768' max='3768' style='width:300px; height:20px; vertical-align: middle;'></progress>\n",
              "      [3768/3768 14:34, Epoch 8/8]\n",
              "    </div>\n",
              "    <table border=\"1\" class=\"dataframe\">\n",
              "  <thead>\n",
              " <tr style=\"text-align: left;\">\n",
              "      <th>Epoch</th>\n",
              "      <th>Training Loss</th>\n",
              "      <th>Validation Loss</th>\n",
              "      <th>Accuracy</th>\n",
              "    </tr>\n",
              "  </thead>\n",
              "  <tbody>\n",
              "    <tr>\n",
              "      <td>1</td>\n",
              "      <td>No log</td>\n",
              "      <td>1.984597</td>\n",
              "      <td>0.160807</td>\n",
              "    </tr>\n",
              "    <tr>\n",
              "      <td>2</td>\n",
              "      <td>2.062500</td>\n",
              "      <td>1.947822</td>\n",
              "      <td>0.218099</td>\n",
              "    </tr>\n",
              "    <tr>\n",
              "      <td>3</td>\n",
              "      <td>1.762400</td>\n",
              "      <td>2.161429</td>\n",
              "      <td>0.187500</td>\n",
              "    </tr>\n",
              "    <tr>\n",
              "      <td>4</td>\n",
              "      <td>1.226100</td>\n",
              "      <td>2.723784</td>\n",
              "      <td>0.177083</td>\n",
              "    </tr>\n",
              "    <tr>\n",
              "      <td>5</td>\n",
              "      <td>0.585400</td>\n",
              "      <td>4.005829</td>\n",
              "      <td>0.184896</td>\n",
              "    </tr>\n",
              "    <tr>\n",
              "      <td>6</td>\n",
              "      <td>0.166800</td>\n",
              "      <td>4.573924</td>\n",
              "      <td>0.234375</td>\n",
              "    </tr>\n",
              "    <tr>\n",
              "      <td>7</td>\n",
              "      <td>0.049300</td>\n",
              "      <td>5.164403</td>\n",
              "      <td>0.202474</td>\n",
              "    </tr>\n",
              "    <tr>\n",
              "      <td>8</td>\n",
              "      <td>0.006100</td>\n",
              "      <td>5.232408</td>\n",
              "      <td>0.208984</td>\n",
              "    </tr>\n",
              "  </tbody>\n",
              "</table><p>"
            ],
            "text/plain": [
              "<IPython.core.display.HTML object>"
            ]
          },
          "metadata": {},
          "output_type": "display_data"
        },
        {
          "data": {
            "application/vnd.jupyter.widget-view+json": {
              "model_id": "0e7ac9d27c184fd4bf1d46498db94f1a",
              "version_major": 2,
              "version_minor": 0
            },
            "text/plain": [
              "Downloading builder script:   0%|          | 0.00/4.20k [00:00<?, ?B/s]"
            ]
          },
          "metadata": {},
          "output_type": "display_data"
        },
        {
          "data": {
            "text/plain": [
              "TrainOutput(global_step=3768, training_loss=0.7775677567043375, metrics={'train_runtime': 875.9845, 'train_samples_per_second': 34.375, 'train_steps_per_second': 4.301, 'total_flos': 7923226912751616.0, 'train_loss': 0.7775677567043375, 'epoch': 8.0})"
            ]
          },
          "execution_count": 23,
          "metadata": {},
          "output_type": "execute_result"
        }
      ],
      "source": [
        "trainer.train()"
      ]
    },
    {
      "cell_type": "markdown",
      "metadata": {
        "id": "VyRUoSjisw0m"
      },
      "source": [
        "The plot on the changes of trainingh loss, validation loss and accuracy"
      ]
    },
    {
      "cell_type": "code",
      "execution_count": null,
      "metadata": {
        "colab": {
          "base_uri": "https://localhost:8080/",
          "height": 803
        },
        "id": "faav3NjOswVN",
        "outputId": "2b0d9729-6aba-427d-f9ee-76983616fbac"
      },
      "outputs": [
        {
          "data": {
            "image/png": "[encoded data removed]",
            "text/plain": [
              "<Figure size 800x400 with 1 Axes>"
            ]
          },
          "metadata": {},
          "output_type": "display_data"
        },
        {
          "data": {
            "image/png": "[encoded data removed]",
            "text/plain": [
              "<Figure size 800x400 with 1 Axes>"
            ]
          },
          "metadata": {},
          "output_type": "display_data"
        }
      ],
      "source": [
        "import matplotlib.pyplot as plt\n",
        "\n",
        "log_history = trainer.state.log_history\n",
        "\n",
        "epochs = []\n",
        "training_loss = [None] * len(epochs)  # Initialize with None\n",
        "validation_loss = [None] * len(epochs)  # Initialize with None\n",
        "accuracy = []\n",
        "\n",
        "# Extracting data from log_history\n",
        "for log in log_history:\n",
        "    if 'epoch' in log:\n",
        "        epoch_index = int(log['epoch']) - 1  # Convert to 0-indexed\n",
        "        while len(epochs) <= epoch_index:  # Append to epochs list if this epoch is not yet included\n",
        "            epochs.append(len(epochs) + 1)\n",
        "            training_loss.append(None)  # Append None for this new epoch\n",
        "            validation_loss.append(None)  # Append None for this new epoch\n",
        "        # Now we safely assume that the lengths of the lists are equal to epoch_index + 1\n",
        "        if 'loss' in log:\n",
        "            training_loss[epoch_index] = log['loss']\n",
        "        if 'eval_loss' in log:\n",
        "            validation_loss[epoch_index] = log['eval_loss']\n",
        "        if 'eval_accuracy' in log:\n",
        "            accuracy.append(log['eval_accuracy'])\n",
        "\n",
        "# Filter out the epochs where we have validation loss to match with training loss\n",
        "valid_epochs = [epoch for epoch, val_loss in zip(epochs, validation_loss) if val_loss is not None]\n",
        "valid_validation_loss = [val_loss for val_loss in validation_loss if val_loss is not None]\n",
        "\n",
        "# Comparison plot of training and validation loss\n",
        "plt.figure(figsize=(8, 4))\n",
        "plt.plot(epochs, training_loss, label='Training Loss', marker='o')\n",
        "plt.plot(valid_epochs, valid_validation_loss, label='Validation Loss', marker='x')\n",
        "plt.xlabel('Epoch')\n",
        "plt.ylabel('Loss')\n",
        "plt.title('Training vs Validation Loss')\n",
        "plt.legend()\n",
        "plt.grid(True)\n",
        "plt.show()\n",
        "\n",
        "# Ensure the list lengths match for accuracy plot\n",
        "while len(accuracy) < len(epochs):\n",
        "    accuracy.append(None)\n",
        "\n",
        "# Separate plot for accuracy\n",
        "plt.figure(figsize=(8, 4))\n",
        "plt.plot(epochs, accuracy, label='Accuracy', color='green', marker='o')\n",
        "plt.xlabel('Epoch')\n",
        "plt.ylabel('Accuracy')\n",
        "plt.title('Accuracy per Epoch')\n",
        "plt.legend()\n",
        "plt.grid(True)\n",
        "plt.show()"
      ]
    },
    {
      "cell_type": "markdown",
      "metadata": {
        "id": "sZyueQOvtVr6"
      },
      "source": [
        "Confusion Matrix on the BERT Transformer"
      ]
    },
    {
      "cell_type": "code",
      "execution_count": null,
      "metadata": {
        "colab": {
          "base_uri": "https://localhost:8080/",
          "height": 709
        },
        "id": "32jYWDDUtYWN",
        "outputId": "44b3c5a7-1bb1-4f5d-9696-5ac1bfeb1bb7"
      },
      "outputs": [
        {
          "data": {
            "text/html": [],
            "text/plain": [
              "<IPython.core.display.HTML object>"
            ]
          },
          "metadata": {},
          "output_type": "display_data"
        },
        {
          "data": {
            "image/png": "[encoded data removed]",
            "text/plain": [
              "<Figure size 500x400 with 2 Axes>"
            ]
          },
          "metadata": {},
          "output_type": "display_data"
        }
      ],
      "source": [
        "#confusion matrix\n",
        "from sklearn.metrics import confusion_matrix\n",
        "import seaborn as sns\n",
        "import matplotlib.pyplot as plt\n",
        "\n",
        "predictions = trainer.predict(tokenized_datasets_test)\n",
        "y_pred = np.argmax(predictions.predictions, axis=1)\n",
        "y_true = tokenized_datasets_test['label']\n",
        "cm = confusion_matrix(y_true, y_pred)\n",
        "\n",
        "plt.figure(figsize=(5, 4))\n",
        "plt.xlabel('Predicted labels')\n",
        "plt.ylabel('True labels')\n",
        "plt.title('Confusion Matrix with True and False Labels')\n",
        "ax = sns.heatmap(cm, annot=True, fmt='g', cmap='Blues', xticklabels=id2label.values(), yticklabels=id2label.values())\n"
      ]
    },
    {
      "cell_type": "markdown",
      "metadata": {
        "id": "5O5BhRWT9TzV"
      },
      "source": [
        "##**5 epoch**"
      ]
    },
    {
      "cell_type": "markdown",
      "metadata": {
        "id": "H2E1b-fAliSj"
      },
      "source": [
        "Define and train the model with 5 epochs."
      ]
    },
    {
      "cell_type": "code",
      "execution_count": null,
      "metadata": {
        "colab": {
          "base_uri": "https://localhost:8080/"
        },
        "id": "BaSRWjjf924b",
        "outputId": "58570d46-a720-4d82-c0d3-8ab15cbde475"
      },
      "outputs": [
        {
          "name": "stderr",
          "output_type": "stream",
          "text": [
            "Some weights of BertForSequenceClassification were not initialized from the model checkpoint at bert-base-uncased and are newly initialized: ['classifier.bias', 'classifier.weight']\n",
            "You should probably TRAIN this model on a down-stream task to be able to use it for predictions and inference.\n"
          ]
        }
      ],
      "source": [
        "#Define a training arguments class\n",
        "from transformers import TrainingArguments\n",
        "training_args = TrainingArguments(\"test-trainer\", evaluation_strategy=\"epoch\", num_train_epochs=5)\n",
        "\n",
        "\n",
        "#Define the model\n",
        "num_labels = len(id2label)\n",
        "num_labels\n",
        "from transformers import AutoModelForSequenceClassification\n",
        "model = AutoModelForSequenceClassification.from_pretrained(checkpoint,num_labels=num_labels)\n",
        "\n",
        "\n",
        "#Define the compute metrics\n",
        "import evaluate\n",
        "\n",
        "def compute_metrics(eval_preds):\n",
        "    metric = evaluate.load(\"accuracy\")\n",
        "    logits, labels = eval_preds\n",
        "    predictions = np.argmax(logits, axis=-1)\n",
        "    return metric.compute(predictions=predictions, references=labels)\n",
        "\n",
        "\n",
        "#Define a trainer\n",
        "from transformers import Trainer\n",
        "\n",
        "trainer = Trainer(\n",
        "    model,\n",
        "    training_args,\n",
        "    train_dataset=tokenized_datasets_train,\n",
        "    eval_dataset=tokenized_datasets_test,\n",
        "    data_collator=data_collator,\n",
        "    tokenizer=tokenizer,\n",
        "    compute_metrics = compute_metrics,\n",
        ")"
      ]
    },
    {
      "cell_type": "code",
      "execution_count": null,
      "metadata": {
        "colab": {
          "base_uri": "https://localhost:8080/",
          "height": 264
        },
        "id": "8hi3llbq94mF",
        "outputId": "46048a4c-d366-48aa-f848-dc609d236a15"
      },
      "outputs": [
        {
          "data": {
            "text/html": [
              "\n",
              "    <div>\n",
              "      \n",
              "      <progress value='2355' max='2355' style='width:300px; height:20px; vertical-align: middle;'></progress>\n",
              "      [2355/2355 09:07, Epoch 5/5]\n",
              "    </div>\n",
              "    <table border=\"1\" class=\"dataframe\">\n",
              "  <thead>\n",
              " <tr style=\"text-align: left;\">\n",
              "      <th>Epoch</th>\n",
              "      <th>Training Loss</th>\n",
              "      <th>Validation Loss</th>\n",
              "      <th>Accuracy</th>\n",
              "    </tr>\n",
              "  </thead>\n",
              "  <tbody>\n",
              "    <tr>\n",
              "      <td>1</td>\n",
              "      <td>No log</td>\n",
              "      <td>2.004365</td>\n",
              "      <td>0.134766</td>\n",
              "    </tr>\n",
              "    <tr>\n",
              "      <td>2</td>\n",
              "      <td>2.071700</td>\n",
              "      <td>1.953544</td>\n",
              "      <td>0.162109</td>\n",
              "    </tr>\n",
              "    <tr>\n",
              "      <td>3</td>\n",
              "      <td>1.789400</td>\n",
              "      <td>2.034272</td>\n",
              "      <td>0.203776</td>\n",
              "    </tr>\n",
              "    <tr>\n",
              "      <td>4</td>\n",
              "      <td>1.268700</td>\n",
              "      <td>2.581603</td>\n",
              "      <td>0.171224</td>\n",
              "    </tr>\n",
              "    <tr>\n",
              "      <td>5</td>\n",
              "      <td>0.686900</td>\n",
              "      <td>2.747876</td>\n",
              "      <td>0.225260</td>\n",
              "    </tr>\n",
              "  </tbody>\n",
              "</table><p>"
            ],
            "text/plain": [
              "<IPython.core.display.HTML object>"
            ]
          },
          "metadata": {},
          "output_type": "display_data"
        },
        {
          "data": {
            "text/plain": [
              "TrainOutput(global_step=2355, training_loss=1.2882614556897725, metrics={'train_runtime': 548.8262, 'train_samples_per_second': 34.291, 'train_steps_per_second': 4.291, 'total_flos': 4952016820469760.0, 'train_loss': 1.2882614556897725, 'epoch': 5.0})"
            ]
          },
          "execution_count": 16,
          "metadata": {},
          "output_type": "execute_result"
        }
      ],
      "source": [
        "trainer.train()"
      ]
    },
    {
      "cell_type": "markdown",
      "metadata": {
        "id": "ahos0_rAlj94"
      },
      "source": [
        "Do the plotting as above."
      ]
    },
    {
      "cell_type": "code",
      "execution_count": null,
      "metadata": {
        "colab": {
          "base_uri": "https://localhost:8080/",
          "height": 803
        },
        "id": "vjQpsqQ6-CZI",
        "outputId": "e154bbf2-3d1c-4b3d-ec51-012fa7e9c2df"
      },
      "outputs": [
        {
          "data": {
            "image/png": "[encoded data removed]",
            "text/plain": [
              "<Figure size 800x400 with 1 Axes>"
            ]
          },
          "metadata": {},
          "output_type": "display_data"
        },
        {
          "data": {
            "image/png": "[encoded data removed]",
            "text/plain": [
              "<Figure size 800x400 with 1 Axes>"
            ]
          },
          "metadata": {},
          "output_type": "display_data"
        }
      ],
      "source": [
        "import matplotlib.pyplot as plt\n",
        "\n",
        "# Assuming trainer.state.log_history contains the logged metrics\n",
        "log_history = trainer.state.log_history\n",
        "\n",
        "epochs = []\n",
        "training_loss = [None] * len(epochs)  # Initialize with None\n",
        "validation_loss = [None] * len(epochs)  # Initialize with None\n",
        "accuracy = []\n",
        "\n",
        "# Extracting data from log_history\n",
        "for log in log_history:\n",
        "    if 'epoch' in log:\n",
        "        epoch_index = int(log['epoch']) - 1  # Convert to 0-indexed\n",
        "        while len(epochs) <= epoch_index:  # Append to epochs list if this epoch is not yet included\n",
        "            epochs.append(len(epochs) + 1)\n",
        "            training_loss.append(None)  # Append None for this new epoch\n",
        "            validation_loss.append(None)  # Append None for this new epoch\n",
        "        # Now we safely assume that the lengths of the lists are equal to epoch_index + 1\n",
        "        if 'loss' in log:\n",
        "            training_loss[epoch_index] = log['loss']\n",
        "        if 'eval_loss' in log:\n",
        "            validation_loss[epoch_index] = log['eval_loss']\n",
        "        if 'eval_accuracy' in log:\n",
        "            accuracy.append(log['eval_accuracy'])\n",
        "\n",
        "# Filter out the epochs where we have validation loss to match with training loss\n",
        "valid_epochs = [epoch for epoch, val_loss in zip(epochs, validation_loss) if val_loss is not None]\n",
        "valid_validation_loss = [val_loss for val_loss in validation_loss if val_loss is not None]\n",
        "\n",
        "# Comparison plot of training and validation loss\n",
        "plt.figure(figsize=(8, 4))\n",
        "plt.plot(epochs, training_loss, label='Training Loss', marker='o')\n",
        "plt.plot(valid_epochs, valid_validation_loss, label='Validation Loss', marker='x')\n",
        "plt.xlabel('Epoch')\n",
        "plt.ylabel('Loss')\n",
        "plt.title('Training vs Validation Loss')\n",
        "plt.legend()\n",
        "plt.grid(True)\n",
        "plt.show()\n",
        "\n",
        "# Ensure the list lengths match for accuracy plot\n",
        "while len(accuracy) < len(epochs):\n",
        "    accuracy.append(None)\n",
        "\n",
        "# Separate plot for accuracy\n",
        "plt.figure(figsize=(8, 4))\n",
        "plt.plot(epochs, accuracy, label='Accuracy', color='green', marker='o')\n",
        "plt.xlabel('Epoch')\n",
        "plt.ylabel('Accuracy')\n",
        "plt.title('Accuracy per Epoch')\n",
        "plt.legend()\n",
        "plt.grid(True)\n",
        "plt.show()"
      ]
    },
    {
      "cell_type": "markdown",
      "metadata": {
        "id": "cynv7tLIlo4e"
      },
      "source": [
        "And this is the confusion matrix."
      ]
    },
    {
      "cell_type": "code",
      "execution_count": null,
      "metadata": {
        "colab": {
          "base_uri": "https://localhost:8080/",
          "height": 709
        },
        "id": "MML2acGj-C-q",
        "outputId": "38be9e4a-83bd-47ac-849c-fddf140641b3"
      },
      "outputs": [
        {
          "data": {
            "text/html": [],
            "text/plain": [
              "<IPython.core.display.HTML object>"
            ]
          },
          "metadata": {},
          "output_type": "display_data"
        },
        {
          "data": {
            "image/png": "[encoded data removed]",
            "text/plain": [
              "<Figure size 500x400 with 2 Axes>"
            ]
          },
          "metadata": {},
          "output_type": "display_data"
        }
      ],
      "source": [
        "#confusion matrix\n",
        "from sklearn.metrics import confusion_matrix\n",
        "import seaborn as sns\n",
        "import matplotlib.pyplot as plt\n",
        "\n",
        "predictions = trainer.predict(tokenized_datasets_test)\n",
        "y_pred = np.argmax(predictions.predictions, axis=1)\n",
        "y_true = tokenized_datasets_test['label']\n",
        "cm = confusion_matrix(y_true, y_pred)\n",
        "\n",
        "plt.figure(figsize=(5, 4))\n",
        "plt.xlabel('Predicted labels')\n",
        "plt.ylabel('True labels')\n",
        "plt.title('Confusion Matrix with True and False Labels')\n",
        "ax = sns.heatmap(cm, annot=True, fmt='g', cmap='Blues', xticklabels=id2label.values(), yticklabels=id2label.values())"
      ]
    }
  ],
  "metadata": {
    "colab": {
      "machine_shape": "hm",
      "provenance": []
    },
    "kernelspec": {
      "display_name": "Python 3",
      "name": "python3"
    },
    "language_info": {
      "name": "python"
    },
    "widgets": {
      "application/vnd.jupyter.widget-state+json": {
        "02b1ce6ea63f49c3baecfcb1d8f71e98": {
          "model_module": "@jupyter-widgets/controls",
          "model_module_version": "1.5.0",
          "model_name": "HTMLModel",
          "state": {
            "_dom_classes": [],
            "_model_module": "@jupyter-widgets/controls",
            "_model_module_version": "1.5.0",
            "_model_name": "HTMLModel",
            "_view_count": null,
            "_view_module": "@jupyter-widgets/controls",
            "_view_module_version": "1.5.0",
            "_view_name": "HTMLView",
            "description": "",
            "description_tooltip": null,
            "layout": "IPY_MODEL_e9a07457133e4be190c188d2e4b31dc3",
            "placeholder": "​",
            "style": "IPY_MODEL_13b86f8ff9ed44879a39377bd406d83e",
            "value": " 1536/1536 [01:07&lt;00:00, 22.73 examples/s]"
          }
        },
        "0385eba5bc0f46d1a33740c44f9bd14a": {
          "model_module": "@jupyter-widgets/controls",
          "model_module_version": "1.5.0",
          "model_name": "HBoxModel",
          "state": {
            "_dom_classes": [],
            "_model_module": "@jupyter-widgets/controls",
            "_model_module_version": "1.5.0",
            "_model_name": "HBoxModel",
            "_view_count": null,
            "_view_module": "@jupyter-widgets/controls",
            "_view_module_version": "1.5.0",
            "_view_name": "HBoxView",
            "box_style": "",
            "children": [
              "IPY_MODEL_9ab5e92c887c47248215b82a5bea1742",
              "IPY_MODEL_31ec384a50e64ff29b07b1072eab36ff",
              "IPY_MODEL_e84f4d3143654b278a0723c8365deb39"
            ],
            "layout": "IPY_MODEL_37875e85e6d942148625cb0e4982da2a"
          }
        },
        "04ca3d6ad66a4d1698a3ad79acc7c0d3": {
          "model_module": "@jupyter-widgets/controls",
          "model_module_version": "1.5.0",
          "model_name": "FloatProgressModel",
          "state": {
            "_dom_classes": [],
            "_model_module": "@jupyter-widgets/controls",
            "_model_module_version": "1.5.0",
            "_model_name": "FloatProgressModel",
            "_view_count": null,
            "_view_module": "@jupyter-widgets/controls",
            "_view_module_version": "1.5.0",
            "_view_name": "ProgressView",
            "bar_style": "success",
            "description": "",
            "description_tooltip": null,
            "layout": "IPY_MODEL_b92c07a1415640069275b6a6dc54c51d",
            "max": 1842,
            "min": 0,
            "orientation": "horizontal",
            "style": "IPY_MODEL_9c566700b95c4624aeaf3c75ffeef923",
            "value": 1842
          }
        },
        "0661ccf598ce46b69b817c0238616b75": {
          "model_module": "@jupyter-widgets/base",
          "model_module_version": "1.2.0",
          "model_name": "LayoutModel",
          "state": {
            "_model_module": "@jupyter-widgets/base",
            "_model_module_version": "1.2.0",
            "_model_name": "LayoutModel",
            "_view_count": null,
            "_view_module": "@jupyter-widgets/base",
            "_view_module_version": "1.2.0",
            "_view_name": "LayoutView",
            "align_content": null,
            "align_items": null,
            "align_self": null,
            "border": null,
            "bottom": null,
            "display": null,
            "flex": null,
            "flex_flow": null,
            "grid_area": null,
            "grid_auto_columns": null,
            "grid_auto_flow": null,
            "grid_auto_rows": null,
            "grid_column": null,
            "grid_gap": null,
            "grid_row": null,
            "grid_template_areas": null,
            "grid_template_columns": null,
            "grid_template_rows": null,
            "height": null,
            "justify_content": null,
            "justify_items": null,
            "left": null,
            "margin": null,
            "max_height": null,
            "max_width": null,
            "min_height": null,
            "min_width": null,
            "object_fit": null,
            "object_position": null,
            "order": null,
            "overflow": null,
            "overflow_x": null,
            "overflow_y": null,
            "padding": null,
            "right": null,
            "top": null,
            "visibility": null,
            "width": null
          }
        },
        "0b7813b7ce8f43d7abb324d0fbe0637b": {
          "model_module": "@jupyter-widgets/base",
          "model_module_version": "1.2.0",
          "model_name": "LayoutModel",
          "state": {
            "_model_module": "@jupyter-widgets/base",
            "_model_module_version": "1.2.0",
            "_model_name": "LayoutModel",
            "_view_count": null,
            "_view_module": "@jupyter-widgets/base",
            "_view_module_version": "1.2.0",
            "_view_name": "LayoutView",
            "align_content": null,
            "align_items": null,
            "align_self": null,
            "border": null,
            "bottom": null,
            "display": null,
            "flex": null,
            "flex_flow": null,
            "grid_area": null,
            "grid_auto_columns": null,
            "grid_auto_flow": null,
            "grid_auto_rows": null,
            "grid_column": null,
            "grid_gap": null,
            "grid_row": null,
            "grid_template_areas": null,
            "grid_template_columns": null,
            "grid_template_rows": null,
            "height": null,
            "justify_content": null,
            "justify_items": null,
            "left": null,
            "margin": null,
            "max_height": null,
            "max_width": null,
            "min_height": null,
            "min_width": null,
            "object_fit": null,
            "object_position": null,
            "order": null,
            "overflow": null,
            "overflow_x": null,
            "overflow_y": null,
            "padding": null,
            "right": null,
            "top": null,
            "visibility": null,
            "width": null
          }
        },
        "0deafdc49f674198981b09fde5adb998": {
          "model_module": "@jupyter-widgets/base",
          "model_module_version": "1.2.0",
          "model_name": "LayoutModel",
          "state": {
            "_model_module": "@jupyter-widgets/base",
            "_model_module_version": "1.2.0",
            "_model_name": "LayoutModel",
            "_view_count": null,
            "_view_module": "@jupyter-widgets/base",
            "_view_module_version": "1.2.0",
            "_view_name": "LayoutView",
            "align_content": null,
            "align_items": null,
            "align_self": null,
            "border": null,
            "bottom": null,
            "display": null,
            "flex": null,
            "flex_flow": null,
            "grid_area": null,
            "grid_auto_columns": null,
            "grid_auto_flow": null,
            "grid_auto_rows": null,
            "grid_column": null,
            "grid_gap": null,
            "grid_row": null,
            "grid_template_areas": null,
            "grid_template_columns": null,
            "grid_template_rows": null,
            "height": null,
            "justify_content": null,
            "justify_items": null,
            "left": null,
            "margin": null,
            "max_height": null,
            "max_width": null,
            "min_height": null,
            "min_width": null,
            "object_fit": null,
            "object_position": null,
            "order": null,
            "overflow": null,
            "overflow_x": null,
            "overflow_y": null,
            "padding": null,
            "right": null,
            "top": null,
            "visibility": null,
            "width": null
          }
        },
        "0f514b77f2c74f4691714adb0aa11a27": {
          "model_module": "@jupyter-widgets/base",
          "model_module_version": "1.2.0",
          "model_name": "LayoutModel",
          "state": {
            "_model_module": "@jupyter-widgets/base",
            "_model_module_version": "1.2.0",
            "_model_name": "LayoutModel",
            "_view_count": null,
            "_view_module": "@jupyter-widgets/base",
            "_view_module_version": "1.2.0",
            "_view_name": "LayoutView",
            "align_content": null,
            "align_items": null,
            "align_self": null,
            "border": null,
            "bottom": null,
            "display": null,
            "flex": null,
            "flex_flow": null,
            "grid_area": null,
            "grid_auto_columns": null,
            "grid_auto_flow": null,
            "grid_auto_rows": null,
            "grid_column": null,
            "grid_gap": null,
            "grid_row": null,
            "grid_template_areas": null,
            "grid_template_columns": null,
            "grid_template_rows": null,
            "height": null,
            "justify_content": null,
            "justify_items": null,
            "left": null,
            "margin": null,
            "max_height": null,
            "max_width": null,
            "min_height": null,
            "min_width": null,
            "object_fit": null,
            "object_position": null,
            "order": null,
            "overflow": null,
            "overflow_x": null,
            "overflow_y": null,
            "padding": null,
            "right": null,
            "top": null,
            "visibility": null,
            "width": null
          }
        },
        "1149bd70715247f58006558fbbcb0d90": {
          "model_module": "@jupyter-widgets/controls",
          "model_module_version": "1.5.0",
          "model_name": "HBoxModel",
          "state": {
            "_dom_classes": [],
            "_model_module": "@jupyter-widgets/controls",
            "_model_module_version": "1.5.0",
            "_model_name": "HBoxModel",
            "_view_count": null,
            "_view_module": "@jupyter-widgets/controls",
            "_view_module_version": "1.5.0",
            "_view_name": "HBoxView",
            "box_style": "",
            "children": [
              "IPY_MODEL_2307c010e33947d2b7f1a6f57a72bf74",
              "IPY_MODEL_9c31e362d99e4f93aeb2034b8e2b63a8",
              "IPY_MODEL_af37f9dd798d4ee6a40074b2745c4c04"
            ],
            "layout": "IPY_MODEL_22c2e67ed5ac41efa2aef926231a81c0"
          }
        },
        "1377df68be2d4d75847d3a86a732aae4": {
          "model_module": "@jupyter-widgets/base",
          "model_module_version": "1.2.0",
          "model_name": "LayoutModel",
          "state": {
            "_model_module": "@jupyter-widgets/base",
            "_model_module_version": "1.2.0",
            "_model_name": "LayoutModel",
            "_view_count": null,
            "_view_module": "@jupyter-widgets/base",
            "_view_module_version": "1.2.0",
            "_view_name": "LayoutView",
            "align_content": null,
            "align_items": null,
            "align_self": null,
            "border": null,
            "bottom": null,
            "display": null,
            "flex": null,
            "flex_flow": null,
            "grid_area": null,
            "grid_auto_columns": null,
            "grid_auto_flow": null,
            "grid_auto_rows": null,
            "grid_column": null,
            "grid_gap": null,
            "grid_row": null,
            "grid_template_areas": null,
            "grid_template_columns": null,
            "grid_template_rows": null,
            "height": null,
            "justify_content": null,
            "justify_items": null,
            "left": null,
            "margin": null,
            "max_height": null,
            "max_width": null,
            "min_height": null,
            "min_width": null,
            "object_fit": null,
            "object_position": null,
            "order": null,
            "overflow": null,
            "overflow_x": null,
            "overflow_y": null,
            "padding": null,
            "right": null,
            "top": null,
            "visibility": null,
            "width": null
          }
        },
        "13b86f8ff9ed44879a39377bd406d83e": {
          "model_module": "@jupyter-widgets/controls",
          "model_module_version": "1.5.0",
          "model_name": "DescriptionStyleModel",
          "state": {
            "_model_module": "@jupyter-widgets/controls",
            "_model_module_version": "1.5.0",
            "_model_name": "DescriptionStyleModel",
            "_view_count": null,
            "_view_module": "@jupyter-widgets/base",
            "_view_module_version": "1.2.0",
            "_view_name": "StyleView",
            "description_width": ""
          }
        },
        "15ef90dd0d52498b90a8313219dffd8f": {
          "model_module": "@jupyter-widgets/base",
          "model_module_version": "1.2.0",
          "model_name": "LayoutModel",
          "state": {
            "_model_module": "@jupyter-widgets/base",
            "_model_module_version": "1.2.0",
            "_model_name": "LayoutModel",
            "_view_count": null,
            "_view_module": "@jupyter-widgets/base",
            "_view_module_version": "1.2.0",
            "_view_name": "LayoutView",
            "align_content": null,
            "align_items": null,
            "align_self": null,
            "border": null,
            "bottom": null,
            "display": null,
            "flex": null,
            "flex_flow": null,
            "grid_area": null,
            "grid_auto_columns": null,
            "grid_auto_flow": null,
            "grid_auto_rows": null,
            "grid_column": null,
            "grid_gap": null,
            "grid_row": null,
            "grid_template_areas": null,
            "grid_template_columns": null,
            "grid_template_rows": null,
            "height": null,
            "justify_content": null,
            "justify_items": null,
            "left": null,
            "margin": null,
            "max_height": null,
            "max_width": null,
            "min_height": null,
            "min_width": null,
            "object_fit": null,
            "object_position": null,
            "order": null,
            "overflow": null,
            "overflow_x": null,
            "overflow_y": null,
            "padding": null,
            "right": null,
            "top": null,
            "visibility": null,
            "width": null
          }
        },
        "16d5ac02cb1e45029e270ea3807ba808": {
          "model_module": "@jupyter-widgets/base",
          "model_module_version": "1.2.0",
          "model_name": "LayoutModel",
          "state": {
            "_model_module": "@jupyter-widgets/base",
            "_model_module_version": "1.2.0",
            "_model_name": "LayoutModel",
            "_view_count": null,
            "_view_module": "@jupyter-widgets/base",
            "_view_module_version": "1.2.0",
            "_view_name": "LayoutView",
            "align_content": null,
            "align_items": null,
            "align_self": null,
            "border": null,
            "bottom": null,
            "display": null,
            "flex": null,
            "flex_flow": null,
            "grid_area": null,
            "grid_auto_columns": null,
            "grid_auto_flow": null,
            "grid_auto_rows": null,
            "grid_column": null,
            "grid_gap": null,
            "grid_row": null,
            "grid_template_areas": null,
            "grid_template_columns": null,
            "grid_template_rows": null,
            "height": null,
            "justify_content": null,
            "justify_items": null,
            "left": null,
            "margin": null,
            "max_height": null,
            "max_width": null,
            "min_height": null,
            "min_width": null,
            "object_fit": null,
            "object_position": null,
            "order": null,
            "overflow": null,
            "overflow_x": null,
            "overflow_y": null,
            "padding": null,
            "right": null,
            "top": null,
            "visibility": null,
            "width": null
          }
        },
        "1af6d45c279a4eac9b981823c0813383": {
          "model_module": "@jupyter-widgets/controls",
          "model_module_version": "1.5.0",
          "model_name": "HTMLModel",
          "state": {
            "_dom_classes": [],
            "_model_module": "@jupyter-widgets/controls",
            "_model_module_version": "1.5.0",
            "_model_name": "HTMLModel",
            "_view_count": null,
            "_view_module": "@jupyter-widgets/controls",
            "_view_module_version": "1.5.0",
            "_view_name": "HTMLView",
            "description": "",
            "description_tooltip": null,
            "layout": "IPY_MODEL_6b29c34840ba4e46957141fab0d0ccc0",
            "placeholder": "​",
            "style": "IPY_MODEL_77527dccdbb84c8180fe27cf940b5133",
            "value": " 1.84k/1.84k [00:00&lt;00:00, 174kB/s]"
          }
        },
        "1b12c859456143c5baa433e72ecd7ea8": {
          "model_module": "@jupyter-widgets/base",
          "model_module_version": "1.2.0",
          "model_name": "LayoutModel",
          "state": {
            "_model_module": "@jupyter-widgets/base",
            "_model_module_version": "1.2.0",
            "_model_name": "LayoutModel",
            "_view_count": null,
            "_view_module": "@jupyter-widgets/base",
            "_view_module_version": "1.2.0",
            "_view_name": "LayoutView",
            "align_content": null,
            "align_items": null,
            "align_self": null,
            "border": null,
            "bottom": null,
            "display": null,
            "flex": null,
            "flex_flow": null,
            "grid_area": null,
            "grid_auto_columns": null,
            "grid_auto_flow": null,
            "grid_auto_rows": null,
            "grid_column": null,
            "grid_gap": null,
            "grid_row": null,
            "grid_template_areas": null,
            "grid_template_columns": null,
            "grid_template_rows": null,
            "height": null,
            "justify_content": null,
            "justify_items": null,
            "left": null,
            "margin": null,
            "max_height": null,
            "max_width": null,
            "min_height": null,
            "min_width": null,
            "object_fit": null,
            "object_position": null,
            "order": null,
            "overflow": null,
            "overflow_x": null,
            "overflow_y": null,
            "padding": null,
            "right": null,
            "top": null,
            "visibility": null,
            "width": null
          }
        },
        "1c06d8da75c14dd9be34dabf46f6b141": {
          "model_module": "@jupyter-widgets/controls",
          "model_module_version": "1.5.0",
          "model_name": "ProgressStyleModel",
          "state": {
            "_model_module": "@jupyter-widgets/controls",
            "_model_module_version": "1.5.0",
            "_model_name": "ProgressStyleModel",
            "_view_count": null,
            "_view_module": "@jupyter-widgets/base",
            "_view_module_version": "1.2.0",
            "_view_name": "StyleView",
            "bar_color": null,
            "description_width": ""
          }
        },
        "205aa07f78ad410c84dd7a5677a1c240": {
          "model_module": "@jupyter-widgets/base",
          "model_module_version": "1.2.0",
          "model_name": "LayoutModel",
          "state": {
            "_model_module": "@jupyter-widgets/base",
            "_model_module_version": "1.2.0",
            "_model_name": "LayoutModel",
            "_view_count": null,
            "_view_module": "@jupyter-widgets/base",
            "_view_module_version": "1.2.0",
            "_view_name": "LayoutView",
            "align_content": null,
            "align_items": null,
            "align_self": null,
            "border": null,
            "bottom": null,
            "display": null,
            "flex": null,
            "flex_flow": null,
            "grid_area": null,
            "grid_auto_columns": null,
            "grid_auto_flow": null,
            "grid_auto_rows": null,
            "grid_column": null,
            "grid_gap": null,
            "grid_row": null,
            "grid_template_areas": null,
            "grid_template_columns": null,
            "grid_template_rows": null,
            "height": null,
            "justify_content": null,
            "justify_items": null,
            "left": null,
            "margin": null,
            "max_height": null,
            "max_width": null,
            "min_height": null,
            "min_width": null,
            "object_fit": null,
            "object_position": null,
            "order": null,
            "overflow": null,
            "overflow_x": null,
            "overflow_y": null,
            "padding": null,
            "right": null,
            "top": null,
            "visibility": null,
            "width": null
          }
        },
        "2125e07a42a64d21939b4e3983f7e5b1": {
          "model_module": "@jupyter-widgets/controls",
          "model_module_version": "1.5.0",
          "model_name": "DescriptionStyleModel",
          "state": {
            "_model_module": "@jupyter-widgets/controls",
            "_model_module_version": "1.5.0",
            "_model_name": "DescriptionStyleModel",
            "_view_count": null,
            "_view_module": "@jupyter-widgets/base",
            "_view_module_version": "1.2.0",
            "_view_name": "StyleView",
            "description_width": ""
          }
        },
        "22c2e67ed5ac41efa2aef926231a81c0": {
          "model_module": "@jupyter-widgets/base",
          "model_module_version": "1.2.0",
          "model_name": "LayoutModel",
          "state": {
            "_model_module": "@jupyter-widgets/base",
            "_model_module_version": "1.2.0",
            "_model_name": "LayoutModel",
            "_view_count": null,
            "_view_module": "@jupyter-widgets/base",
            "_view_module_version": "1.2.0",
            "_view_name": "LayoutView",
            "align_content": null,
            "align_items": null,
            "align_self": null,
            "border": null,
            "bottom": null,
            "display": null,
            "flex": null,
            "flex_flow": null,
            "grid_area": null,
            "grid_auto_columns": null,
            "grid_auto_flow": null,
            "grid_auto_rows": null,
            "grid_column": null,
            "grid_gap": null,
            "grid_row": null,
            "grid_template_areas": null,
            "grid_template_columns": null,
            "grid_template_rows": null,
            "height": null,
            "justify_content": null,
            "justify_items": null,
            "left": null,
            "margin": null,
            "max_height": null,
            "max_width": null,
            "min_height": null,
            "min_width": null,
            "object_fit": null,
            "object_position": null,
            "order": null,
            "overflow": null,
            "overflow_x": null,
            "overflow_y": null,
            "padding": null,
            "right": null,
            "top": null,
            "visibility": null,
            "width": null
          }
        },
        "2307c010e33947d2b7f1a6f57a72bf74": {
          "model_module": "@jupyter-widgets/controls",
          "model_module_version": "1.5.0",
          "model_name": "HTMLModel",
          "state": {
            "_dom_classes": [],
            "_model_module": "@jupyter-widgets/controls",
            "_model_module_version": "1.5.0",
            "_model_name": "HTMLModel",
            "_view_count": null,
            "_view_module": "@jupyter-widgets/controls",
            "_view_module_version": "1.5.0",
            "_view_name": "HTMLView",
            "description": "",
            "description_tooltip": null,
            "layout": "IPY_MODEL_50c9317f8e3e4badbd270d6ebd1de50d",
            "placeholder": "​",
            "style": "IPY_MODEL_2125e07a42a64d21939b4e3983f7e5b1",
            "value": "Casting to class labels: 100%"
          }
        },
        "2a3ab95bf69545cbb2b53e933d71b39d": {
          "model_module": "@jupyter-widgets/controls",
          "model_module_version": "1.5.0",
          "model_name": "HBoxModel",
          "state": {
            "_dom_classes": [],
            "_model_module": "@jupyter-widgets/controls",
            "_model_module_version": "1.5.0",
            "_model_name": "HBoxModel",
            "_view_count": null,
            "_view_module": "@jupyter-widgets/controls",
            "_view_module_version": "1.5.0",
            "_view_name": "HBoxView",
            "box_style": "",
            "children": [
              "IPY_MODEL_3c610f3e9bef4854acf8e5ddd114d288",
              "IPY_MODEL_04ca3d6ad66a4d1698a3ad79acc7c0d3",
              "IPY_MODEL_1af6d45c279a4eac9b981823c0813383"
            ],
            "layout": "IPY_MODEL_7ddc065a84134dd38aa3011754485759"
          }
        },
        "2cf6707d1adf4941a496e50ed3672e14": {
          "model_module": "@jupyter-widgets/base",
          "model_module_version": "1.2.0",
          "model_name": "LayoutModel",
          "state": {
            "_model_module": "@jupyter-widgets/base",
            "_model_module_version": "1.2.0",
            "_model_name": "LayoutModel",
            "_view_count": null,
            "_view_module": "@jupyter-widgets/base",
            "_view_module_version": "1.2.0",
            "_view_name": "LayoutView",
            "align_content": null,
            "align_items": null,
            "align_self": null,
            "border": null,
            "bottom": null,
            "display": null,
            "flex": null,
            "flex_flow": null,
            "grid_area": null,
            "grid_auto_columns": null,
            "grid_auto_flow": null,
            "grid_auto_rows": null,
            "grid_column": null,
            "grid_gap": null,
            "grid_row": null,
            "grid_template_areas": null,
            "grid_template_columns": null,
            "grid_template_rows": null,
            "height": null,
            "justify_content": null,
            "justify_items": null,
            "left": null,
            "margin": null,
            "max_height": null,
            "max_width": null,
            "min_height": null,
            "min_width": null,
            "object_fit": null,
            "object_position": null,
            "order": null,
            "overflow": null,
            "overflow_x": null,
            "overflow_y": null,
            "padding": null,
            "right": null,
            "top": null,
            "visibility": null,
            "width": null
          }
        },
        "30d761f1277040c6b345f3c3efcb510a": {
          "model_module": "@jupyter-widgets/base",
          "model_module_version": "1.2.0",
          "model_name": "LayoutModel",
          "state": {
            "_model_module": "@jupyter-widgets/base",
            "_model_module_version": "1.2.0",
            "_model_name": "LayoutModel",
            "_view_count": null,
            "_view_module": "@jupyter-widgets/base",
            "_view_module_version": "1.2.0",
            "_view_name": "LayoutView",
            "align_content": null,
            "align_items": null,
            "align_self": null,
            "border": null,
            "bottom": null,
            "display": null,
            "flex": null,
            "flex_flow": null,
            "grid_area": null,
            "grid_auto_columns": null,
            "grid_auto_flow": null,
            "grid_auto_rows": null,
            "grid_column": null,
            "grid_gap": null,
            "grid_row": null,
            "grid_template_areas": null,
            "grid_template_columns": null,
            "grid_template_rows": null,
            "height": null,
            "justify_content": null,
            "justify_items": null,
            "left": null,
            "margin": null,
            "max_height": null,
            "max_width": null,
            "min_height": null,
            "min_width": null,
            "object_fit": null,
            "object_position": null,
            "order": null,
            "overflow": null,
            "overflow_x": null,
            "overflow_y": null,
            "padding": null,
            "right": null,
            "top": null,
            "visibility": null,
            "width": null
          }
        },
        "31ec384a50e64ff29b07b1072eab36ff": {
          "model_module": "@jupyter-widgets/controls",
          "model_module_version": "1.5.0",
          "model_name": "FloatProgressModel",
          "state": {
            "_dom_classes": [],
            "_model_module": "@jupyter-widgets/controls",
            "_model_module_version": "1.5.0",
            "_model_name": "FloatProgressModel",
            "_view_count": null,
            "_view_module": "@jupyter-widgets/controls",
            "_view_module_version": "1.5.0",
            "_view_name": "ProgressView",
            "bar_style": "success",
            "description": "",
            "description_tooltip": null,
            "layout": "IPY_MODEL_0deafdc49f674198981b09fde5adb998",
            "max": 6142,
            "min": 0,
            "orientation": "horizontal",
            "style": "IPY_MODEL_c81a9e26779144d39c7453ca217e57a8",
            "value": 6142
          }
        },
        "32e9735e446c4455b6c3f5760f5938cc": {
          "model_module": "@jupyter-widgets/controls",
          "model_module_version": "1.5.0",
          "model_name": "HTMLModel",
          "state": {
            "_dom_classes": [],
            "_model_module": "@jupyter-widgets/controls",
            "_model_module_version": "1.5.0",
            "_model_name": "HTMLModel",
            "_view_count": null,
            "_view_module": "@jupyter-widgets/controls",
            "_view_module_version": "1.5.0",
            "_view_name": "HTMLView",
            "description": "",
            "description_tooltip": null,
            "layout": "IPY_MODEL_2cf6707d1adf4941a496e50ed3672e14",
            "placeholder": "​",
            "style": "IPY_MODEL_90a8b780a436417db5fdfa066bd0d8b6",
            "value": "preprocessor_config.json: 100%"
          }
        },
        "3378f99f877f4aa6a5536c3c9bb9f22f": {
          "model_module": "@jupyter-widgets/controls",
          "model_module_version": "1.5.0",
          "model_name": "DescriptionStyleModel",
          "state": {
            "_model_module": "@jupyter-widgets/controls",
            "_model_module_version": "1.5.0",
            "_model_name": "DescriptionStyleModel",
            "_view_count": null,
            "_view_module": "@jupyter-widgets/base",
            "_view_module_version": "1.2.0",
            "_view_name": "StyleView",
            "description_width": ""
          }
        },
        "3519f95fb0674122b5ea3272da2843c8": {
          "model_module": "@jupyter-widgets/controls",
          "model_module_version": "1.5.0",
          "model_name": "DescriptionStyleModel",
          "state": {
            "_model_module": "@jupyter-widgets/controls",
            "_model_module_version": "1.5.0",
            "_model_name": "DescriptionStyleModel",
            "_view_count": null,
            "_view_module": "@jupyter-widgets/base",
            "_view_module_version": "1.2.0",
            "_view_name": "StyleView",
            "description_width": ""
          }
        },
        "357de6d96f324d86b91b170b6149f021": {
          "model_module": "@jupyter-widgets/base",
          "model_module_version": "1.2.0",
          "model_name": "LayoutModel",
          "state": {
            "_model_module": "@jupyter-widgets/base",
            "_model_module_version": "1.2.0",
            "_model_name": "LayoutModel",
            "_view_count": null,
            "_view_module": "@jupyter-widgets/base",
            "_view_module_version": "1.2.0",
            "_view_name": "LayoutView",
            "align_content": null,
            "align_items": null,
            "align_self": null,
            "border": null,
            "bottom": null,
            "display": null,
            "flex": null,
            "flex_flow": null,
            "grid_area": null,
            "grid_auto_columns": null,
            "grid_auto_flow": null,
            "grid_auto_rows": null,
            "grid_column": null,
            "grid_gap": null,
            "grid_row": null,
            "grid_template_areas": null,
            "grid_template_columns": null,
            "grid_template_rows": null,
            "height": null,
            "justify_content": null,
            "justify_items": null,
            "left": null,
            "margin": null,
            "max_height": null,
            "max_width": null,
            "min_height": null,
            "min_width": null,
            "object_fit": null,
            "object_position": null,
            "order": null,
            "overflow": null,
            "overflow_x": null,
            "overflow_y": null,
            "padding": null,
            "right": null,
            "top": null,
            "visibility": null,
            "width": null
          }
        },
        "37875e85e6d942148625cb0e4982da2a": {
          "model_module": "@jupyter-widgets/base",
          "model_module_version": "1.2.0",
          "model_name": "LayoutModel",
          "state": {
            "_model_module": "@jupyter-widgets/base",
            "_model_module_version": "1.2.0",
            "_model_name": "LayoutModel",
            "_view_count": null,
            "_view_module": "@jupyter-widgets/base",
            "_view_module_version": "1.2.0",
            "_view_name": "LayoutView",
            "align_content": null,
            "align_items": null,
            "align_self": null,
            "border": null,
            "bottom": null,
            "display": null,
            "flex": null,
            "flex_flow": null,
            "grid_area": null,
            "grid_auto_columns": null,
            "grid_auto_flow": null,
            "grid_auto_rows": null,
            "grid_column": null,
            "grid_gap": null,
            "grid_row": null,
            "grid_template_areas": null,
            "grid_template_columns": null,
            "grid_template_rows": null,
            "height": null,
            "justify_content": null,
            "justify_items": null,
            "left": null,
            "margin": null,
            "max_height": null,
            "max_width": null,
            "min_height": null,
            "min_width": null,
            "object_fit": null,
            "object_position": null,
            "order": null,
            "overflow": null,
            "overflow_x": null,
            "overflow_y": null,
            "padding": null,
            "right": null,
            "top": null,
            "visibility": null,
            "width": null
          }
        },
        "3c610f3e9bef4854acf8e5ddd114d288": {
          "model_module": "@jupyter-widgets/controls",
          "model_module_version": "1.5.0",
          "model_name": "HTMLModel",
          "state": {
            "_dom_classes": [],
            "_model_module": "@jupyter-widgets/controls",
            "_model_module_version": "1.5.0",
            "_model_name": "HTMLModel",
            "_view_count": null,
            "_view_module": "@jupyter-widgets/controls",
            "_view_module_version": "1.5.0",
            "_view_name": "HTMLView",
            "description": "",
            "description_tooltip": null,
            "layout": "IPY_MODEL_8cc894bb81434379b7bf7e69830c498e",
            "placeholder": "​",
            "style": "IPY_MODEL_cf5206e927164d68b0dc6004c8aba85a",
            "value": "config.json: 100%"
          }
        },
        "3cb62019ca9e49cda11fe365f442f0f4": {
          "model_module": "@jupyter-widgets/controls",
          "model_module_version": "1.5.0",
          "model_name": "HTMLModel",
          "state": {
            "_dom_classes": [],
            "_model_module": "@jupyter-widgets/controls",
            "_model_module_version": "1.5.0",
            "_model_name": "HTMLModel",
            "_view_count": null,
            "_view_module": "@jupyter-widgets/controls",
            "_view_module_version": "1.5.0",
            "_view_name": "HTMLView",
            "description": "",
            "description_tooltip": null,
            "layout": "IPY_MODEL_357de6d96f324d86b91b170b6149f021",
            "placeholder": "​",
            "style": "IPY_MODEL_4b53bb229cbc465eab2c4ffcfa9bfb2b",
            "value": " 1536/1536 [00:29&lt;00:00, 56.21 examples/s]"
          }
        },
        "41a0e61227244c1db751eaf19b9c280a": {
          "model_module": "@jupyter-widgets/controls",
          "model_module_version": "1.5.0",
          "model_name": "FloatProgressModel",
          "state": {
            "_dom_classes": [],
            "_model_module": "@jupyter-widgets/controls",
            "_model_module_version": "1.5.0",
            "_model_name": "FloatProgressModel",
            "_view_count": null,
            "_view_module": "@jupyter-widgets/controls",
            "_view_module_version": "1.5.0",
            "_view_name": "ProgressView",
            "bar_style": "success",
            "description": "",
            "description_tooltip": null,
            "layout": "IPY_MODEL_4995b322d1bf441e81ed4bdf85abb204",
            "max": 159,
            "min": 0,
            "orientation": "horizontal",
            "style": "IPY_MODEL_87511b6c9514415ba3ed2b270ac82fea",
            "value": 159
          }
        },
        "41c98f51581749adbadfdc640527838c": {
          "model_module": "@jupyter-widgets/controls",
          "model_module_version": "1.5.0",
          "model_name": "DescriptionStyleModel",
          "state": {
            "_model_module": "@jupyter-widgets/controls",
            "_model_module_version": "1.5.0",
            "_model_name": "DescriptionStyleModel",
            "_view_count": null,
            "_view_module": "@jupyter-widgets/base",
            "_view_module_version": "1.2.0",
            "_view_name": "StyleView",
            "description_width": ""
          }
        },
        "47fa4744b2314463b3c3aa78b497ef28": {
          "model_module": "@jupyter-widgets/controls",
          "model_module_version": "1.5.0",
          "model_name": "HBoxModel",
          "state": {
            "_dom_classes": [],
            "_model_module": "@jupyter-widgets/controls",
            "_model_module_version": "1.5.0",
            "_model_name": "HBoxModel",
            "_view_count": null,
            "_view_module": "@jupyter-widgets/controls",
            "_view_module_version": "1.5.0",
            "_view_name": "HBoxView",
            "box_style": "",
            "children": [
              "IPY_MODEL_fba428e24f7844e9bd7d47cd7c576976",
              "IPY_MODEL_6682258f24384a9a9b2b958c5c006ea6",
              "IPY_MODEL_67d3b2c0b182441fb7f2371083474353"
            ],
            "layout": "IPY_MODEL_8f53eec758d84ea7a087559b9a0c8304"
          }
        },
        "4995b322d1bf441e81ed4bdf85abb204": {
          "model_module": "@jupyter-widgets/base",
          "model_module_version": "1.2.0",
          "model_name": "LayoutModel",
          "state": {
            "_model_module": "@jupyter-widgets/base",
            "_model_module_version": "1.2.0",
            "_model_name": "LayoutModel",
            "_view_count": null,
            "_view_module": "@jupyter-widgets/base",
            "_view_module_version": "1.2.0",
            "_view_name": "LayoutView",
            "align_content": null,
            "align_items": null,
            "align_self": null,
            "border": null,
            "bottom": null,
            "display": null,
            "flex": null,
            "flex_flow": null,
            "grid_area": null,
            "grid_auto_columns": null,
            "grid_auto_flow": null,
            "grid_auto_rows": null,
            "grid_column": null,
            "grid_gap": null,
            "grid_row": null,
            "grid_template_areas": null,
            "grid_template_columns": null,
            "grid_template_rows": null,
            "height": null,
            "justify_content": null,
            "justify_items": null,
            "left": null,
            "margin": null,
            "max_height": null,
            "max_width": null,
            "min_height": null,
            "min_width": null,
            "object_fit": null,
            "object_position": null,
            "order": null,
            "overflow": null,
            "overflow_x": null,
            "overflow_y": null,
            "padding": null,
            "right": null,
            "top": null,
            "visibility": null,
            "width": null
          }
        },
        "4b53bb229cbc465eab2c4ffcfa9bfb2b": {
          "model_module": "@jupyter-widgets/controls",
          "model_module_version": "1.5.0",
          "model_name": "DescriptionStyleModel",
          "state": {
            "_model_module": "@jupyter-widgets/controls",
            "_model_module_version": "1.5.0",
            "_model_name": "DescriptionStyleModel",
            "_view_count": null,
            "_view_module": "@jupyter-widgets/base",
            "_view_module_version": "1.2.0",
            "_view_name": "StyleView",
            "description_width": ""
          }
        },
        "4f0916657cd34f6897f5fa50ffed5ef3": {
          "model_module": "@jupyter-widgets/base",
          "model_module_version": "1.2.0",
          "model_name": "LayoutModel",
          "state": {
            "_model_module": "@jupyter-widgets/base",
            "_model_module_version": "1.2.0",
            "_model_name": "LayoutModel",
            "_view_count": null,
            "_view_module": "@jupyter-widgets/base",
            "_view_module_version": "1.2.0",
            "_view_name": "LayoutView",
            "align_content": null,
            "align_items": null,
            "align_self": null,
            "border": null,
            "bottom": null,
            "display": null,
            "flex": null,
            "flex_flow": null,
            "grid_area": null,
            "grid_auto_columns": null,
            "grid_auto_flow": null,
            "grid_auto_rows": null,
            "grid_column": null,
            "grid_gap": null,
            "grid_row": null,
            "grid_template_areas": null,
            "grid_template_columns": null,
            "grid_template_rows": null,
            "height": null,
            "justify_content": null,
            "justify_items": null,
            "left": null,
            "margin": null,
            "max_height": null,
            "max_width": null,
            "min_height": null,
            "min_width": null,
            "object_fit": null,
            "object_position": null,
            "order": null,
            "overflow": null,
            "overflow_x": null,
            "overflow_y": null,
            "padding": null,
            "right": null,
            "top": null,
            "visibility": null,
            "width": null
          }
        },
        "4f5d7a882b4c4f8097e380f522daa20b": {
          "model_module": "@jupyter-widgets/base",
          "model_module_version": "1.2.0",
          "model_name": "LayoutModel",
          "state": {
            "_model_module": "@jupyter-widgets/base",
            "_model_module_version": "1.2.0",
            "_model_name": "LayoutModel",
            "_view_count": null,
            "_view_module": "@jupyter-widgets/base",
            "_view_module_version": "1.2.0",
            "_view_name": "LayoutView",
            "align_content": null,
            "align_items": null,
            "align_self": null,
            "border": null,
            "bottom": null,
            "display": null,
            "flex": null,
            "flex_flow": null,
            "grid_area": null,
            "grid_auto_columns": null,
            "grid_auto_flow": null,
            "grid_auto_rows": null,
            "grid_column": null,
            "grid_gap": null,
            "grid_row": null,
            "grid_template_areas": null,
            "grid_template_columns": null,
            "grid_template_rows": null,
            "height": null,
            "justify_content": null,
            "justify_items": null,
            "left": null,
            "margin": null,
            "max_height": null,
            "max_width": null,
            "min_height": null,
            "min_width": null,
            "object_fit": null,
            "object_position": null,
            "order": null,
            "overflow": null,
            "overflow_x": null,
            "overflow_y": null,
            "padding": null,
            "right": null,
            "top": null,
            "visibility": null,
            "width": null
          }
        },
        "502f1487421444b2aeadd0c56cbfb235": {
          "model_module": "@jupyter-widgets/controls",
          "model_module_version": "1.5.0",
          "model_name": "LabelModel",
          "state": {
            "_dom_classes": [],
            "_model_module": "@jupyter-widgets/controls",
            "_model_module_version": "1.5.0",
            "_model_name": "LabelModel",
            "_view_count": null,
            "_view_module": "@jupyter-widgets/controls",
            "_view_module_version": "1.5.0",
            "_view_name": "LabelView",
            "description": "",
            "description_tooltip": null,
            "layout": "IPY_MODEL_d4e021dcee8c4d45af4f1515150d23a7",
            "placeholder": "​",
            "style": "IPY_MODEL_3519f95fb0674122b5ea3272da2843c8",
            "value": "0.027 MB of 0.027 MB uploaded\r"
          }
        },
        "50c9317f8e3e4badbd270d6ebd1de50d": {
          "model_module": "@jupyter-widgets/base",
          "model_module_version": "1.2.0",
          "model_name": "LayoutModel",
          "state": {
            "_model_module": "@jupyter-widgets/base",
            "_model_module_version": "1.2.0",
            "_model_name": "LayoutModel",
            "_view_count": null,
            "_view_module": "@jupyter-widgets/base",
            "_view_module_version": "1.2.0",
            "_view_name": "LayoutView",
            "align_content": null,
            "align_items": null,
            "align_self": null,
            "border": null,
            "bottom": null,
            "display": null,
            "flex": null,
            "flex_flow": null,
            "grid_area": null,
            "grid_auto_columns": null,
            "grid_auto_flow": null,
            "grid_auto_rows": null,
            "grid_column": null,
            "grid_gap": null,
            "grid_row": null,
            "grid_template_areas": null,
            "grid_template_columns": null,
            "grid_template_rows": null,
            "height": null,
            "justify_content": null,
            "justify_items": null,
            "left": null,
            "margin": null,
            "max_height": null,
            "max_width": null,
            "min_height": null,
            "min_width": null,
            "object_fit": null,
            "object_position": null,
            "order": null,
            "overflow": null,
            "overflow_x": null,
            "overflow_y": null,
            "padding": null,
            "right": null,
            "top": null,
            "visibility": null,
            "width": null
          }
        },
        "54cee7114f344c958877a34ecea802d3": {
          "model_module": "@jupyter-widgets/base",
          "model_module_version": "1.2.0",
          "model_name": "LayoutModel",
          "state": {
            "_model_module": "@jupyter-widgets/base",
            "_model_module_version": "1.2.0",
            "_model_name": "LayoutModel",
            "_view_count": null,
            "_view_module": "@jupyter-widgets/base",
            "_view_module_version": "1.2.0",
            "_view_name": "LayoutView",
            "align_content": null,
            "align_items": null,
            "align_self": null,
            "border": null,
            "bottom": null,
            "display": null,
            "flex": null,
            "flex_flow": null,
            "grid_area": null,
            "grid_auto_columns": null,
            "grid_auto_flow": null,
            "grid_auto_rows": null,
            "grid_column": null,
            "grid_gap": null,
            "grid_row": null,
            "grid_template_areas": null,
            "grid_template_columns": null,
            "grid_template_rows": null,
            "height": null,
            "justify_content": null,
            "justify_items": null,
            "left": null,
            "margin": null,
            "max_height": null,
            "max_width": null,
            "min_height": null,
            "min_width": null,
            "object_fit": null,
            "object_position": null,
            "order": null,
            "overflow": null,
            "overflow_x": null,
            "overflow_y": null,
            "padding": null,
            "right": null,
            "top": null,
            "visibility": null,
            "width": null
          }
        },
        "5902a95fdd0945eb99caaafe03e9c945": {
          "model_module": "@jupyter-widgets/base",
          "model_module_version": "1.2.0",
          "model_name": "LayoutModel",
          "state": {
            "_model_module": "@jupyter-widgets/base",
            "_model_module_version": "1.2.0",
            "_model_name": "LayoutModel",
            "_view_count": null,
            "_view_module": "@jupyter-widgets/base",
            "_view_module_version": "1.2.0",
            "_view_name": "LayoutView",
            "align_content": null,
            "align_items": null,
            "align_self": null,
            "border": null,
            "bottom": null,
            "display": null,
            "flex": null,
            "flex_flow": null,
            "grid_area": null,
            "grid_auto_columns": null,
            "grid_auto_flow": null,
            "grid_auto_rows": null,
            "grid_column": null,
            "grid_gap": null,
            "grid_row": null,
            "grid_template_areas": null,
            "grid_template_columns": null,
            "grid_template_rows": null,
            "height": null,
            "justify_content": null,
            "justify_items": null,
            "left": null,
            "margin": null,
            "max_height": null,
            "max_width": null,
            "min_height": null,
            "min_width": null,
            "object_fit": null,
            "object_position": null,
            "order": null,
            "overflow": null,
            "overflow_x": null,
            "overflow_y": null,
            "padding": null,
            "right": null,
            "top": null,
            "visibility": null,
            "width": null
          }
        },
        "5bfaddc3086449d98c732608dfd9fbf3": {
          "model_module": "@jupyter-widgets/controls",
          "model_module_version": "1.5.0",
          "model_name": "HTMLModel",
          "state": {
            "_dom_classes": [],
            "_model_module": "@jupyter-widgets/controls",
            "_model_module_version": "1.5.0",
            "_model_name": "HTMLModel",
            "_view_count": null,
            "_view_module": "@jupyter-widgets/controls",
            "_view_module_version": "1.5.0",
            "_view_name": "HTMLView",
            "description": "",
            "description_tooltip": null,
            "layout": "IPY_MODEL_1b12c859456143c5baa433e72ecd7ea8",
            "placeholder": "​",
            "style": "IPY_MODEL_5c56e3dcbd4541dfb69ae6d0e7a2cf1e",
            "value": "Map: 100%"
          }
        },
        "5c56e3dcbd4541dfb69ae6d0e7a2cf1e": {
          "model_module": "@jupyter-widgets/controls",
          "model_module_version": "1.5.0",
          "model_name": "DescriptionStyleModel",
          "state": {
            "_model_module": "@jupyter-widgets/controls",
            "_model_module_version": "1.5.0",
            "_model_name": "DescriptionStyleModel",
            "_view_count": null,
            "_view_module": "@jupyter-widgets/base",
            "_view_module_version": "1.2.0",
            "_view_name": "StyleView",
            "description_width": ""
          }
        },
        "623af4d60f6141fe8a461626912317fc": {
          "model_module": "@jupyter-widgets/controls",
          "model_module_version": "1.5.0",
          "model_name": "ProgressStyleModel",
          "state": {
            "_model_module": "@jupyter-widgets/controls",
            "_model_module_version": "1.5.0",
            "_model_name": "ProgressStyleModel",
            "_view_count": null,
            "_view_module": "@jupyter-widgets/base",
            "_view_module_version": "1.2.0",
            "_view_name": "StyleView",
            "bar_color": null,
            "description_width": ""
          }
        },
        "6442efd91f5d48b3983b1c3d784725a7": {
          "model_module": "@jupyter-widgets/base",
          "model_module_version": "1.2.0",
          "model_name": "LayoutModel",
          "state": {
            "_model_module": "@jupyter-widgets/base",
            "_model_module_version": "1.2.0",
            "_model_name": "LayoutModel",
            "_view_count": null,
            "_view_module": "@jupyter-widgets/base",
            "_view_module_version": "1.2.0",
            "_view_name": "LayoutView",
            "align_content": null,
            "align_items": null,
            "align_self": null,
            "border": null,
            "bottom": null,
            "display": null,
            "flex": null,
            "flex_flow": null,
            "grid_area": null,
            "grid_auto_columns": null,
            "grid_auto_flow": null,
            "grid_auto_rows": null,
            "grid_column": null,
            "grid_gap": null,
            "grid_row": null,
            "grid_template_areas": null,
            "grid_template_columns": null,
            "grid_template_rows": null,
            "height": null,
            "justify_content": null,
            "justify_items": null,
            "left": null,
            "margin": null,
            "max_height": null,
            "max_width": null,
            "min_height": null,
            "min_width": null,
            "object_fit": null,
            "object_position": null,
            "order": null,
            "overflow": null,
            "overflow_x": null,
            "overflow_y": null,
            "padding": null,
            "right": null,
            "top": null,
            "visibility": null,
            "width": null
          }
        },
        "64f1fe0e684341be8c252c11cb6af4ab": {
          "model_module": "@jupyter-widgets/controls",
          "model_module_version": "1.5.0",
          "model_name": "HBoxModel",
          "state": {
            "_dom_classes": [],
            "_model_module": "@jupyter-widgets/controls",
            "_model_module_version": "1.5.0",
            "_model_name": "HBoxModel",
            "_view_count": null,
            "_view_module": "@jupyter-widgets/controls",
            "_view_module_version": "1.5.0",
            "_view_name": "HBoxView",
            "box_style": "",
            "children": [
              "IPY_MODEL_32e9735e446c4455b6c3f5760f5938cc",
              "IPY_MODEL_41a0e61227244c1db751eaf19b9c280a",
              "IPY_MODEL_f7a8a44e79c94bc6b138141d9eb8df7f"
            ],
            "layout": "IPY_MODEL_30d761f1277040c6b345f3c3efcb510a"
          }
        },
        "65872e976ec941199a31c830af7677bd": {
          "model_module": "@jupyter-widgets/controls",
          "model_module_version": "1.5.0",
          "model_name": "DescriptionStyleModel",
          "state": {
            "_model_module": "@jupyter-widgets/controls",
            "_model_module_version": "1.5.0",
            "_model_name": "DescriptionStyleModel",
            "_view_count": null,
            "_view_module": "@jupyter-widgets/base",
            "_view_module_version": "1.2.0",
            "_view_name": "StyleView",
            "description_width": ""
          }
        },
        "6682258f24384a9a9b2b958c5c006ea6": {
          "model_module": "@jupyter-widgets/controls",
          "model_module_version": "1.5.0",
          "model_name": "FloatProgressModel",
          "state": {
            "_dom_classes": [],
            "_model_module": "@jupyter-widgets/controls",
            "_model_module_version": "1.5.0",
            "_model_name": "FloatProgressModel",
            "_view_count": null,
            "_view_module": "@jupyter-widgets/controls",
            "_view_module_version": "1.5.0",
            "_view_name": "ProgressView",
            "bar_style": "success",
            "description": "",
            "description_tooltip": null,
            "layout": "IPY_MODEL_0661ccf598ce46b69b817c0238616b75",
            "max": 6142,
            "min": 0,
            "orientation": "horizontal",
            "style": "IPY_MODEL_93860267d3f74fb187b86bd90270aca0",
            "value": 6142
          }
        },
        "67d3b2c0b182441fb7f2371083474353": {
          "model_module": "@jupyter-widgets/controls",
          "model_module_version": "1.5.0",
          "model_name": "HTMLModel",
          "state": {
            "_dom_classes": [],
            "_model_module": "@jupyter-widgets/controls",
            "_model_module_version": "1.5.0",
            "_model_name": "HTMLModel",
            "_view_count": null,
            "_view_module": "@jupyter-widgets/controls",
            "_view_module_version": "1.5.0",
            "_view_name": "HTMLView",
            "description": "",
            "description_tooltip": null,
            "layout": "IPY_MODEL_0f514b77f2c74f4691714adb0aa11a27",
            "placeholder": "​",
            "style": "IPY_MODEL_d28bc01928b54e5d91f0443b57456be2",
            "value": " 6142/6142 [00:47&lt;00:00, 135.11 examples/s]"
          }
        },
        "691eae46bdf74943bed414f3ceda1e0e": {
          "model_module": "@jupyter-widgets/controls",
          "model_module_version": "1.5.0",
          "model_name": "HBoxModel",
          "state": {
            "_dom_classes": [],
            "_model_module": "@jupyter-widgets/controls",
            "_model_module_version": "1.5.0",
            "_model_name": "HBoxModel",
            "_view_count": null,
            "_view_module": "@jupyter-widgets/controls",
            "_view_module_version": "1.5.0",
            "_view_name": "HBoxView",
            "box_style": "",
            "children": [
              "IPY_MODEL_5bfaddc3086449d98c732608dfd9fbf3",
              "IPY_MODEL_a47a72ef0dd247d7a029c83c870d63a3",
              "IPY_MODEL_02b1ce6ea63f49c3baecfcb1d8f71e98"
            ],
            "layout": "IPY_MODEL_e35dc57765374a358a03583a58c14517"
          }
        },
        "6b29c34840ba4e46957141fab0d0ccc0": {
          "model_module": "@jupyter-widgets/base",
          "model_module_version": "1.2.0",
          "model_name": "LayoutModel",
          "state": {
            "_model_module": "@jupyter-widgets/base",
            "_model_module_version": "1.2.0",
            "_model_name": "LayoutModel",
            "_view_count": null,
            "_view_module": "@jupyter-widgets/base",
            "_view_module_version": "1.2.0",
            "_view_name": "LayoutView",
            "align_content": null,
            "align_items": null,
            "align_self": null,
            "border": null,
            "bottom": null,
            "display": null,
            "flex": null,
            "flex_flow": null,
            "grid_area": null,
            "grid_auto_columns": null,
            "grid_auto_flow": null,
            "grid_auto_rows": null,
            "grid_column": null,
            "grid_gap": null,
            "grid_row": null,
            "grid_template_areas": null,
            "grid_template_columns": null,
            "grid_template_rows": null,
            "height": null,
            "justify_content": null,
            "justify_items": null,
            "left": null,
            "margin": null,
            "max_height": null,
            "max_width": null,
            "min_height": null,
            "min_width": null,
            "object_fit": null,
            "object_position": null,
            "order": null,
            "overflow": null,
            "overflow_x": null,
            "overflow_y": null,
            "padding": null,
            "right": null,
            "top": null,
            "visibility": null,
            "width": null
          }
        },
        "6f12fbf96cf04c468ba5554965dc0da4": {
          "model_module": "@jupyter-widgets/controls",
          "model_module_version": "1.5.0",
          "model_name": "HBoxModel",
          "state": {
            "_dom_classes": [],
            "_model_module": "@jupyter-widgets/controls",
            "_model_module_version": "1.5.0",
            "_model_name": "HBoxModel",
            "_view_count": null,
            "_view_module": "@jupyter-widgets/controls",
            "_view_module_version": "1.5.0",
            "_view_name": "HBoxView",
            "box_style": "",
            "children": [
              "IPY_MODEL_ad772621145b44ab83bd7836aeaa2820",
              "IPY_MODEL_bc7cdfbd54b94ca7bd6c26ec798cd6b3",
              "IPY_MODEL_bd3fd70e89db4fad91e5c9b9beb00c62"
            ],
            "layout": "IPY_MODEL_cde318c65bed40438bada63b453e0c2c"
          }
        },
        "6f37fabb4b704d6c83ade41829fabbbc": {
          "model_module": "@jupyter-widgets/controls",
          "model_module_version": "1.5.0",
          "model_name": "HBoxModel",
          "state": {
            "_dom_classes": [],
            "_model_module": "@jupyter-widgets/controls",
            "_model_module_version": "1.5.0",
            "_model_name": "HBoxModel",
            "_view_count": null,
            "_view_module": "@jupyter-widgets/controls",
            "_view_module_version": "1.5.0",
            "_view_name": "HBoxView",
            "box_style": "",
            "children": [
              "IPY_MODEL_f8dafbab15004b4fa69afb8cd3ab0d56",
              "IPY_MODEL_f578c4148b5d480285c1b1e52fd10f63",
              "IPY_MODEL_3cb62019ca9e49cda11fe365f442f0f4"
            ],
            "layout": "IPY_MODEL_1377df68be2d4d75847d3a86a732aae4"
          }
        },
        "77527dccdbb84c8180fe27cf940b5133": {
          "model_module": "@jupyter-widgets/controls",
          "model_module_version": "1.5.0",
          "model_name": "DescriptionStyleModel",
          "state": {
            "_model_module": "@jupyter-widgets/controls",
            "_model_module_version": "1.5.0",
            "_model_name": "DescriptionStyleModel",
            "_view_count": null,
            "_view_module": "@jupyter-widgets/base",
            "_view_module_version": "1.2.0",
            "_view_name": "StyleView",
            "description_width": ""
          }
        },
        "7ddc065a84134dd38aa3011754485759": {
          "model_module": "@jupyter-widgets/base",
          "model_module_version": "1.2.0",
          "model_name": "LayoutModel",
          "state": {
            "_model_module": "@jupyter-widgets/base",
            "_model_module_version": "1.2.0",
            "_model_name": "LayoutModel",
            "_view_count": null,
            "_view_module": "@jupyter-widgets/base",
            "_view_module_version": "1.2.0",
            "_view_name": "LayoutView",
            "align_content": null,
            "align_items": null,
            "align_self": null,
            "border": null,
            "bottom": null,
            "display": null,
            "flex": null,
            "flex_flow": null,
            "grid_area": null,
            "grid_auto_columns": null,
            "grid_auto_flow": null,
            "grid_auto_rows": null,
            "grid_column": null,
            "grid_gap": null,
            "grid_row": null,
            "grid_template_areas": null,
            "grid_template_columns": null,
            "grid_template_rows": null,
            "height": null,
            "justify_content": null,
            "justify_items": null,
            "left": null,
            "margin": null,
            "max_height": null,
            "max_width": null,
            "min_height": null,
            "min_width": null,
            "object_fit": null,
            "object_position": null,
            "order": null,
            "overflow": null,
            "overflow_x": null,
            "overflow_y": null,
            "padding": null,
            "right": null,
            "top": null,
            "visibility": null,
            "width": null
          }
        },
        "87511b6c9514415ba3ed2b270ac82fea": {
          "model_module": "@jupyter-widgets/controls",
          "model_module_version": "1.5.0",
          "model_name": "ProgressStyleModel",
          "state": {
            "_model_module": "@jupyter-widgets/controls",
            "_model_module_version": "1.5.0",
            "_model_name": "ProgressStyleModel",
            "_view_count": null,
            "_view_module": "@jupyter-widgets/base",
            "_view_module_version": "1.2.0",
            "_view_name": "StyleView",
            "bar_color": null,
            "description_width": ""
          }
        },
        "87c57a59348d444995d929e9678174a8": {
          "model_module": "@jupyter-widgets/base",
          "model_module_version": "1.2.0",
          "model_name": "LayoutModel",
          "state": {
            "_model_module": "@jupyter-widgets/base",
            "_model_module_version": "1.2.0",
            "_model_name": "LayoutModel",
            "_view_count": null,
            "_view_module": "@jupyter-widgets/base",
            "_view_module_version": "1.2.0",
            "_view_name": "LayoutView",
            "align_content": null,
            "align_items": null,
            "align_self": null,
            "border": null,
            "bottom": null,
            "display": null,
            "flex": null,
            "flex_flow": null,
            "grid_area": null,
            "grid_auto_columns": null,
            "grid_auto_flow": null,
            "grid_auto_rows": null,
            "grid_column": null,
            "grid_gap": null,
            "grid_row": null,
            "grid_template_areas": null,
            "grid_template_columns": null,
            "grid_template_rows": null,
            "height": null,
            "justify_content": null,
            "justify_items": null,
            "left": null,
            "margin": null,
            "max_height": null,
            "max_width": null,
            "min_height": null,
            "min_width": null,
            "object_fit": null,
            "object_position": null,
            "order": null,
            "overflow": null,
            "overflow_x": null,
            "overflow_y": null,
            "padding": null,
            "right": null,
            "top": null,
            "visibility": null,
            "width": null
          }
        },
        "8b99fc7a7d7546b3b9febdc1ffc2ab9f": {
          "model_module": "@jupyter-widgets/base",
          "model_module_version": "1.2.0",
          "model_name": "LayoutModel",
          "state": {
            "_model_module": "@jupyter-widgets/base",
            "_model_module_version": "1.2.0",
            "_model_name": "LayoutModel",
            "_view_count": null,
            "_view_module": "@jupyter-widgets/base",
            "_view_module_version": "1.2.0",
            "_view_name": "LayoutView",
            "align_content": null,
            "align_items": null,
            "align_self": null,
            "border": null,
            "bottom": null,
            "display": null,
            "flex": null,
            "flex_flow": null,
            "grid_area": null,
            "grid_auto_columns": null,
            "grid_auto_flow": null,
            "grid_auto_rows": null,
            "grid_column": null,
            "grid_gap": null,
            "grid_row": null,
            "grid_template_areas": null,
            "grid_template_columns": null,
            "grid_template_rows": null,
            "height": null,
            "justify_content": null,
            "justify_items": null,
            "left": null,
            "margin": null,
            "max_height": null,
            "max_width": null,
            "min_height": null,
            "min_width": null,
            "object_fit": null,
            "object_position": null,
            "order": null,
            "overflow": null,
            "overflow_x": null,
            "overflow_y": null,
            "padding": null,
            "right": null,
            "top": null,
            "visibility": null,
            "width": null
          }
        },
        "8cc894bb81434379b7bf7e69830c498e": {
          "model_module": "@jupyter-widgets/base",
          "model_module_version": "1.2.0",
          "model_name": "LayoutModel",
          "state": {
            "_model_module": "@jupyter-widgets/base",
            "_model_module_version": "1.2.0",
            "_model_name": "LayoutModel",
            "_view_count": null,
            "_view_module": "@jupyter-widgets/base",
            "_view_module_version": "1.2.0",
            "_view_name": "LayoutView",
            "align_content": null,
            "align_items": null,
            "align_self": null,
            "border": null,
            "bottom": null,
            "display": null,
            "flex": null,
            "flex_flow": null,
            "grid_area": null,
            "grid_auto_columns": null,
            "grid_auto_flow": null,
            "grid_auto_rows": null,
            "grid_column": null,
            "grid_gap": null,
            "grid_row": null,
            "grid_template_areas": null,
            "grid_template_columns": null,
            "grid_template_rows": null,
            "height": null,
            "justify_content": null,
            "justify_items": null,
            "left": null,
            "margin": null,
            "max_height": null,
            "max_width": null,
            "min_height": null,
            "min_width": null,
            "object_fit": null,
            "object_position": null,
            "order": null,
            "overflow": null,
            "overflow_x": null,
            "overflow_y": null,
            "padding": null,
            "right": null,
            "top": null,
            "visibility": null,
            "width": null
          }
        },
        "8f53eec758d84ea7a087559b9a0c8304": {
          "model_module": "@jupyter-widgets/base",
          "model_module_version": "1.2.0",
          "model_name": "LayoutModel",
          "state": {
            "_model_module": "@jupyter-widgets/base",
            "_model_module_version": "1.2.0",
            "_model_name": "LayoutModel",
            "_view_count": null,
            "_view_module": "@jupyter-widgets/base",
            "_view_module_version": "1.2.0",
            "_view_name": "LayoutView",
            "align_content": null,
            "align_items": null,
            "align_self": null,
            "border": null,
            "bottom": null,
            "display": null,
            "flex": null,
            "flex_flow": null,
            "grid_area": null,
            "grid_auto_columns": null,
            "grid_auto_flow": null,
            "grid_auto_rows": null,
            "grid_column": null,
            "grid_gap": null,
            "grid_row": null,
            "grid_template_areas": null,
            "grid_template_columns": null,
            "grid_template_rows": null,
            "height": null,
            "justify_content": null,
            "justify_items": null,
            "left": null,
            "margin": null,
            "max_height": null,
            "max_width": null,
            "min_height": null,
            "min_width": null,
            "object_fit": null,
            "object_position": null,
            "order": null,
            "overflow": null,
            "overflow_x": null,
            "overflow_y": null,
            "padding": null,
            "right": null,
            "top": null,
            "visibility": null,
            "width": null
          }
        },
        "90a8b780a436417db5fdfa066bd0d8b6": {
          "model_module": "@jupyter-widgets/controls",
          "model_module_version": "1.5.0",
          "model_name": "DescriptionStyleModel",
          "state": {
            "_model_module": "@jupyter-widgets/controls",
            "_model_module_version": "1.5.0",
            "_model_name": "DescriptionStyleModel",
            "_view_count": null,
            "_view_module": "@jupyter-widgets/base",
            "_view_module_version": "1.2.0",
            "_view_name": "StyleView",
            "description_width": ""
          }
        },
        "90ab7dbbc766456f9056d7c6ecfc9fae": {
          "model_module": "@jupyter-widgets/base",
          "model_module_version": "1.2.0",
          "model_name": "LayoutModel",
          "state": {
            "_model_module": "@jupyter-widgets/base",
            "_model_module_version": "1.2.0",
            "_model_name": "LayoutModel",
            "_view_count": null,
            "_view_module": "@jupyter-widgets/base",
            "_view_module_version": "1.2.0",
            "_view_name": "LayoutView",
            "align_content": null,
            "align_items": null,
            "align_self": null,
            "border": null,
            "bottom": null,
            "display": null,
            "flex": null,
            "flex_flow": null,
            "grid_area": null,
            "grid_auto_columns": null,
            "grid_auto_flow": null,
            "grid_auto_rows": null,
            "grid_column": null,
            "grid_gap": null,
            "grid_row": null,
            "grid_template_areas": null,
            "grid_template_columns": null,
            "grid_template_rows": null,
            "height": null,
            "justify_content": null,
            "justify_items": null,
            "left": null,
            "margin": null,
            "max_height": null,
            "max_width": null,
            "min_height": null,
            "min_width": null,
            "object_fit": null,
            "object_position": null,
            "order": null,
            "overflow": null,
            "overflow_x": null,
            "overflow_y": null,
            "padding": null,
            "right": null,
            "top": null,
            "visibility": null,
            "width": null
          }
        },
        "9207c650cfcb4b81be470643dfef1f2f": {
          "model_module": "@jupyter-widgets/controls",
          "model_module_version": "1.5.0",
          "model_name": "DescriptionStyleModel",
          "state": {
            "_model_module": "@jupyter-widgets/controls",
            "_model_module_version": "1.5.0",
            "_model_name": "DescriptionStyleModel",
            "_view_count": null,
            "_view_module": "@jupyter-widgets/base",
            "_view_module_version": "1.2.0",
            "_view_name": "StyleView",
            "description_width": ""
          }
        },
        "93860267d3f74fb187b86bd90270aca0": {
          "model_module": "@jupyter-widgets/controls",
          "model_module_version": "1.5.0",
          "model_name": "ProgressStyleModel",
          "state": {
            "_model_module": "@jupyter-widgets/controls",
            "_model_module_version": "1.5.0",
            "_model_name": "ProgressStyleModel",
            "_view_count": null,
            "_view_module": "@jupyter-widgets/base",
            "_view_module_version": "1.2.0",
            "_view_name": "StyleView",
            "bar_color": null,
            "description_width": ""
          }
        },
        "9ab5e92c887c47248215b82a5bea1742": {
          "model_module": "@jupyter-widgets/controls",
          "model_module_version": "1.5.0",
          "model_name": "HTMLModel",
          "state": {
            "_dom_classes": [],
            "_model_module": "@jupyter-widgets/controls",
            "_model_module_version": "1.5.0",
            "_model_name": "HTMLModel",
            "_view_count": null,
            "_view_module": "@jupyter-widgets/controls",
            "_view_module_version": "1.5.0",
            "_view_name": "HTMLView",
            "description": "",
            "description_tooltip": null,
            "layout": "IPY_MODEL_4f5d7a882b4c4f8097e380f522daa20b",
            "placeholder": "​",
            "style": "IPY_MODEL_3378f99f877f4aa6a5536c3c9bb9f22f",
            "value": "Map: 100%"
          }
        },
        "9c31e362d99e4f93aeb2034b8e2b63a8": {
          "model_module": "@jupyter-widgets/controls",
          "model_module_version": "1.5.0",
          "model_name": "FloatProgressModel",
          "state": {
            "_dom_classes": [],
            "_model_module": "@jupyter-widgets/controls",
            "_model_module_version": "1.5.0",
            "_model_name": "FloatProgressModel",
            "_view_count": null,
            "_view_module": "@jupyter-widgets/controls",
            "_view_module_version": "1.5.0",
            "_view_name": "ProgressView",
            "bar_style": "success",
            "description": "",
            "description_tooltip": null,
            "layout": "IPY_MODEL_0b7813b7ce8f43d7abb324d0fbe0637b",
            "max": 6142,
            "min": 0,
            "orientation": "horizontal",
            "style": "IPY_MODEL_ecda8ba129c24cfb93bab9a544bce898",
            "value": 6142
          }
        },
        "9c566700b95c4624aeaf3c75ffeef923": {
          "model_module": "@jupyter-widgets/controls",
          "model_module_version": "1.5.0",
          "model_name": "ProgressStyleModel",
          "state": {
            "_model_module": "@jupyter-widgets/controls",
            "_model_module_version": "1.5.0",
            "_model_name": "ProgressStyleModel",
            "_view_count": null,
            "_view_module": "@jupyter-widgets/base",
            "_view_module_version": "1.2.0",
            "_view_name": "StyleView",
            "bar_color": null,
            "description_width": ""
          }
        },
        "a05aac3025274fb399f81c532260f9fe": {
          "model_module": "@jupyter-widgets/controls",
          "model_module_version": "1.5.0",
          "model_name": "ProgressStyleModel",
          "state": {
            "_model_module": "@jupyter-widgets/controls",
            "_model_module_version": "1.5.0",
            "_model_name": "ProgressStyleModel",
            "_view_count": null,
            "_view_module": "@jupyter-widgets/base",
            "_view_module_version": "1.2.0",
            "_view_name": "StyleView",
            "bar_color": null,
            "description_width": ""
          }
        },
        "a47a72ef0dd247d7a029c83c870d63a3": {
          "model_module": "@jupyter-widgets/controls",
          "model_module_version": "1.5.0",
          "model_name": "FloatProgressModel",
          "state": {
            "_dom_classes": [],
            "_model_module": "@jupyter-widgets/controls",
            "_model_module_version": "1.5.0",
            "_model_name": "FloatProgressModel",
            "_view_count": null,
            "_view_module": "@jupyter-widgets/controls",
            "_view_module_version": "1.5.0",
            "_view_name": "ProgressView",
            "bar_style": "success",
            "description": "",
            "description_tooltip": null,
            "layout": "IPY_MODEL_54cee7114f344c958877a34ecea802d3",
            "max": 1536,
            "min": 0,
            "orientation": "horizontal",
            "style": "IPY_MODEL_1c06d8da75c14dd9be34dabf46f6b141",
            "value": 1536
          }
        },
        "ad513c9802644f2f86210027ed67c09e": {
          "model_module": "@jupyter-widgets/controls",
          "model_module_version": "1.5.0",
          "model_name": "DescriptionStyleModel",
          "state": {
            "_model_module": "@jupyter-widgets/controls",
            "_model_module_version": "1.5.0",
            "_model_name": "DescriptionStyleModel",
            "_view_count": null,
            "_view_module": "@jupyter-widgets/base",
            "_view_module_version": "1.2.0",
            "_view_name": "StyleView",
            "description_width": ""
          }
        },
        "ad772621145b44ab83bd7836aeaa2820": {
          "model_module": "@jupyter-widgets/controls",
          "model_module_version": "1.5.0",
          "model_name": "HTMLModel",
          "state": {
            "_dom_classes": [],
            "_model_module": "@jupyter-widgets/controls",
            "_model_module_version": "1.5.0",
            "_model_name": "HTMLModel",
            "_view_count": null,
            "_view_module": "@jupyter-widgets/controls",
            "_view_module_version": "1.5.0",
            "_view_name": "HTMLView",
            "description": "",
            "description_tooltip": null,
            "layout": "IPY_MODEL_15ef90dd0d52498b90a8313219dffd8f",
            "placeholder": "​",
            "style": "IPY_MODEL_ad513c9802644f2f86210027ed67c09e",
            "value": "Casting to class labels: 100%"
          }
        },
        "af37f9dd798d4ee6a40074b2745c4c04": {
          "model_module": "@jupyter-widgets/controls",
          "model_module_version": "1.5.0",
          "model_name": "HTMLModel",
          "state": {
            "_dom_classes": [],
            "_model_module": "@jupyter-widgets/controls",
            "_model_module_version": "1.5.0",
            "_model_name": "HTMLModel",
            "_view_count": null,
            "_view_module": "@jupyter-widgets/controls",
            "_view_module_version": "1.5.0",
            "_view_name": "HTMLView",
            "description": "",
            "description_tooltip": null,
            "layout": "IPY_MODEL_87c57a59348d444995d929e9678174a8",
            "placeholder": "​",
            "style": "IPY_MODEL_41c98f51581749adbadfdc640527838c",
            "value": " 6142/6142 [00:05&lt;00:00, 1288.07 examples/s]"
          }
        },
        "afa5ee4f1e1f4b608dbce560e837bfed": {
          "model_module": "@jupyter-widgets/controls",
          "model_module_version": "1.5.0",
          "model_name": "VBoxModel",
          "state": {
            "_dom_classes": [],
            "_model_module": "@jupyter-widgets/controls",
            "_model_module_version": "1.5.0",
            "_model_name": "VBoxModel",
            "_view_count": null,
            "_view_module": "@jupyter-widgets/controls",
            "_view_module_version": "1.5.0",
            "_view_name": "VBoxView",
            "box_style": "",
            "children": [
              "IPY_MODEL_502f1487421444b2aeadd0c56cbfb235",
              "IPY_MODEL_ea1ff884dbc44b9591ecfee0ccd049ce"
            ],
            "layout": "IPY_MODEL_4f0916657cd34f6897f5fa50ffed5ef3"
          }
        },
        "b2d4b4626f5e4360a490fbea84573ca7": {
          "model_module": "@jupyter-widgets/controls",
          "model_module_version": "1.5.0",
          "model_name": "DescriptionStyleModel",
          "state": {
            "_model_module": "@jupyter-widgets/controls",
            "_model_module_version": "1.5.0",
            "_model_name": "DescriptionStyleModel",
            "_view_count": null,
            "_view_module": "@jupyter-widgets/base",
            "_view_module_version": "1.2.0",
            "_view_name": "StyleView",
            "description_width": ""
          }
        },
        "b5005e5f68fc45e7aa569f8a8bb0294d": {
          "model_module": "@jupyter-widgets/base",
          "model_module_version": "1.2.0",
          "model_name": "LayoutModel",
          "state": {
            "_model_module": "@jupyter-widgets/base",
            "_model_module_version": "1.2.0",
            "_model_name": "LayoutModel",
            "_view_count": null,
            "_view_module": "@jupyter-widgets/base",
            "_view_module_version": "1.2.0",
            "_view_name": "LayoutView",
            "align_content": null,
            "align_items": null,
            "align_self": null,
            "border": null,
            "bottom": null,
            "display": null,
            "flex": null,
            "flex_flow": null,
            "grid_area": null,
            "grid_auto_columns": null,
            "grid_auto_flow": null,
            "grid_auto_rows": null,
            "grid_column": null,
            "grid_gap": null,
            "grid_row": null,
            "grid_template_areas": null,
            "grid_template_columns": null,
            "grid_template_rows": null,
            "height": null,
            "justify_content": null,
            "justify_items": null,
            "left": null,
            "margin": null,
            "max_height": null,
            "max_width": null,
            "min_height": null,
            "min_width": null,
            "object_fit": null,
            "object_position": null,
            "order": null,
            "overflow": null,
            "overflow_x": null,
            "overflow_y": null,
            "padding": null,
            "right": null,
            "top": null,
            "visibility": null,
            "width": null
          }
        },
        "b92c07a1415640069275b6a6dc54c51d": {
          "model_module": "@jupyter-widgets/base",
          "model_module_version": "1.2.0",
          "model_name": "LayoutModel",
          "state": {
            "_model_module": "@jupyter-widgets/base",
            "_model_module_version": "1.2.0",
            "_model_name": "LayoutModel",
            "_view_count": null,
            "_view_module": "@jupyter-widgets/base",
            "_view_module_version": "1.2.0",
            "_view_name": "LayoutView",
            "align_content": null,
            "align_items": null,
            "align_self": null,
            "border": null,
            "bottom": null,
            "display": null,
            "flex": null,
            "flex_flow": null,
            "grid_area": null,
            "grid_auto_columns": null,
            "grid_auto_flow": null,
            "grid_auto_rows": null,
            "grid_column": null,
            "grid_gap": null,
            "grid_row": null,
            "grid_template_areas": null,
            "grid_template_columns": null,
            "grid_template_rows": null,
            "height": null,
            "justify_content": null,
            "justify_items": null,
            "left": null,
            "margin": null,
            "max_height": null,
            "max_width": null,
            "min_height": null,
            "min_width": null,
            "object_fit": null,
            "object_position": null,
            "order": null,
            "overflow": null,
            "overflow_x": null,
            "overflow_y": null,
            "padding": null,
            "right": null,
            "top": null,
            "visibility": null,
            "width": null
          }
        },
        "bc7cdfbd54b94ca7bd6c26ec798cd6b3": {
          "model_module": "@jupyter-widgets/controls",
          "model_module_version": "1.5.0",
          "model_name": "FloatProgressModel",
          "state": {
            "_dom_classes": [],
            "_model_module": "@jupyter-widgets/controls",
            "_model_module_version": "1.5.0",
            "_model_name": "FloatProgressModel",
            "_view_count": null,
            "_view_module": "@jupyter-widgets/controls",
            "_view_module_version": "1.5.0",
            "_view_name": "ProgressView",
            "bar_style": "success",
            "description": "",
            "description_tooltip": null,
            "layout": "IPY_MODEL_b5005e5f68fc45e7aa569f8a8bb0294d",
            "max": 1536,
            "min": 0,
            "orientation": "horizontal",
            "style": "IPY_MODEL_a05aac3025274fb399f81c532260f9fe",
            "value": 1536
          }
        },
        "bd3fd70e89db4fad91e5c9b9beb00c62": {
          "model_module": "@jupyter-widgets/controls",
          "model_module_version": "1.5.0",
          "model_name": "HTMLModel",
          "state": {
            "_dom_classes": [],
            "_model_module": "@jupyter-widgets/controls",
            "_model_module_version": "1.5.0",
            "_model_name": "HTMLModel",
            "_view_count": null,
            "_view_module": "@jupyter-widgets/controls",
            "_view_module_version": "1.5.0",
            "_view_name": "HTMLView",
            "description": "",
            "description_tooltip": null,
            "layout": "IPY_MODEL_90ab7dbbc766456f9056d7c6ecfc9fae",
            "placeholder": "​",
            "style": "IPY_MODEL_b2d4b4626f5e4360a490fbea84573ca7",
            "value": " 1536/1536 [00:00&lt;00:00, 2078.50 examples/s]"
          }
        },
        "c594cabe2e734cefbbf37fd3211f4c94": {
          "model_module": "@jupyter-widgets/base",
          "model_module_version": "1.2.0",
          "model_name": "LayoutModel",
          "state": {
            "_model_module": "@jupyter-widgets/base",
            "_model_module_version": "1.2.0",
            "_model_name": "LayoutModel",
            "_view_count": null,
            "_view_module": "@jupyter-widgets/base",
            "_view_module_version": "1.2.0",
            "_view_name": "LayoutView",
            "align_content": null,
            "align_items": null,
            "align_self": null,
            "border": null,
            "bottom": null,
            "display": null,
            "flex": null,
            "flex_flow": null,
            "grid_area": null,
            "grid_auto_columns": null,
            "grid_auto_flow": null,
            "grid_auto_rows": null,
            "grid_column": null,
            "grid_gap": null,
            "grid_row": null,
            "grid_template_areas": null,
            "grid_template_columns": null,
            "grid_template_rows": null,
            "height": null,
            "justify_content": null,
            "justify_items": null,
            "left": null,
            "margin": null,
            "max_height": null,
            "max_width": null,
            "min_height": null,
            "min_width": null,
            "object_fit": null,
            "object_position": null,
            "order": null,
            "overflow": null,
            "overflow_x": null,
            "overflow_y": null,
            "padding": null,
            "right": null,
            "top": null,
            "visibility": null,
            "width": null
          }
        },
        "c81a9e26779144d39c7453ca217e57a8": {
          "model_module": "@jupyter-widgets/controls",
          "model_module_version": "1.5.0",
          "model_name": "ProgressStyleModel",
          "state": {
            "_model_module": "@jupyter-widgets/controls",
            "_model_module_version": "1.5.0",
            "_model_name": "ProgressStyleModel",
            "_view_count": null,
            "_view_module": "@jupyter-widgets/base",
            "_view_module_version": "1.2.0",
            "_view_name": "StyleView",
            "bar_color": null,
            "description_width": ""
          }
        },
        "cbb682126a2643ae8a08d66aba61e309": {
          "model_module": "@jupyter-widgets/controls",
          "model_module_version": "1.5.0",
          "model_name": "ProgressStyleModel",
          "state": {
            "_model_module": "@jupyter-widgets/controls",
            "_model_module_version": "1.5.0",
            "_model_name": "ProgressStyleModel",
            "_view_count": null,
            "_view_module": "@jupyter-widgets/base",
            "_view_module_version": "1.2.0",
            "_view_name": "StyleView",
            "bar_color": null,
            "description_width": ""
          }
        },
        "cde318c65bed40438bada63b453e0c2c": {
          "model_module": "@jupyter-widgets/base",
          "model_module_version": "1.2.0",
          "model_name": "LayoutModel",
          "state": {
            "_model_module": "@jupyter-widgets/base",
            "_model_module_version": "1.2.0",
            "_model_name": "LayoutModel",
            "_view_count": null,
            "_view_module": "@jupyter-widgets/base",
            "_view_module_version": "1.2.0",
            "_view_name": "LayoutView",
            "align_content": null,
            "align_items": null,
            "align_self": null,
            "border": null,
            "bottom": null,
            "display": null,
            "flex": null,
            "flex_flow": null,
            "grid_area": null,
            "grid_auto_columns": null,
            "grid_auto_flow": null,
            "grid_auto_rows": null,
            "grid_column": null,
            "grid_gap": null,
            "grid_row": null,
            "grid_template_areas": null,
            "grid_template_columns": null,
            "grid_template_rows": null,
            "height": null,
            "justify_content": null,
            "justify_items": null,
            "left": null,
            "margin": null,
            "max_height": null,
            "max_width": null,
            "min_height": null,
            "min_width": null,
            "object_fit": null,
            "object_position": null,
            "order": null,
            "overflow": null,
            "overflow_x": null,
            "overflow_y": null,
            "padding": null,
            "right": null,
            "top": null,
            "visibility": null,
            "width": null
          }
        },
        "cf5206e927164d68b0dc6004c8aba85a": {
          "model_module": "@jupyter-widgets/controls",
          "model_module_version": "1.5.0",
          "model_name": "DescriptionStyleModel",
          "state": {
            "_model_module": "@jupyter-widgets/controls",
            "_model_module_version": "1.5.0",
            "_model_name": "DescriptionStyleModel",
            "_view_count": null,
            "_view_module": "@jupyter-widgets/base",
            "_view_module_version": "1.2.0",
            "_view_name": "StyleView",
            "description_width": ""
          }
        },
        "d28bc01928b54e5d91f0443b57456be2": {
          "model_module": "@jupyter-widgets/controls",
          "model_module_version": "1.5.0",
          "model_name": "DescriptionStyleModel",
          "state": {
            "_model_module": "@jupyter-widgets/controls",
            "_model_module_version": "1.5.0",
            "_model_name": "DescriptionStyleModel",
            "_view_count": null,
            "_view_module": "@jupyter-widgets/base",
            "_view_module_version": "1.2.0",
            "_view_name": "StyleView",
            "description_width": ""
          }
        },
        "d43c27208bf84166b343bb409ec0fa07": {
          "model_module": "@jupyter-widgets/controls",
          "model_module_version": "1.5.0",
          "model_name": "DescriptionStyleModel",
          "state": {
            "_model_module": "@jupyter-widgets/controls",
            "_model_module_version": "1.5.0",
            "_model_name": "DescriptionStyleModel",
            "_view_count": null,
            "_view_module": "@jupyter-widgets/base",
            "_view_module_version": "1.2.0",
            "_view_name": "StyleView",
            "description_width": ""
          }
        },
        "d4e021dcee8c4d45af4f1515150d23a7": {
          "model_module": "@jupyter-widgets/base",
          "model_module_version": "1.2.0",
          "model_name": "LayoutModel",
          "state": {
            "_model_module": "@jupyter-widgets/base",
            "_model_module_version": "1.2.0",
            "_model_name": "LayoutModel",
            "_view_count": null,
            "_view_module": "@jupyter-widgets/base",
            "_view_module_version": "1.2.0",
            "_view_name": "LayoutView",
            "align_content": null,
            "align_items": null,
            "align_self": null,
            "border": null,
            "bottom": null,
            "display": null,
            "flex": null,
            "flex_flow": null,
            "grid_area": null,
            "grid_auto_columns": null,
            "grid_auto_flow": null,
            "grid_auto_rows": null,
            "grid_column": null,
            "grid_gap": null,
            "grid_row": null,
            "grid_template_areas": null,
            "grid_template_columns": null,
            "grid_template_rows": null,
            "height": null,
            "justify_content": null,
            "justify_items": null,
            "left": null,
            "margin": null,
            "max_height": null,
            "max_width": null,
            "min_height": null,
            "min_width": null,
            "object_fit": null,
            "object_position": null,
            "order": null,
            "overflow": null,
            "overflow_x": null,
            "overflow_y": null,
            "padding": null,
            "right": null,
            "top": null,
            "visibility": null,
            "width": null
          }
        },
        "daafc5ad09524b39ba20f1f541ee51cb": {
          "model_module": "@jupyter-widgets/controls",
          "model_module_version": "1.5.0",
          "model_name": "DescriptionStyleModel",
          "state": {
            "_model_module": "@jupyter-widgets/controls",
            "_model_module_version": "1.5.0",
            "_model_name": "DescriptionStyleModel",
            "_view_count": null,
            "_view_module": "@jupyter-widgets/base",
            "_view_module_version": "1.2.0",
            "_view_name": "StyleView",
            "description_width": ""
          }
        },
        "e35dc57765374a358a03583a58c14517": {
          "model_module": "@jupyter-widgets/base",
          "model_module_version": "1.2.0",
          "model_name": "LayoutModel",
          "state": {
            "_model_module": "@jupyter-widgets/base",
            "_model_module_version": "1.2.0",
            "_model_name": "LayoutModel",
            "_view_count": null,
            "_view_module": "@jupyter-widgets/base",
            "_view_module_version": "1.2.0",
            "_view_name": "LayoutView",
            "align_content": null,
            "align_items": null,
            "align_self": null,
            "border": null,
            "bottom": null,
            "display": null,
            "flex": null,
            "flex_flow": null,
            "grid_area": null,
            "grid_auto_columns": null,
            "grid_auto_flow": null,
            "grid_auto_rows": null,
            "grid_column": null,
            "grid_gap": null,
            "grid_row": null,
            "grid_template_areas": null,
            "grid_template_columns": null,
            "grid_template_rows": null,
            "height": null,
            "justify_content": null,
            "justify_items": null,
            "left": null,
            "margin": null,
            "max_height": null,
            "max_width": null,
            "min_height": null,
            "min_width": null,
            "object_fit": null,
            "object_position": null,
            "order": null,
            "overflow": null,
            "overflow_x": null,
            "overflow_y": null,
            "padding": null,
            "right": null,
            "top": null,
            "visibility": null,
            "width": null
          }
        },
        "e84f4d3143654b278a0723c8365deb39": {
          "model_module": "@jupyter-widgets/controls",
          "model_module_version": "1.5.0",
          "model_name": "HTMLModel",
          "state": {
            "_dom_classes": [],
            "_model_module": "@jupyter-widgets/controls",
            "_model_module_version": "1.5.0",
            "_model_name": "HTMLModel",
            "_view_count": null,
            "_view_module": "@jupyter-widgets/controls",
            "_view_module_version": "1.5.0",
            "_view_name": "HTMLView",
            "description": "",
            "description_tooltip": null,
            "layout": "IPY_MODEL_16d5ac02cb1e45029e270ea3807ba808",
            "placeholder": "​",
            "style": "IPY_MODEL_9207c650cfcb4b81be470643dfef1f2f",
            "value": " 6142/6142 [04:25&lt;00:00, 24.84 examples/s]"
          }
        },
        "e9a07457133e4be190c188d2e4b31dc3": {
          "model_module": "@jupyter-widgets/base",
          "model_module_version": "1.2.0",
          "model_name": "LayoutModel",
          "state": {
            "_model_module": "@jupyter-widgets/base",
            "_model_module_version": "1.2.0",
            "_model_name": "LayoutModel",
            "_view_count": null,
            "_view_module": "@jupyter-widgets/base",
            "_view_module_version": "1.2.0",
            "_view_name": "LayoutView",
            "align_content": null,
            "align_items": null,
            "align_self": null,
            "border": null,
            "bottom": null,
            "display": null,
            "flex": null,
            "flex_flow": null,
            "grid_area": null,
            "grid_auto_columns": null,
            "grid_auto_flow": null,
            "grid_auto_rows": null,
            "grid_column": null,
            "grid_gap": null,
            "grid_row": null,
            "grid_template_areas": null,
            "grid_template_columns": null,
            "grid_template_rows": null,
            "height": null,
            "justify_content": null,
            "justify_items": null,
            "left": null,
            "margin": null,
            "max_height": null,
            "max_width": null,
            "min_height": null,
            "min_width": null,
            "object_fit": null,
            "object_position": null,
            "order": null,
            "overflow": null,
            "overflow_x": null,
            "overflow_y": null,
            "padding": null,
            "right": null,
            "top": null,
            "visibility": null,
            "width": null
          }
        },
        "ea1ff884dbc44b9591ecfee0ccd049ce": {
          "model_module": "@jupyter-widgets/controls",
          "model_module_version": "1.5.0",
          "model_name": "FloatProgressModel",
          "state": {
            "_dom_classes": [],
            "_model_module": "@jupyter-widgets/controls",
            "_model_module_version": "1.5.0",
            "_model_name": "FloatProgressModel",
            "_view_count": null,
            "_view_module": "@jupyter-widgets/controls",
            "_view_module_version": "1.5.0",
            "_view_name": "ProgressView",
            "bar_style": "",
            "description": "",
            "description_tooltip": null,
            "layout": "IPY_MODEL_5902a95fdd0945eb99caaafe03e9c945",
            "max": 1,
            "min": 0,
            "orientation": "horizontal",
            "style": "IPY_MODEL_623af4d60f6141fe8a461626912317fc",
            "value": 1
          }
        },
        "ecda8ba129c24cfb93bab9a544bce898": {
          "model_module": "@jupyter-widgets/controls",
          "model_module_version": "1.5.0",
          "model_name": "ProgressStyleModel",
          "state": {
            "_model_module": "@jupyter-widgets/controls",
            "_model_module_version": "1.5.0",
            "_model_name": "ProgressStyleModel",
            "_view_count": null,
            "_view_module": "@jupyter-widgets/base",
            "_view_module_version": "1.2.0",
            "_view_name": "StyleView",
            "bar_color": null,
            "description_width": ""
          }
        },
        "f578c4148b5d480285c1b1e52fd10f63": {
          "model_module": "@jupyter-widgets/controls",
          "model_module_version": "1.5.0",
          "model_name": "FloatProgressModel",
          "state": {
            "_dom_classes": [],
            "_model_module": "@jupyter-widgets/controls",
            "_model_module_version": "1.5.0",
            "_model_name": "FloatProgressModel",
            "_view_count": null,
            "_view_module": "@jupyter-widgets/controls",
            "_view_module_version": "1.5.0",
            "_view_name": "ProgressView",
            "bar_style": "success",
            "description": "",
            "description_tooltip": null,
            "layout": "IPY_MODEL_8b99fc7a7d7546b3b9febdc1ffc2ab9f",
            "max": 1536,
            "min": 0,
            "orientation": "horizontal",
            "style": "IPY_MODEL_cbb682126a2643ae8a08d66aba61e309",
            "value": 1536
          }
        },
        "f7a8a44e79c94bc6b138141d9eb8df7f": {
          "model_module": "@jupyter-widgets/controls",
          "model_module_version": "1.5.0",
          "model_name": "HTMLModel",
          "state": {
            "_dom_classes": [],
            "_model_module": "@jupyter-widgets/controls",
            "_model_module_version": "1.5.0",
            "_model_name": "HTMLModel",
            "_view_count": null,
            "_view_module": "@jupyter-widgets/controls",
            "_view_module_version": "1.5.0",
            "_view_name": "HTMLView",
            "description": "",
            "description_tooltip": null,
            "layout": "IPY_MODEL_6442efd91f5d48b3983b1c3d784725a7",
            "placeholder": "​",
            "style": "IPY_MODEL_65872e976ec941199a31c830af7677bd",
            "value": " 159/159 [00:00&lt;00:00, 13.8kB/s]"
          }
        },
        "f8dafbab15004b4fa69afb8cd3ab0d56": {
          "model_module": "@jupyter-widgets/controls",
          "model_module_version": "1.5.0",
          "model_name": "HTMLModel",
          "state": {
            "_dom_classes": [],
            "_model_module": "@jupyter-widgets/controls",
            "_model_module_version": "1.5.0",
            "_model_name": "HTMLModel",
            "_view_count": null,
            "_view_module": "@jupyter-widgets/controls",
            "_view_module_version": "1.5.0",
            "_view_name": "HTMLView",
            "description": "",
            "description_tooltip": null,
            "layout": "IPY_MODEL_c594cabe2e734cefbbf37fd3211f4c94",
            "placeholder": "​",
            "style": "IPY_MODEL_d43c27208bf84166b343bb409ec0fa07",
            "value": "Saving the dataset (2/2 shards): 100%"
          }
        },
        "fba428e24f7844e9bd7d47cd7c576976": {
          "model_module": "@jupyter-widgets/controls",
          "model_module_version": "1.5.0",
          "model_name": "HTMLModel",
          "state": {
            "_dom_classes": [],
            "_model_module": "@jupyter-widgets/controls",
            "_model_module_version": "1.5.0",
            "_model_name": "HTMLModel",
            "_view_count": null,
            "_view_module": "@jupyter-widgets/controls",
            "_view_module_version": "1.5.0",
            "_view_name": "HTMLView",
            "description": "",
            "description_tooltip": null,
            "layout": "IPY_MODEL_205aa07f78ad410c84dd7a5677a1c240",
            "placeholder": "​",
            "style": "IPY_MODEL_daafc5ad09524b39ba20f1f541ee51cb",
            "value": "Saving the dataset (5/5 shards): 100%"
          }
        }
      }
    }
  },
  "nbformat": 4,
  "nbformat_minor": 0
}
